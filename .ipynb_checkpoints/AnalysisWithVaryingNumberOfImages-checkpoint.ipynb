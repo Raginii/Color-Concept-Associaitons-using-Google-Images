{
 "cells": [
  {
   "cell_type": "markdown",
   "metadata": {
    "colab_type": "text",
    "id": "view-in-github"
   },
   "source": [
    "<a href=\"https://colab.research.google.com/github/Raginii/Color-Concept-Associations-using-Google-Images/blob/master/AnalysisWithVaryingNumberOfImages.ipynb\" target=\"_parent\"><img src=\"https://colab.research.google.com/assets/colab-badge.svg\" alt=\"Open In Colab\"/></a>"
   ]
  },
  {
   "cell_type": "markdown",
   "metadata": {
    "colab_type": "text",
    "id": "dZ57Q8Cg455C"
   },
   "source": [
    "# Analysis of the best model by varying the number of images used for training"
   ]
  },
  {
   "cell_type": "code",
   "execution_count": 1,
   "metadata": {
    "colab": {
     "base_uri": "https://localhost:8080/",
     "height": 128
    },
    "colab_type": "code",
    "id": "fv0PLPoQg-f6",
    "outputId": "f9d4dc96-f751-4c50-c217-247abfba662c"
   },
   "outputs": [],
   "source": [
    "# # ## Uncomment if using Google Colab and upload file dataTop50.xlsx\n",
    "# from google.colab import drive\n",
    "# drive.mount('/content/drive')"
   ]
  },
  {
   "cell_type": "code",
   "execution_count": 3,
   "metadata": {
    "colab": {},
    "colab_type": "code",
    "id": "7bhjj4WHg-f_"
   },
   "outputs": [],
   "source": [
    "# Initialize these:\n",
    "filepath = 'dataTop50.xlsx'\n",
    "strtInd = [0, 2900, 5800, 8700, 11600, 14500, 17400, 20300, 23200, 26100, 29000, 31900, 34800]"
   ]
  },
  {
   "cell_type": "code",
   "execution_count": 4,
   "metadata": {
    "colab": {},
    "colab_type": "code",
    "id": "D6T3rWXZg-gE"
   },
   "outputs": [],
   "source": [
    " # Include imports\n",
    "import glob\n",
    "from skimage.transform import resize\n",
    "from skimage.io import imread, imsave, imshow\n",
    "import os\n",
    "import pandas as pd\n",
    "import numpy as np\n",
    "import skimage.color as skcolor\n",
    "import matplotlib.pyplot as plt\n",
    "from scipy import stats\n",
    "from sklearn import datasets, linear_model\n",
    "from sklearn.metrics import mean_squared_error, r2_score"
   ]
  },
  {
   "cell_type": "code",
   "execution_count": 5,
   "metadata": {
    "colab": {},
    "colab_type": "code",
    "id": "sJxVS7-Pg-gH"
   },
   "outputs": [],
   "source": [
    "colNames = [\"col_\"+str(i) for i in range(58)] \n",
    "allConcepts = ['mango','watermelon','honeydew','cantaloupe','grapefruit','strawberry','raspberry','blueberry','avocado','orange','lime','lemon']\n",
    "path = \"E:/GitRepo/Color-Concept-Associaitons-using-Google-Images/downloads\"\n",
    "sz = 100"
   ]
  },
  {
   "cell_type": "code",
   "execution_count": 6,
   "metadata": {
    "colab": {
     "base_uri": "https://localhost:8080/",
     "height": 35
    },
    "colab_type": "code",
    "id": "4TvAWYCrg-gL",
    "outputId": "cadf67f3-c545-47a6-feb5-d539020da213"
   },
   "outputs": [
    {
     "data": {
      "text/plain": [
       "(34800, 187)"
      ]
     },
     "execution_count": 6,
     "metadata": {},
     "output_type": "execute_result"
    }
   ],
   "source": [
    "df = pd.read_excel(filepath)\n",
    "Q = df.as_matrix()\n",
    "Q.shape"
   ]
  },
  {
   "cell_type": "markdown",
   "metadata": {
    "colab_type": "text",
    "id": "8viW8z0Jhk0p"
   },
   "source": [
    "# ** Using the features obtained from best model in CorrelationsFromFeatures **"
   ]
  },
  {
   "cell_type": "code",
   "execution_count": 9,
   "metadata": {
    "colab": {},
    "colab_type": "code",
    "id": "lO8hYpUPiIvY"
   },
   "outputs": [],
   "source": [
    "selFt = (54, 179, 180)"
   ]
  },
  {
   "cell_type": "code",
   "execution_count": 10,
   "metadata": {
    "colab": {
     "base_uri": "https://localhost:8080/",
     "height": 54
    },
    "colab_type": "code",
    "id": "rFRcgeIag-gR",
    "outputId": "9f22f46c-17e7-40dc-8eba-ecc05d883a2c"
   },
   "outputs": [
    {
     "name": "stdout",
     "output_type": "stream",
     "text": [
      "(34800, 3) (34800,)\n",
      "(34800, 4)\n"
     ]
    }
   ],
   "source": [
    "Xfull = np.copy(Q[:,selFt])\n",
    "Yfull = np.copy(Q[:,-1])\n",
    "print(Xfull.shape, Yfull.shape)\n",
    "XX = np.column_stack([Xfull,Yfull])\n",
    "print(XX.shape)"
   ]
  },
  {
   "cell_type": "code",
   "execution_count": 11,
   "metadata": {
    "colab": {},
    "colab_type": "code",
    "id": "kpvDwu3Og-gW"
   },
   "outputs": [],
   "source": [
    "# Function to computer average error, correlation and rating for all test fruit category \n",
    "# based on the features selected from the best model (Spherical + Cylindrical + categorical)\n",
    "\n",
    "        \n",
    "def getAvgErrCorr(startInd, X, y):\n",
    "    xNew = np.column_stack([X,y])\n",
    "    \n",
    "    correlation = []\n",
    "    error = []\n",
    "    \n",
    "    # Linear Regression using Cross Validation\n",
    "    # Leave one out cross validation -- strtInd holds the starting indices of set of fruit data \n",
    "    for i in range(len(startInd)-1):\n",
    "        xTemp = np.copy(xNew)\n",
    "        # Leave one entire fruit group\n",
    "        testFruit =  allConcepts[i]\n",
    "        #print(\"\\nLeaving out fruit group : \",allConcepts[i])\n",
    "        testTemp = np.copy(XX[strtInd[i]:strtInd[i+1],:]) # Get all rows from the LOO group\n",
    "        trainTemp = np.delete(xTemp,range(startInd[i],startInd[i+1]),0)\n",
    "        #print(testTemp.shape, trainTemp.shape)\n",
    "        row = len(trainTemp)\n",
    "        #Training set\n",
    "        X_train = np.column_stack([np.ones((row,1)), trainTemp[:,:-1]]) # add offset\n",
    "        y_train = np.copy(trainTemp[:,-1])\n",
    "        # Test set (hold out set)\n",
    "        row2 = len(testTemp)\n",
    "        X_test  = np.column_stack([np.ones((row2,1)), testTemp[:,:-1]]) #xTemp[row:tot,0:3]#\n",
    "        y_test  = np.copy(testTemp[:,-1])\n",
    "\n",
    "\n",
    "        # Create linear regression object\n",
    "        regr = linear_model.LinearRegression(fit_intercept=False)\n",
    "        # Train the model using the training sets\n",
    "        regr.fit(X_train, y_train)\n",
    "\n",
    "        # Make predictions using the testing set\n",
    "        y_pred = regr.predict(X_test)\n",
    "\n",
    "        ############## For test purposes - Average prediction over all Images of LOO group ############\n",
    "        totalTestImages = y_pred.size/58  #58N rows -> every image has 58 rows of data\n",
    "        avg_pred = [np.sum([y_pred[p] for p in range(q,y_pred.size,58)])/totalTestImages for q in range(58)]\n",
    "\n",
    "        # For Pearson correlation coefficient and the p-value (between avg_pred and true rating for fruit group)\n",
    "        trueRating = np.copy(y_test[0:58])\n",
    "\n",
    "        sqErr = np.sum(pow(avg_pred - trueRating,2))\n",
    "        #print(\"The true squared error (in color ratings) for left out fruit\",testFruit,\"is: %.4f\" % sqErr)\n",
    "\n",
    "        corrCoeff, pVal = stats.pearsonr(avg_pred, trueRating)\n",
    "        #print(\"\\nPearson’s correlation coefficient (between true ratings and avg predicted ratings) is %.4f\" %corrCoeff)\n",
    "        #print(\"p-value %.4f\" %pVal)\n",
    "\n",
    "        error.append(sqErr)\n",
    "        correlation.append(corrCoeff)\n",
    "\n",
    "    #return np.mean(error), np.mean(correlation)    \n",
    "    return error, correlation, np.mean(error), np.mean(correlation)"
   ]
  },
  {
   "cell_type": "markdown",
   "metadata": {
    "colab_type": "text",
    "id": "YTunxpaEkJRF"
   },
   "source": [
    "## Prepare the datset to include top images of every fruit -- 5,10,15,20, .. 50\n"
   ]
  },
  {
   "cell_type": "code",
   "execution_count": 12,
   "metadata": {
    "colab": {
     "base_uri": "https://localhost:8080/",
     "height": 35
    },
    "colab_type": "code",
    "id": "A31SL9GPg-g9",
    "outputId": "a38dbaa6-c8cd-4251-d505-bbb5d43dfd09"
   },
   "outputs": [
    {
     "data": {
      "text/plain": [
       "[50, 45, 40, 35, 30, 25, 20, 15, 10, 5]"
      ]
     },
     "execution_count": 12,
     "metadata": {},
     "output_type": "execute_result"
    }
   ],
   "source": [
    "n = [i for i in range(50,0,-5)]\n",
    "n"
   ]
  },
  {
   "cell_type": "code",
   "execution_count": 15,
   "metadata": {
    "colab": {},
    "colab_type": "code",
    "id": "9TAb_LVfkgfr"
   },
   "outputs": [],
   "source": [
    "avgErr = []\n",
    "avgCorr = []\n",
    "\n",
    "for i in n:\n",
    "    \n",
    "    startInd = [0]\n",
    "    X = np.empty((0,3), float)\n",
    "    y = np.empty((0,), float)\n",
    "    if i!=50:\n",
    "        for t in range(len(strtInd)-1):\n",
    "            X = np.r_[X, Xfull[strtInd[t]:strtInd[t+1]-(50-i)*58,:] ]\n",
    "            y = np.r_[y, Yfull[strtInd[t]:strtInd[t+1]-(50-i)*58]]\n",
    "            startInd.append(len(X))\n",
    "\n",
    "    else:\n",
    "        \n",
    "        startInd = [i for i in strtInd]\n",
    "        X = np.copy(Xfull)\n",
    "        y = np.copy(Yfull)\n",
    "        #   print(startInd)\n",
    "        #   print(X.shape)\n",
    "    _, _, e,c = getAvgErrCorr(startInd,X,y)\n",
    "    avgErr.append(e)\n",
    "    avgCorr.append(c)\n",
    "\n"
   ]
  },
  {
   "cell_type": "code",
   "execution_count": null,
   "metadata": {
    "colab": {},
    "colab_type": "code",
    "id": "CA7migeEPl6K"
   },
   "outputs": [],
   "source": []
  },
  {
   "cell_type": "code",
   "execution_count": 16,
   "metadata": {
    "colab": {
     "base_uri": "https://localhost:8080/",
     "height": 199
    },
    "colab_type": "code",
    "id": "gDC_1HjY2R2n",
    "outputId": "b7880167-fbbf-42d2-8c47-3280527f8b1d"
   },
   "outputs": [
    {
     "data": {
      "text/plain": [
       "[0.7729293303382097,\n",
       " 0.7703616918660376,\n",
       " 0.7714228139542151,\n",
       " 0.773291106704279,\n",
       " 0.7744072661832684,\n",
       " 0.7701561356670766,\n",
       " 0.7669042725092957,\n",
       " 0.7592035805533187,\n",
       " 0.7453760182442548,\n",
       " 0.7347960176639763]"
      ]
     },
     "execution_count": 16,
     "metadata": {},
     "output_type": "execute_result"
    }
   ],
   "source": [
    "avgErr"
   ]
  },
  {
   "cell_type": "code",
   "execution_count": 17,
   "metadata": {
    "colab": {
     "base_uri": "https://localhost:8080/",
     "height": 1028
    },
    "colab_type": "code",
    "id": "ICaiqYk40VpW",
    "outputId": "6cb58e4c-0082-484a-b32d-a0ff79b1c9e7"
   },
   "outputs": [
    {
     "data": {
      "image/png": "[encoded data removed]",
      "text/plain": [
       "<Figure size 1080x576 with 1 Axes>"
      ]
     },
     "metadata": {},
     "output_type": "display_data"
    },
    {
     "data": {
      "image/png": "[encoded data removed]",
      "text/plain": [
       "<Figure size 1080x576 with 1 Axes>"
      ]
     },
     "metadata": {},
     "output_type": "display_data"
    }
   ],
   "source": [
    "fig = plt.figure(figsize=(15,8))\n",
    "plt.bar(n,avgErr,width = 1.5, color = 'cyan', edgecolor = 'k',label='Spherical')\n",
    "plt.title(\"Average error vs Number of Images Used\")\n",
    "plt.xlabel('Number of Images used')\n",
    "plt.ylabel(\"Average error in the ratings of test fruit category\")\n",
    "\n",
    "fig = plt.figure(figsize=(15,8))\n",
    "plt.bar(n,avgCorr,width = 2, color = 'red', edgecolor = 'k')\n",
    "plt.title(\"Average correlation vs Number of Images Used\")\n",
    "plt.xlabel('Number of Images used')\n",
    "plt.ylabel(\"Average correlation\")\n",
    "plt.show()"
   ]
  },
  {
   "cell_type": "code",
   "execution_count": null,
   "metadata": {
    "colab": {},
    "colab_type": "code",
    "id": "QeMm-tt604Ne"
   },
   "outputs": [],
   "source": []
  },
  {
   "cell_type": "code",
   "execution_count": 59,
   "metadata": {
    "colab": {},
    "colab_type": "code",
    "id": "KYCbT0Px2fUG"
   },
   "outputs": [],
   "source": [
    "err = []\n",
    "corr = []\n",
    "n2 = [5, 50]\n",
    "for i in n2:\n",
    "    startInd = [0]\n",
    "    X = np.empty((0,3), float)\n",
    "    y = np.empty((0,), float)\n",
    "    if i!=50:\n",
    "        for t in range(len(strtInd)-1):\n",
    "            X = np.r_[X, Xfull[strtInd[t]:strtInd[t+1]-(50-i)*58,:] ]\n",
    "            y = np.r_[y, Yfull[strtInd[t]:strtInd[t+1]-(50-i)*58]]\n",
    "            startInd.append(len(X))\n",
    "\n",
    "    else:\n",
    "        startInd = [i for i in strtInd]\n",
    "        X = np.copy(Xfull)\n",
    "        y = np.copy(Yfull)\n",
    "        #   print(startInd)\n",
    "        #   print(X.shape)\n",
    "    e,c, _,_ = getAvgErrCorr(startInd,X,y)\n",
    "    err.append(e)\n",
    "    corr.append(c)\n"
   ]
  },
  {
   "cell_type": "code",
   "execution_count": 61,
   "metadata": {
    "colab": {
     "base_uri": "https://localhost:8080/",
     "height": 999
    },
    "colab_type": "code",
    "id": "YXYVucG4aWy8",
    "outputId": "62de9482-c2d8-4074-e296-46362e44b1a8"
   },
   "outputs": [
    {
     "data": {
      "image/png": "[encoded data removed]",
      "text/plain": [
       "<Figure size 1080x432 with 1 Axes>"
      ]
     },
     "metadata": {},
     "output_type": "display_data"
    },
    {
     "data": {
      "image/png": "[encoded data removed]",
      "text/plain": [
       "<Figure size 1080x432 with 1 Axes>"
      ]
     },
     "metadata": {},
     "output_type": "display_data"
    }
   ],
   "source": [
    "plt.close('all')\n",
    "barWidth = 1.5\n",
    "r1 = range(1,121,10)\n",
    "r2 = [x + barWidth for x in r1]\n",
    "\n",
    "fig = plt.figure(figsize=(15,6))\n",
    "plt.bar(r1,err[0],width = barWidth, color = 'cyan', edgecolor = 'black',label='NumImages: 5')\n",
    "plt.bar(r2,err[1],width = barWidth, color = 'violet', edgecolor = 'black',label='NumImages: 50')\n",
    "plt.xticks(range(1,121,10),allConcepts)\n",
    "plt.title(\"Error in the Ratings w.r.t. number of images used\")\n",
    "plt.ylabel('Avg squared error')\n",
    "plt.legend()\n",
    "\n",
    "fig = plt.figure(figsize=(15,6))\n",
    "plt.bar(r1,corr[0],width = barWidth, color = 'cyan', edgecolor = 'black',label='NumImages: 5')\n",
    "plt.bar(r2,corr[1],width = barWidth, color = 'violet', edgecolor = 'black',label='NumImages: 50')\n",
    "plt.xticks(range(1,121,10),allConcepts)\n",
    "plt.title(\"Correlation w.r.t. number of images used\")\n",
    "plt.ylabel('Correlation')\n",
    "plt.legend()\n",
    "\n",
    "plt.show()"
   ]
  },
  {
   "cell_type": "markdown",
   "metadata": {},
   "source": [
    "# Figure1: Showing average error and correlation wrt the # training images"
   ]
  },
  {
   "cell_type": "code",
   "execution_count": 175,
   "metadata": {},
   "outputs": [
    {
     "data": {
      "text/plain": [
       "[0.8108018415706663,\n",
       " 0.8110294238066732,\n",
       " 0.8109187193588935,\n",
       " 0.8104568509502458,\n",
       " 0.8106515139311723,\n",
       " 0.8106631554540256,\n",
       " 0.8104957086716821,\n",
       " 0.8107886225650902,\n",
       " 0.8125672070746588,\n",
       " 0.8113022695204134]"
      ]
     },
     "execution_count": 175,
     "metadata": {},
     "output_type": "execute_result"
    }
   ],
   "source": [
    "avgCorr"
   ]
  },
  {
   "cell_type": "code",
   "execution_count": 164,
   "metadata": {},
   "outputs": [
    {
     "data": {
      "text/plain": [
       "[0.7729293303382097,\n",
       " 0.7703616918660376,\n",
       " 0.7714228139542151,\n",
       " 0.773291106704279,\n",
       " 0.7744072661832684,\n",
       " 0.7701561356670766,\n",
       " 0.7669042725092957,\n",
       " 0.7592035805533187,\n",
       " 0.7453760182442548,\n",
       " 0.7347960176639763]"
      ]
     },
     "execution_count": 164,
     "metadata": {},
     "output_type": "execute_result"
    }
   ],
   "source": [
    "avgErr"
   ]
  },
  {
   "cell_type": "code",
   "execution_count": 174,
   "metadata": {
    "colab": {},
    "colab_type": "code",
    "id": "9ZjK4nDbhsms"
   },
   "outputs": [
    {
     "data": {
      "image/png": "[encoded data removed]",
      "text/plain": [
       "<Figure size 144x216 with 2 Axes>"
      ]
     },
     "metadata": {},
     "output_type": "display_data"
    }
   ],
   "source": [
    "# Fig1\n",
    "import matplotlib as mpl\n",
    "mpl.rcParams.update({'font.size': 9})\n",
    "plt.close('all')\n",
    "fig1, (ax1,  ax2)= plt.subplots(2,1,figsize=(2,3))\n",
    "ax1.plot(n,avgErr,'r.-')\n",
    "ax1.set_title(\"Error\")\n",
    "ax1.set_xlabel(\"# Training Images\")\n",
    "ax1.set_ylabel(\"Avg. Sq. Error\")\n",
    "ax1.set_ylim(0,1)\n",
    "ax1.set_yticks([0,0.5,1])\n",
    "ax1.set_xticks([10,20,30,40,50])\n",
    "ax1.set_aspect(22)\n",
    "ax1.tick_params(direction='in')\n",
    "ax2.plot(n,avgCorr,'g.-')\n",
    "ax2.set_title(\"Correlation\")\n",
    "ax2.set_xlabel(\"# Training Images\")\n",
    "ax2.set_ylabel(\"Avg. Correlation\")\n",
    "ax2.set_ylim(0,1)\n",
    "ax2.set_yticks([0,0.5,1])\n",
    "ax2.set_xticks([10,20,30,40,50])\n",
    "ax2.set_aspect(22)\n",
    "fig1.subplots_adjust(hspace=.5)\n",
    "ax2.tick_params(direction='in')\n",
    "plt.tight_layout()\n",
    "plt.savefig(\"ErrCorrNumImages.pdf\",transparent=True)\n",
    "\n",
    "plt.show()\n"
   ]
  },
  {
   "cell_type": "code",
   "execution_count": null,
   "metadata": {},
   "outputs": [],
   "source": []
  }
 ],
 "metadata": {
  "accelerator": "TPU",
  "colab": {
   "collapsed_sections": [],
   "include_colab_link": true,
   "name": "AnalysisWithVaryingNumberOfImages.ipynb",
   "provenance": [],
   "toc_visible": true,
   "version": "0.3.2"
  },
  "kernelspec": {
   "display_name": "Python 3",
   "language": "python",
   "name": "python3"
  },
  "language_info": {
   "codemirror_mode": {
    "name": "ipython",
    "version": 3
   },
   "file_extension": ".py",
   "mimetype": "text/x-python",
   "name": "python",
   "nbconvert_exporter": "python",
   "pygments_lexer": "ipython3",
   "version": "3.6.3"
  }
 },
 "nbformat": 4,
 "nbformat_minor": 1
}
