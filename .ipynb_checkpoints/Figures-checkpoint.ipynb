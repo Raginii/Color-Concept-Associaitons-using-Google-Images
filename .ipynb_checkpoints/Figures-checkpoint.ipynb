{
 "cells": [
  {
   "cell_type": "code",
   "execution_count": 4,
   "metadata": {},
   "outputs": [],
   "source": [
    "import matplotlib.pyplot as plt\n",
    "import matplotlib as mpl\n"
   ]
  },
  {
   "cell_type": "markdown",
   "metadata": {},
   "source": [
    "# Figure 1: "
   ]
  },
  {
   "cell_type": "code",
   "execution_count": 5,
   "metadata": {},
   "outputs": [],
   "source": [
    "mpl.rcParams.update({'font.size': 9})"
   ]
  },
  {
   "cell_type": "code",
   "execution_count": 22,
   "metadata": {},
   "outputs": [
    {
     "data": {
      "image/png": "[encoded data removed]",
      "text/plain": [
       "<Figure size 237.6x216 with 2 Axes>"
      ]
     },
     "metadata": {},
     "output_type": "display_data"
    }
   ],
   "source": [
    "n = [i for i in range(50,0,-5)]  \n",
    "avgCorr = [0.8108018415706663, 0.8110294238066732, 0.8109187193588935, 0.8104568509502458, 0.8106515139311723,\n",
    "           0.8106631554540256, 0.8104957086716821, 0.8107886225650902, 0.8125672070746588, 0.8113022695204134]\n",
    "avgErr = [0.7729293303382097, 0.7703616918660376, 0.7714228139542151, 0.773291106704279, 0.7744072661832684,\n",
    "           0.7701561356670766, 0.7669042725092957, 0.7592035805533187, 0.7453760182442548, 0.7347960176639763]\n",
    "# Fig1\n",
    "# fig1, (ax1,  ax2)= plt.subplots(2,1,figsize=(2,3))\n",
    "fig1, (ax1,  ax2)= plt.subplots(1,2,figsize=(3.3,3))\n",
    "ax1.plot(n,avgErr,'r.-')\n",
    "ax1.set_title(\"Error\")\n",
    "ax1.set_xlabel(\"# Training Images\")\n",
    "ax1.set_ylabel(\"Avg. Sq. Error\")\n",
    "ax1.set_ylim(0,1)\n",
    "ax1.set_yticks([0,0.5,1])\n",
    "ax1.set_xticks([10,20,30,40,50])\n",
    "ax1.set_aspect(22)\n",
    "ax1.tick_params(direction='in')\n",
    "ax2.plot(n,avgCorr,'g.-')\n",
    "ax2.set_title(\"Correlation\")\n",
    "ax2.set_xlabel(\"# Training Images\")\n",
    "ax2.set_ylabel(\"Avg. Correlation\")\n",
    "ax2.set_ylim(0,1)\n",
    "ax2.set_yticks([0,0.5,1])\n",
    "ax2.set_xticks([10,20,30,40,50])\n",
    "ax2.set_aspect(22)\n",
    "fig1.subplots_adjust(hspace=.5)\n",
    "ax2.tick_params(direction='in')\n",
    "plt.tight_layout()\n",
    "plt.savefig(\"ErrCorrNumImages.pdf\",transparent=True)\n",
    "plt.show()\n",
    "plt.close('all')"
   ]
  },
  {
   "cell_type": "code",
   "execution_count": null,
   "metadata": {},
   "outputs": [],
   "source": []
  }
 ],
 "metadata": {
  "kernelspec": {
   "display_name": "Python 3",
   "language": "python",
   "name": "python3"
  },
  "language_info": {
   "codemirror_mode": {
    "name": "ipython",
    "version": 3
   },
   "file_extension": ".py",
   "mimetype": "text/x-python",
   "name": "python",
   "nbconvert_exporter": "python",
   "pygments_lexer": "ipython3",
   "version": "3.6.3"
  }
 },
 "nbformat": 4,
 "nbformat_minor": 2
}
