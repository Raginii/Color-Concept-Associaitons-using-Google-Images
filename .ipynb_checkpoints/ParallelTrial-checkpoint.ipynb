{
 "cells": [
  {
   "cell_type": "code",
   "execution_count": null,
   "metadata": {},
   "outputs": [],
   "source": [
    "n = 3"
   ]
  },
  {
   "cell_type": "code",
   "execution_count": 4,
   "metadata": {},
   "outputs": [
    {
     "ename": "ModuleNotFoundError",
     "evalue": "No module named 'pathos'",
     "output_type": "error",
     "traceback": [
      "\u001b[1;31m---------------------------------------------------------------------------\u001b[0m",
      "\u001b[1;31mModuleNotFoundError\u001b[0m                       Traceback (most recent call last)",
      "\u001b[1;32m<ipython-input-4-b2cf1505b976>\u001b[0m in \u001b[0;36m<module>\u001b[1;34m()\u001b[0m\n\u001b[0;32m     11\u001b[0m \u001b[1;32mfrom\u001b[0m \u001b[0msklearn\u001b[0m\u001b[1;33m.\u001b[0m\u001b[0mmetrics\u001b[0m \u001b[1;32mimport\u001b[0m \u001b[0mmean_squared_error\u001b[0m\u001b[1;33m,\u001b[0m \u001b[0mr2_score\u001b[0m\u001b[1;33m\u001b[0m\u001b[0m\n\u001b[0;32m     12\u001b[0m \u001b[1;32mimport\u001b[0m \u001b[0mmultiprocessing\u001b[0m \u001b[1;32mas\u001b[0m \u001b[0mmp\u001b[0m\u001b[1;33m\u001b[0m\u001b[0m\n\u001b[1;32m---> 13\u001b[1;33m \u001b[1;32mfrom\u001b[0m \u001b[0mpathos\u001b[0m\u001b[1;33m.\u001b[0m\u001b[0mmultiprocessing\u001b[0m \u001b[1;32mimport\u001b[0m \u001b[0mProcessingPool\u001b[0m \u001b[1;32mas\u001b[0m \u001b[0mPool\u001b[0m\u001b[1;33m\u001b[0m\u001b[0m\n\u001b[0m\u001b[0;32m     14\u001b[0m \u001b[0mprint\u001b[0m\u001b[1;33m(\u001b[0m\u001b[1;34m\"Number of processors: \"\u001b[0m\u001b[1;33m,\u001b[0m \u001b[0mmp\u001b[0m\u001b[1;33m.\u001b[0m\u001b[0mcpu_count\u001b[0m\u001b[1;33m(\u001b[0m\u001b[1;33m)\u001b[0m\u001b[1;33m)\u001b[0m\u001b[1;33m\u001b[0m\u001b[0m\n",
      "\u001b[1;31mModuleNotFoundError\u001b[0m: No module named 'pathos'"
     ]
    }
   ],
   "source": [
    "import glob\n",
    "from skimage.transform import resize\n",
    "from skimage.io import imread, imsave, imshow\n",
    "import os\n",
    "import pandas as pd\n",
    "import numpy as np\n",
    "import skimage.color as skcolor\n",
    "import matplotlib.pyplot as plt\n",
    "\n",
    "from sklearn import datasets, linear_model\n",
    "from sklearn.metrics import mean_squared_error, r2_score\n",
    "import multiprocessing as mp\n",
    "from pathos.multiprocessing import ProcessingPool as Pool\n",
    "print(\"Number of processors: \", mp.cpu_count())"
   ]
  },
  {
   "cell_type": "code",
   "execution_count": null,
   "metadata": {},
   "outputs": [],
   "source": [
    "colNames = [\"col_\"+str(i) for i in range(58)] \n",
    "allConcepts = ['Mango','Watermelon','Honeydew','Cantaloupe','Grapefruit','Strawberry','Raspberry','Blueberry','Avocado','Orange','Lime','Lemon']\n",
    "\n",
    "# Read data\n",
    "# Get the color ratings data -From file data_clean.csv\n",
    "data = pd.read_csv(\"data_clean.csv\",names = colNames)\n",
    "\n",
    "# Get the LAB coordinates of colors from file LabOrig.csv\n",
    "#colorData = pd.read_csv(\"LabOrig.csv\",header=None)\n",
    "colorData = pd.read_csv(\"Lab.csv\",header=None)\n",
    "colorDataRGB = pd.read_csv(\"RGB.csv\",header=None)\n",
    "\n",
    "path = \"E:\\GitRepo\\sampleLAB\\Google Images ConceptAssociation/downloads\"\n",
    "#path = \"E:/GitRepo/sampleLAB/Google Images ConceptAssociation/downloads\"\n",
    "#if not os.path.exists( path + \"/trainResized\" ):\n",
    "#    os.makedirs( path + \"/trainResized\" )\n",
    "#if not os.path.exists( path + \"/testResized\" ):\n",
    "#    os.makedirs( path + \"/testResized\" )"
   ]
  },
  {
   "cell_type": "code",
   "execution_count": 5,
   "metadata": {},
   "outputs": [],
   "source": [
    "filepath = 'dataTop50.xlsx'\n",
    "df = pd.read_excel(filepath)\n",
    "Q = df.as_matrix()\n",
    "X = np.copy(Q)\n",
    "#xTemp =  np.copy(Q)\n",
    "strtInd = [0, 2900, 5800, 8700, 11600, 14500, 17400, 20300, 23200, 26100, 29000, 31900, 34800]"
   ]
  },
  {
   "cell_type": "code",
   "execution_count": 7,
   "metadata": {},
   "outputs": [
    {
     "data": {
      "text/plain": [
       "(34800, 187)"
      ]
     },
     "execution_count": 7,
     "metadata": {},
     "output_type": "execute_result"
    }
   ],
   "source": [
    "X.shape"
   ]
  },
  {
   "cell_type": "code",
   "execution_count": 8,
   "metadata": {},
   "outputs": [],
   "source": [
    "n = 3\n",
    "from itertools import combinations \n",
    "  \n",
    "# Get all combinations of length n\n",
    "ftList = list(combinations(range(186), n))"
   ]
  },
  {
   "cell_type": "code",
   "execution_count": 9,
   "metadata": {},
   "outputs": [],
   "source": [
    "def runRegressionSelFt(selFt):\n",
    "    print(\"Inside function\")\n",
    "    leastErr = 100\n",
    "    #minErrFeature = None\n",
    "\n",
    "    xNew = np.column_stack([X[:,selFt],X[:,-1]])\n",
    "\n",
    "    # Linear Regression using Cross Validation\n",
    "\n",
    "    # Leave one out cross validation -- strtInd holds the starting indices of set of fruit data \n",
    "\n",
    "    #print(\"\\nSelected Features : \",selFt)\n",
    "    sumErr = 0.0\n",
    "    for i in range(len(strtInd)-1):\n",
    "        xTemp = np.copy(xNew)\n",
    "        # Leave one entire fruit group\n",
    "        testFruit =  allConcepts[i]\n",
    "        #print(\"\\nLeaving out fruit group : \",allConcepts[i])\n",
    "        testTemp = np.copy(xTemp[strtInd[i]:strtInd[i+1],:]) # Get all rows from the LOO group\n",
    "        trainTemp = np.delete(xTemp,range(strtInd[i],strtInd[i+1]),0)\n",
    "        #np.random.shuffle(trainTemp)\n",
    "        row = len(trainTemp)\n",
    "        #Training set\n",
    "        X_train = np.column_stack([np.ones((row,1)), trainTemp[:,:-1]]) # add offset\n",
    "        y_train = np.copy(trainTemp[:,-1])\n",
    "        # Test set (hold out set)\n",
    "        row2 = len(testTemp)\n",
    "        X_test  = np.column_stack([np.ones((row2,1)), testTemp[:,:-1]]) #xTemp[row:tot,0:3]#\n",
    "        y_test  = np.copy(testTemp[:,-1])\n",
    "\n",
    "\n",
    "        # Create linear regression object\n",
    "        regr = linear_model.LinearRegression(fit_intercept=False)\n",
    "        #regr = linear_model.Lasso(alpha = 0.001,fit_intercept=False)\n",
    "        #regr = linear_model.Ridge(alpha = 0.001,fit_intercept=False)\n",
    "\n",
    "        # Train the model using the training sets\n",
    "        regr.fit(X_train, y_train)\n",
    "\n",
    "        # Make predictions using the testing set\n",
    "        y_pred = regr.predict(X_test)\n",
    "#         print(\"Score is : %.2f\" % regr.score(X_test, y_test))\n",
    "#         # The coefficients\n",
    "#         print('Coefficients: ', regr.coef_)\n",
    "#         #print('Intercept: \\n', regr.intercept_)\n",
    "#         # The mean squared error\n",
    "#         print(\"\\nMean squared error: %.4f\"\n",
    "#               % mean_squared_error(y_test, y_pred))\n",
    "#         # Explained variance score: 1 is perfect prediction\n",
    "#         print('Variance score: %.2f' % r2_score(y_test, y_pred))\n",
    "\n",
    "\n",
    "        ############## For test purposes - Average prediction over all Images of LOO group ############\n",
    "        totalTestImages = y_pred.size/58  #58N rows -> every image has 58 rows of data\n",
    "        avg_pred = [np.sum([y_pred[p] for p in range(q,y_pred.size,58)])/totalTestImages for q in range(58)]\n",
    "\n",
    "        # For Pearson correlation coefficient and the p-value (between avg_pred and true rating for fruit group)\n",
    "        from scipy import stats\n",
    "        trueRating = np.copy(y_test[0:58])\n",
    "\n",
    "        sqErr = np.sum(pow(avg_pred - trueRating,2))\n",
    "        #print(\"The true squared error (in color ratings) when leaving out\",testFruit,\"is: %.4f\" % sqErr)\n",
    "        sumErr = sumErr + sqErr\n",
    "\n",
    "        corrCoeff, pVal = stats.pearsonr(avg_pred, trueRating)\n",
    "    #     print(\"\\nPearson’s correlation coefficient (between true ratings and avg predicted ratings) is %.4f\" %corrCoeff)\n",
    "    #     print(\"p-value %.4f\" %pVal)\n",
    "\n",
    "    #print(\"The average squared error of color ratings over all left out fruit categories for the selected feature is %.4f\" % (sumErr/12))  \n",
    "    if leastErr > sumErr:\n",
    "        leastErr = sumErr\n",
    "        minErrFeature = selFt\n",
    "        print(\"\\nSelected Features : \",selFt,\"Average Error : \", sumErr/12)\n",
    "    print(\"Exiting\")\n",
    "    return (sefFt,  sumErr/12 )"
   ]
  },
  {
   "cell_type": "code",
   "execution_count": null,
   "metadata": {},
   "outputs": [],
   "source": []
  },
  {
   "cell_type": "code",
   "execution_count": null,
   "metadata": {},
   "outputs": [],
   "source": []
  },
  {
   "cell_type": "code",
   "execution_count": 11,
   "metadata": {},
   "outputs": [],
   "source": [
    "# Redefine, with only 1 mandatory argument.\n",
    "def howmany_within_range_rowonly(row, minimum=4, maximum=8):\n",
    "    count = 0\n",
    "    for n in row:\n",
    "        if minimum <= n <= maximum:\n",
    "            count = count + 1\n",
    "    return count"
   ]
  },
  {
   "cell_type": "code",
   "execution_count": null,
   "metadata": {},
   "outputs": [],
   "source": [
    "pool = mp.Pool(mp.cpu_count())\n",
    "print(pool)\n",
    "results = pool.map(runRegressionSelFt, [selFt for selFt in ftList[:2]])\n",
    "print(results)\n",
    "pool.close()"
   ]
  },
  {
   "cell_type": "code",
   "execution_count": null,
   "metadata": {},
   "outputs": [],
   "source": []
  }
 ],
 "metadata": {
  "kernelspec": {
   "display_name": "Python 3",
   "language": "python",
   "name": "python3"
  },
  "language_info": {
   "codemirror_mode": {
    "name": "ipython",
    "version": 3
   },
   "file_extension": ".py",
   "mimetype": "text/x-python",
   "name": "python",
   "nbconvert_exporter": "python",
   "pygments_lexer": "ipython3",
   "version": "3.6.3"
  }
 },
 "nbformat": 4,
 "nbformat_minor": 2
}
