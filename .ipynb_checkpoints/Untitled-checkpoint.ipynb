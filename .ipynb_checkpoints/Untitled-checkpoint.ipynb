{
 "cells": [
  {
   "cell_type": "code",
   "execution_count": 1,
   "metadata": {},
   "outputs": [],
   "source": [
    "# Initialize these:\n",
    "sz = 100\n",
    "path = \"E:/GitRepo/Color-Concept-Associaitons-using-Google-Images/downloads\"   #<Replace the path here>\n",
    "filepath = 'dataTop50.xlsx'\n",
    "\n",
    "# strtInd is used to keep track of beginning of the rows of a new category in the data matrix\n",
    "# Copied from 01_getFeatures_top_50.ipynb\n",
    "strtInd = [0, 2900, 5800, 8700, 11600, 14500, 17400, 20300, 23200, 26100, 29000, 31900, 34800]"
   ]
  },
  {
   "cell_type": "code",
   "execution_count": 2,
   "metadata": {},
   "outputs": [],
   "source": [
    " # Include imports\n",
    "import glob\n",
    "from skimage.transform import resize\n",
    "from skimage.io import imread, imsave, imshow\n",
    "import os\n",
    "import pandas as pd\n",
    "import numpy as np\n",
    "import skimage.color as skcolor\n",
    "import matplotlib.pyplot as plt\n",
    "\n",
    "from sklearn import datasets, linear_model\n",
    "from sklearn.metrics import mean_squared_error, r2_score"
   ]
  },
  {
   "cell_type": "code",
   "execution_count": 3,
   "metadata": {},
   "outputs": [],
   "source": [
    "colNames = [\"col_\"+str(i) for i in range(58)] \n",
    "allConcepts = ['mango','watermelon','honeydew','cantaloupe','grapefruit','strawberry','raspberry','blueberry','avocado','orange','lime','lemon']\n",
    "\n",
    "# Read data\n",
    "# Get the color ratings data -From file data.csv\n",
    "data = pd.read_csv(\"data.csv\",names = colNames)\n",
    "\n",
    "# Get the LAB coordinates of colors from file Lab.csv\n",
    "#colorData = pd.read_csv(\"Lab.csv\",header=None)\n",
    "colorData = pd.read_csv(\"Lab.csv\",header=None)\n",
    "colorDataRGB = pd.read_csv(\"RGB.csv\",header=None)"
   ]
  },
  {
   "cell_type": "code",
   "execution_count": 4,
   "metadata": {},
   "outputs": [
    {
     "data": {
      "text/plain": [
       "(34800, 187)"
      ]
     },
     "execution_count": 4,
     "metadata": {},
     "output_type": "execute_result"
    }
   ],
   "source": [
    "df = pd.read_excel(filepath)\n",
    "Q = df.as_matrix()\n",
    "Q.shape"
   ]
  },
  {
   "cell_type": "code",
   "execution_count": null,
   "metadata": {},
   "outputs": [],
   "source": []
  },
  {
   "cell_type": "code",
   "execution_count": 12,
   "metadata": {},
   "outputs": [
    {
     "name": "stdout",
     "output_type": "stream",
     "text": [
      "(34800, 186) (34800,)\n"
     ]
    }
   ],
   "source": [
    "X = np.copy(Q[:,:-1])\n",
    "y = np.copy(Q[:,-1])\n",
    "print(X.shape, y.shape)"
   ]
  },
  {
   "cell_type": "code",
   "execution_count": 23,
   "metadata": {},
   "outputs": [],
   "source": [
    "# Function to computer error, correlation and rating for LOO fruit category \n",
    "# based on the features selected from Analysis (sparse regression)\n",
    "from scipy import stats\n",
    "        \n",
    "def getWeights(minErrFeature):\n",
    "    win0 = []\n",
    "    win1 = []\n",
    "    win2 = []\n",
    "    xNew = np.column_stack([X[:,minErrFeature],y])\n",
    "    correlation = []\n",
    "    error = []\n",
    "\n",
    "    xTemp = np.copy(xNew)\n",
    "    row = len(xTemp)\n",
    "    print(row)\n",
    "    print(xTemp.shape)\n",
    "    #Training set\n",
    "    X_train = np.column_stack([np.ones((row,1)), xTemp[:,:-1]]) # add offset\n",
    "    y_train = np.copy(xTemp[:,-1])\n",
    "\n",
    "    print(X_train.shape, y_train.shape)\n",
    "    # Create linear regression object\n",
    "    regr = linear_model.LinearRegression(fit_intercept=False)\n",
    "    # Train the model using the training sets\n",
    "    regr.fit(X_train, y_train)\n",
    "\n",
    "    # Make predictions using the testing set\n",
    "    #y_pred = regr.predict(X_test)\n",
    "    #print(\"Score is : %.2f\" % regr.score(X_test, y_test))\n",
    "    # The coefficients\n",
    "    print('Coefficients: ', regr.coef_)\n",
    "    #print('Intercept: \\n', regr.intercept_)\n",
    "    # The mean squared error\n",
    "    #print(\"\\nMean squared error: %.4f\"\n",
    "          #% mean_squared_error(y_test, y_pred))\n",
    "    # Explained variance score: 1 is perfect prediction\n",
    "    #print('Variance score: %.2f' % r2_score(y_test, y_pred))\n",
    "    return regr.coef_"
   ]
  },
  {
   "cell_type": "code",
   "execution_count": 25,
   "metadata": {},
   "outputs": [
    {
     "name": "stdout",
     "output_type": "stream",
     "text": [
      "34800\n",
      "(34800, 4)\n",
      "(34800, 4) (34800,)\n",
      "Coefficients:  [0.13629966 0.13731228 0.12712168 0.31100729]\n"
     ]
    },
    {
     "data": {
      "text/plain": [
       "array([0.13629966, 0.13731228, 0.12712168, 0.31100729])"
      ]
     },
     "execution_count": 25,
     "metadata": {},
     "output_type": "execute_result"
    }
   ],
   "source": [
    "minErrFeature3 = (54, 179, 180)\n",
    "weights = getWeights(minErrFeature3)\n",
    "weights"
   ]
  },
  {
   "cell_type": "code",
   "execution_count": 26,
   "metadata": {},
   "outputs": [
    {
     "data": {
      "text/plain": [
       "['mango',\n",
       " 'watermelon',\n",
       " 'honeydew',\n",
       " 'cantaloupe',\n",
       " 'grapefruit',\n",
       " 'strawberry',\n",
       " 'raspberry',\n",
       " 'blueberry',\n",
       " 'avocado',\n",
       " 'orange',\n",
       " 'lime',\n",
       " 'lemon']"
      ]
     },
     "execution_count": 26,
     "metadata": {},
     "output_type": "execute_result"
    }
   ],
   "source": [
    "allConcepts"
   ]
  },
  {
   "cell_type": "code",
   "execution_count": null,
   "metadata": {},
   "outputs": [],
   "source": []
  }
 ],
 "metadata": {
  "kernelspec": {
   "display_name": "Python 3",
   "language": "python",
   "name": "python3"
  },
  "language_info": {
   "codemirror_mode": {
    "name": "ipython",
    "version": 3
   },
   "file_extension": ".py",
   "mimetype": "text/x-python",
   "name": "python",
   "nbconvert_exporter": "python",
   "pygments_lexer": "ipython3",
   "version": "3.6.3"
  }
 },
 "nbformat": 4,
 "nbformat_minor": 2
}
