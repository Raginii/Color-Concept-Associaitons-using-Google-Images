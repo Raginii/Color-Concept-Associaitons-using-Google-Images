{
 "cells": [
  {
   "cell_type": "markdown",
   "metadata": {},
   "source": [
    "## Test new concepts "
   ]
  },
  {
   "cell_type": "markdown",
   "metadata": {},
   "source": [
    "#### Initialize/ Modify these"
   ]
  },
  {
   "cell_type": "code",
   "execution_count": 44,
   "metadata": {},
   "outputs": [],
   "source": [
    "# Initialize these:\n",
    "import pandas as pd\n",
    "\n",
    "# path to the git repo's downloads folder\n",
    "path = \"E:/GitRepo/Color-Concept-Associaitons-using-Google-Images/downloads\" \n",
    "\n",
    "# Folder inside downloads where the new concepts test images are.\n",
    "typeImg = \"newTestConcepts\" \n",
    "\n",
    "# Image resized to sz x sz\n",
    "sz = 100 \n",
    "\n",
    "# insert new concepts here.\n",
    "allConcepts = [\"Roses\",\"Trees\"] "
   ]
  },
  {
   "cell_type": "code",
   "execution_count": null,
   "metadata": {},
   "outputs": [],
   "source": [
    "# save these concepts to a csv -- to avoid restating the allConcepts again\n",
    "df = pd.DataFrame(allConcepts)\n",
    "## save to csv file\n",
    "filepath = 'testConcepts.csv'\n",
    "df.to_csv(filepath, index=False, header = None)\n",
    "\n",
    "## # Weights from Exp 1C\n",
    "weights = [0.13858045, 0.13921446, 0.12137094, 0.30032727]"
   ]
  },
  {
   "cell_type": "markdown",
   "metadata": {},
   "source": [
    "#### Initialize/ Modify the cell below if using different set of colors. Default colors: UW-58"
   ]
  },
  {
   "cell_type": "code",
   "execution_count": null,
   "metadata": {},
   "outputs": [],
   "source": [
    "# Comment if using other colors than the UW-58 -- curate new data similar to this cell\n",
    "\n",
    "\n",
    "numColors = 58 # number of new colors here.\n",
    "colNames = [\"col_\"+str(i) for i in range(numColors)] \n",
    "\n",
    "# # Read data\n",
    "# # Get the color ratings data -From file data_newColors.csv (Optional)\n",
    "## IF there is no data, simply comment it out.\n",
    "data = pd.read_csv(\"data.csv\",names = colNames)   # < This uses UW-58 by default. >\n",
    "\n",
    "# Get the LAB coordinates of colors from file Lab.csv (Required)\n",
    "colorData = pd.read_csv(\"Lab.csv\",header=None)\n",
    "colorDataRGB = pd.read_csv(\"RGB.csv\",header=None)\n",
    "\n",
    "# Categorical information about the colors (Required)\n",
    "category = pd.read_csv(\"Category.csv\",header=None)"
   ]
  },
  {
   "cell_type": "markdown",
   "metadata": {},
   "source": [
    "#### Uncomment below if the colors to be used are BCP-37 as in Exp3"
   ]
  },
  {
   "cell_type": "code",
   "execution_count": null,
   "metadata": {},
   "outputs": [],
   "source": [
    "# OPTIONAL (reference the color data here)\n",
    "# Uncomment to select BCP-37 colors as target colors\n",
    "\n",
    "# numColors = 37 # number of new colors here.\n",
    "# colNames = [\"col_\"+str(i) for i in range(numColors)] \n",
    "\n",
    "# # # Read data\n",
    "# # # Get the color ratings data -From file data_newColors.csv (Optional)\n",
    "# IF there is no data, simply comment it out.\n",
    "# data = pd.read_csv(\"TestScripts/data_test.csv\",names = colNames)\n",
    "\n",
    "# # Get the LAB coordinates of colors from file Lab.csv (Required)\n",
    "# colorData = pd.read_csv(\"TestScripts/Lab_test.csv\",header=None)\n",
    "# colorDataRGB = pd.read_csv(\"TestScripts/RGB_test.csv\",header=None)\n",
    "\n",
    "# # Categorical information about the colors (Required)\n",
    "# category = pd.read_csv(\"TestScripts/Category_test.csv\",header=None)"
   ]
  },
  {
   "cell_type": "markdown",
   "metadata": {},
   "source": [
    "## Download the images (Optional)"
   ]
  },
  {
   "cell_type": "code",
   "execution_count": null,
   "metadata": {},
   "outputs": [],
   "source": [
    "pip install google_images_download "
   ]
  },
  {
   "cell_type": "code",
   "execution_count": 46,
   "metadata": {},
   "outputs": [
    {
     "name": "stdout",
     "output_type": "stream",
     "text": [
      "\n",
      "Item no.: 1 --> Item name = Ship\n",
      "Evaluating...\n",
      "Starting Download...\n",
      "Completed Image ====> 1. boatnew.jpg\n",
      "Completed Image ====> 2. 5cbf50dfd1a2f8074406a8b2-750-562.jpg\n",
      "Completed Image ====> 3. shipslanding_splendor_mobile.jpg\n",
      "Completed Image ====> 4. amerigo-vespucci.jpg\n",
      "Completed Image ====> 5. firenze.jpg\n",
      "\n",
      "Errors: 0\n",
      "\n"
     ]
    }
   ],
   "source": [
    "# Add the concepts as keywords\n",
    "\n",
    "from google_images_download import google_images_download\n",
    "response = google_images_download.googleimagesdownload()\n",
    "arguments = {\"keywords_from_file\":\"testConcepts.csv\",\"limit\":50, \"output_directory\":\"downloads/newTestConcepts\", \"format\":\"jpg\"}   #creating list of arguments\n",
    "paths = response.download(arguments)\n",
    "\n",
    "# type = (face, photo, clip-art, line-drawing, animated)\n",
    "# format = jpg, gif, png, bmp, svg, webp, ico, raw"
   ]
  },
  {
   "cell_type": "code",
   "execution_count": 47,
   "metadata": {},
   "outputs": [],
   "source": [
    "# # Include imports\n",
    "import glob\n",
    "from skimage.transform import resize\n",
    "from skimage.io import imread, imsave, imshow\n",
    "import os\n",
    "\n",
    "import numpy as np\n",
    "import skimage.color as skcolor\n",
    "import matplotlib.pyplot as plt\n",
    "\n",
    "from sklearn import datasets, linear_model\n",
    "from sklearn.metrics import mean_squared_error, r2_score\n",
    "import time"
   ]
  },
  {
   "cell_type": "markdown",
   "metadata": {},
   "source": [
    "## Uses the first 50 images from the test concepts"
   ]
  },
  {
   "cell_type": "code",
   "execution_count": 48,
   "metadata": {},
   "outputs": [
    {
     "name": "stdout",
     "output_type": "stream",
     "text": [
      "E:/GitRepo/Color-Concept-Associaitons-using-Google-Images/downloads/newTestConcepts/Ship/*.*\n",
      "Category:  newTestConcepts\n",
      "Total images :  50\n"
     ]
    }
   ],
   "source": [
    "# Count total number of images\n",
    "\n",
    "count = 0\n",
    "for i in allConcepts:\n",
    "    print(path + \"/\" +typeImg +\"/\" +i+\"/*.*\")\n",
    "    trainFiles = glob.glob( path + \"/\" +typeImg +\"/\" +i+\"/*.*\" )\n",
    "    count = count + len(trainFiles[:50])\n",
    "    #print(count)\n",
    "print(\"Category: \",typeImg)\n",
    "print(\"Total images : \",count)"
   ]
  },
  {
   "cell_type": "markdown",
   "metadata": {},
   "source": [
    "## Extracting features from test Images"
   ]
  },
  {
   "cell_type": "markdown",
   "metadata": {},
   "source": [
    "#### Features to be extracted are from Exp 1C"
   ]
  },
  {
   "cell_type": "code",
   "execution_count": 49,
   "metadata": {},
   "outputs": [],
   "source": [
    "import matlab.engine\n",
    "def getCategoriesMatrix(imageFileName,sz):\n",
    "    ## Get total pixel counts of all 11 categories for this imageFile\n",
    "    eng = matlab.engine.start_matlab()\n",
    "    imageCat = np.array(eng.getCategories(imageFileName,sz))\n",
    "    eng.quit()\n",
    "     # imageCat : sz x sz matrix where each pixel has its category\n",
    "    return imageCat\n",
    "\n",
    "def getSegmentedImage(imageFileName,sz): # Returns segmented pixels in LAB and its corresponding color category.\n",
    "    eng = matlab.engine.start_matlab()\n",
    "    segImg, segImgCat = eng.activeContourSegmentation(imageFileName,sz, nargout=2)\n",
    "    eng.quit()\n",
    "    segImg = np.array(segImg)/255;\n",
    "    segImg = skcolor.rgb2lab(segImg)\n",
    "    segImgCat = np.array(segImgCat)\n",
    "    return segImg, segImgCat\n"
   ]
  },
  {
   "cell_type": "code",
   "execution_count": 50,
   "metadata": {
    "scrolled": false
   },
   "outputs": [
    {
     "name": "stdout",
     "output_type": "stream",
     "text": [
      ">>>>>>>>>>>>>>>>>>>>>>>>>>>>\n",
      " 1 : Concept :  Ship\n",
      "\tTotal number of images for  Ship  :  50\n",
      "unknown error\n"
     ]
    },
    {
     "ename": "AttributeError",
     "evalue": "'NoneType' object has no attribute 'activeContourSegmentation'",
     "output_type": "error",
     "traceback": [
      "\u001b[1;31m---------------------------------------------------------------------------\u001b[0m",
      "\u001b[1;31mAttributeError\u001b[0m                            Traceback (most recent call last)",
      "\u001b[1;32m<ipython-input-50-6c15895fc268>\u001b[0m in \u001b[0;36m<module>\u001b[1;34m()\u001b[0m\n\u001b[0;32m     32\u001b[0m         \u001b[1;31m# Convert the pixels in  image to LAB space\u001b[0m\u001b[1;33m\u001b[0m\u001b[1;33m\u001b[0m\u001b[0m\n\u001b[0;32m     33\u001b[0m         \u001b[0mimgLAB\u001b[0m \u001b[1;33m=\u001b[0m \u001b[0mskcolor\u001b[0m\u001b[1;33m.\u001b[0m\u001b[0mrgb2lab\u001b[0m\u001b[1;33m(\u001b[0m\u001b[0mimg\u001b[0m\u001b[1;33m)\u001b[0m\u001b[1;33m\u001b[0m\u001b[0m\n\u001b[1;32m---> 34\u001b[1;33m         \u001b[0msegmentedImg\u001b[0m\u001b[1;33m,\u001b[0m\u001b[0msegmentedImgCat\u001b[0m \u001b[1;33m=\u001b[0m \u001b[0mgetSegmentedImage\u001b[0m\u001b[1;33m(\u001b[0m\u001b[0mnameFile\u001b[0m\u001b[1;33m,\u001b[0m\u001b[0msz\u001b[0m\u001b[1;33m)\u001b[0m\u001b[1;33m\u001b[0m\u001b[0m\n\u001b[0m\u001b[0;32m     35\u001b[0m         \u001b[0mimageWithCategories\u001b[0m \u001b[1;33m=\u001b[0m \u001b[0mgetCategoriesMatrix\u001b[0m\u001b[1;33m(\u001b[0m\u001b[0mnameFile\u001b[0m\u001b[1;33m,\u001b[0m\u001b[0msz\u001b[0m\u001b[1;33m)\u001b[0m\u001b[1;33m\u001b[0m\u001b[0m\n\u001b[0;32m     36\u001b[0m \u001b[1;33m\u001b[0m\u001b[0m\n",
      "\u001b[1;32m<ipython-input-49-96df418e71ff>\u001b[0m in \u001b[0;36mgetSegmentedImage\u001b[1;34m(imageFileName, sz)\u001b[0m\n\u001b[0;32m     10\u001b[0m \u001b[1;32mdef\u001b[0m \u001b[0mgetSegmentedImage\u001b[0m\u001b[1;33m(\u001b[0m\u001b[0mimageFileName\u001b[0m\u001b[1;33m,\u001b[0m\u001b[0msz\u001b[0m\u001b[1;33m)\u001b[0m\u001b[1;33m:\u001b[0m \u001b[1;31m# Returns segmented pixels in LAB and its corresponding color category.\u001b[0m\u001b[1;33m\u001b[0m\u001b[0m\n\u001b[0;32m     11\u001b[0m     \u001b[0meng\u001b[0m \u001b[1;33m=\u001b[0m \u001b[0mmatlab\u001b[0m\u001b[1;33m.\u001b[0m\u001b[0mengine\u001b[0m\u001b[1;33m.\u001b[0m\u001b[0mstart_matlab\u001b[0m\u001b[1;33m(\u001b[0m\u001b[1;33m)\u001b[0m\u001b[1;33m\u001b[0m\u001b[0m\n\u001b[1;32m---> 12\u001b[1;33m     \u001b[0msegImg\u001b[0m\u001b[1;33m,\u001b[0m \u001b[0msegImgCat\u001b[0m \u001b[1;33m=\u001b[0m \u001b[0meng\u001b[0m\u001b[1;33m.\u001b[0m\u001b[0mactiveContourSegmentation\u001b[0m\u001b[1;33m(\u001b[0m\u001b[0mimageFileName\u001b[0m\u001b[1;33m,\u001b[0m\u001b[0msz\u001b[0m\u001b[1;33m,\u001b[0m \u001b[0mnargout\u001b[0m\u001b[1;33m=\u001b[0m\u001b[1;36m2\u001b[0m\u001b[1;33m)\u001b[0m\u001b[1;33m\u001b[0m\u001b[0m\n\u001b[0m\u001b[0;32m     13\u001b[0m     \u001b[0meng\u001b[0m\u001b[1;33m.\u001b[0m\u001b[0mquit\u001b[0m\u001b[1;33m(\u001b[0m\u001b[1;33m)\u001b[0m\u001b[1;33m\u001b[0m\u001b[0m\n\u001b[0;32m     14\u001b[0m     \u001b[0msegImg\u001b[0m \u001b[1;33m=\u001b[0m \u001b[0mnp\u001b[0m\u001b[1;33m.\u001b[0m\u001b[0marray\u001b[0m\u001b[1;33m(\u001b[0m\u001b[0msegImg\u001b[0m\u001b[1;33m)\u001b[0m\u001b[1;33m/\u001b[0m\u001b[1;36m255\u001b[0m\u001b[1;33m;\u001b[0m\u001b[1;33m\u001b[0m\u001b[0m\n",
      "\u001b[1;31mAttributeError\u001b[0m: 'NoneType' object has no attribute 'activeContourSegmentation'"
     ]
    }
   ],
   "source": [
    "numFt = 3\n",
    "X = np.zeros((count*numColors,numFt+1) )  # +1 for label #Number of features [] # Feature Vector -- 58N rows\n",
    "init = time.time()\n",
    "rowNum = -1\n",
    "strtInd = []  # To keep track of the starting indices of concepts in the feature matrix\n",
    "cvInd = 1 \n",
    "counter = 0\n",
    "sz = 100    # Size of image: 100 by 100\n",
    "\n",
    "Rc = [1,10,20,30,40]   # Radii thresholds - not required\n",
    "Li = [40]              #[1, 10, 20, 30, 40]\n",
    "R = [40]               #[1, 10, 20, 30, 40]     # same as L\n",
    "hueAngle = [40]        #[5, 10, 20, 30, 40] # Hue Angle\n",
    "##\n",
    "for conceptNum,concept in enumerate(allConcepts):\n",
    "    #conceptNum = 5\n",
    "    t0 = time.time()\n",
    "    print(\">>>>>>>>>>>>>>>>>>>>>>>>>>>>\\n\",conceptNum+1,\": Concept : \",concept)\n",
    "    ct = 0    # Keeps track of images inside a category\n",
    "    strtInd.append(counter)\n",
    "    trainFiles = glob.glob( path + \"/\" +typeImg +\"/\" +concept+\"/*.*\" )\n",
    "    print(\"\\tTotal number of images for \",concept,\" : \",len(trainFiles))\n",
    "    t = []\n",
    "    for m, nameFile in enumerate(trainFiles[:50]):\n",
    "        t1 = time.time()\n",
    "        #print(\"\\nReading file ......\")\n",
    "        ct = ct + 1\n",
    "        \n",
    "        image = imread( nameFile )\n",
    "        imageResized = resize( image, (sz,sz),anti_aliasing=True,mode='reflect')\n",
    "        img = imageResized\n",
    "        # Convert the pixels in  image to LAB space\n",
    "        imgLAB = skcolor.rgb2lab(img)\n",
    "        segmentedImg,segmentedImgCat = getSegmentedImage(nameFile,sz)\n",
    "        imageWithCategories = getCategoriesMatrix(nameFile,sz)\n",
    "        \n",
    "        i1 = imgLAB[27:72,27:72,:] \n",
    "        i6 = np.copy(segmentedImg)\n",
    "        \n",
    "        ii1 = imageWithCategories[27:72,27:72].flatten()\n",
    "        \n",
    "        categoryImg1 = [sum(1 for p in ii1 if p-1 == k)/ii1.size for k in range(11)]\n",
    "      \n",
    "        for color in range(numColors):\n",
    "            rowNum+=1\n",
    "            counter += 1\n",
    "            colCt = 0\n",
    "            colorLAB = np.array(colorData.loc[color])   #get LAB values for specific color\n",
    "\n",
    "            # Just need 2 features from Sectors\n",
    "            for i in [0,5]:\n",
    "                if i == 0:\n",
    "                    L = i1[:,:,0]\n",
    "                    a = i1[:,:,1]\n",
    "                    b = i1[:,:,2]\n",
    "                elif i == 1:\n",
    "                    L = i2[:,:,0]\n",
    "                    a = i2[:,:,1]\n",
    "                    b = i2[:,:,2]\n",
    "                elif i == 2:\n",
    "                    L = i3[:,:,0]\n",
    "                    a = i3[:,:,1]\n",
    "                    b = i3[:,:,2]\n",
    "                elif i == 3:\n",
    "                    L = i4[:,:,0]\n",
    "                    a = i4[:,:,1]\n",
    "                    b = i4[:,:,2]\n",
    "                elif i == 4:\n",
    "                    L = i5[:,:,0]\n",
    "                    a = i5[:,:,1]\n",
    "                    b = i5[:,:,2]\n",
    "                else:\n",
    "                    L = i6[:,:,0]\n",
    "                    a = i6[:,:,1]\n",
    "                    b = i6[:,:,2]\n",
    "                    \n",
    "                LTemp = L.flatten()\n",
    "                r = np.sqrt(a**2+b**2).flatten()\n",
    "                theta = np.degrees(np.arctan2(b,a)).flatten()\n",
    "\n",
    "                L_diff = np.abs(LTemp - colorLAB[0])\n",
    "                r_diff = np.abs(r - (np.sqrt(colorLAB[1]**2 + colorLAB[2]**2)))\n",
    "                theta_diff = np.abs(theta - np.degrees(np.arctan2(colorLAB[2],colorLAB[1])))\n",
    "\n",
    "                for j,r_th in enumerate(R):\n",
    "                    l_th = Li[j] # L and R are the same.\n",
    "                    for theta_th in hueAngle:\n",
    "                        pixels = 0\n",
    "                        for p in range(len(L_diff)):\n",
    "                            if (L_diff[p] <= l_th and r_diff[p] <= r_th and theta_diff[p] <= theta_th) or (L_diff[p] <= l_th and r_diff[p] <= 2.5):\n",
    "                                pixels += 1\n",
    "                        X[rowNum,colCt] = pixels/(len(L_diff))\n",
    "                        colCt+=1\n",
    "            #print(colCt)\n",
    "            \n",
    "            colorCat = category.loc[color,0] \n",
    "            X[rowNum,colCt] = categoryImg1[colorCat-1]\n",
    "            colCt+=1\n",
    "\n",
    "            label = data.loc[conceptNum]['col_'+str(color)]   \n",
    "            X[rowNum,colCt] = label\n",
    "            #print(colCt)\n",
    "        h = time.time()-t1\n",
    "        print(\"\\t\\t\",m, \"image: \",h ,\" seconds\")\n",
    "        t.append(h)\n",
    "    print(t)\n",
    "    print(\"\\t** Time elapsed since last category: \",time.time()-t0,\" seconds **\")\n",
    "strtInd.append(len(X))\n",
    "print(strtInd)\n",
    "print(\"** Total Time elapsed: \",time.time()-init,\" seconds **\")"
   ]
  },
  {
   "cell_type": "markdown",
   "metadata": {},
   "source": [
    "## Save the data as excel spread sheet"
   ]
  },
  {
   "cell_type": "code",
   "execution_count": 9,
   "metadata": {},
   "outputs": [],
   "source": [
    "## convert your array into a dataframe\n",
    "xxTemp = np.copy(X)\n",
    "#y = np.copy(X[:,-1])\n",
    "df = pd.DataFrame(xxTemp)\n",
    "## save to xlsx file\n",
    "\n",
    "filepath = 'dataNEW50.xlsx'\n",
    "df.to_excel(filepath, index=False)\n",
    "tot = len(xxTemp)"
   ]
  },
  {
   "cell_type": "markdown",
   "metadata": {},
   "source": [
    "# Analysis"
   ]
  },
  {
   "cell_type": "code",
   "execution_count": 51,
   "metadata": {},
   "outputs": [],
   "source": [
    "#Comment this\n",
    "strtInd = [0, 1850, 3700, 5550, 7400, 9250, 11100]"
   ]
  },
  {
   "cell_type": "code",
   "execution_count": 53,
   "metadata": {},
   "outputs": [
    {
     "data": {
      "text/plain": [
       "(11100, 4)"
      ]
     },
     "execution_count": 53,
     "metadata": {},
     "output_type": "execute_result"
    }
   ],
   "source": [
    "filepath = 'dataNEW50.xlsx'\n",
    "df = pd.read_excel(filepath)\n",
    "Q = df.as_matrix()\n",
    "Q.shape"
   ]
  },
  {
   "cell_type": "code",
   "execution_count": 33,
   "metadata": {},
   "outputs": [
    {
     "data": {
      "text/plain": [
       "11100"
      ]
     },
     "execution_count": 33,
     "metadata": {},
     "output_type": "execute_result"
    }
   ],
   "source": [
    "len(Q)"
   ]
  },
  {
   "cell_type": "code",
   "execution_count": 54,
   "metadata": {},
   "outputs": [],
   "source": [
    "Xtest = np.column_stack([np.ones((len(Q),1)), Q[:,:-1]])\n",
    "ytest = np.copy(Q[:,-1])"
   ]
  },
  {
   "cell_type": "code",
   "execution_count": 55,
   "metadata": {},
   "outputs": [],
   "source": [
    "y_predAll = Xtest.dot(weights)"
   ]
  },
  {
   "cell_type": "code",
   "execution_count": 56,
   "metadata": {},
   "outputs": [
    {
     "data": {
      "text/plain": [
       "(11100,)"
      ]
     },
     "execution_count": 56,
     "metadata": {},
     "output_type": "execute_result"
    }
   ],
   "source": [
    "ytest.shape"
   ]
  },
  {
   "cell_type": "code",
   "execution_count": 60,
   "metadata": {
    "scrolled": false
   },
   "outputs": [
    {
     "name": "stdout",
     "output_type": "stream",
     "text": [
      "(1850,)\n",
      "The true squared error (in color ratings) for left out concept Paper is: 1.9019\n",
      "\n",
      "Pearson’s correlation coefficient (between true ratings and avg predicted ratings) is 0.8791\n",
      "p-value 0.0000\n",
      "(1850,)\n",
      "The true squared error (in color ratings) for left out concept Plastic is: 1.4073\n",
      "\n",
      "Pearson’s correlation coefficient (between true ratings and avg predicted ratings) is 0.4048\n",
      "p-value 0.0130\n",
      "(1850,)\n",
      "The true squared error (in color ratings) for left out concept Trash is: 1.9371\n",
      "\n",
      "Pearson’s correlation coefficient (between true ratings and avg predicted ratings) is 0.5151\n",
      "p-value 0.0011\n",
      "(1850,)\n",
      "The true squared error (in color ratings) for left out concept Compost is: 1.8387\n",
      "\n",
      "Pearson’s correlation coefficient (between true ratings and avg predicted ratings) is 0.6639\n",
      "p-value 0.0000\n",
      "(1850,)\n",
      "The true squared error (in color ratings) for left out concept Metal is: 0.8006\n",
      "\n",
      "Pearson’s correlation coefficient (between true ratings and avg predicted ratings) is 0.8719\n",
      "p-value 0.0000\n",
      "(1850,)\n",
      "The true squared error (in color ratings) for left out concept Glass is: 2.0554\n",
      "\n",
      "Pearson’s correlation coefficient (between true ratings and avg predicted ratings) is 0.7731\n",
      "p-value 0.0000\n"
     ]
    }
   ],
   "source": [
    "from scipy import stats\n",
    "plt.close('all')\n",
    "win0_50 = []\n",
    "win1_50 = []\n",
    "win2_50 = []\n",
    "\n",
    "correlation_50 = []\n",
    "error_50 = []\n",
    "\n",
    "for i in range(len(strtInd)-1):\n",
    "    # Leave one entire concept group\n",
    "    testConcept =  allConcepts[i]\n",
    "    #print(\"\\nLeaving out concept group : \",allConcepts[i])\n",
    "    y_pred = np.copy(y_predAll[strtInd[i]:strtInd[i+1]])\n",
    "    y_test = np.copy(ytest[strtInd[i]:strtInd[i+1]])\n",
    "    print(y_pred.shape)\n",
    "    totalTestImages = y_pred.size/numColors  #numColors*N rows -> every image has 'numColors' rows of data\n",
    "    avg_pred =[np.sum([y_pred[p] for p in range(q,y_pred.size,numColors)])/totalTestImages for q in range(numColors)]\n",
    "\n",
    "    # For Pearson correlation coefficient and the p-value (between avg_pred and true rating for fruit group)\n",
    "    trueRating = np.copy(y_test[0:numColors])\n",
    "    \n",
    "    sqErr = np.sum(pow(avg_pred - trueRating,2))\n",
    "    print(\"The true squared error (in color ratings) for left out concept\",testConcept,\"is: %.4f\" % sqErr)\n",
    "    \n",
    "    corrCoeff, pVal = stats.pearsonr(avg_pred, trueRating)\n",
    "    \n",
    "    print(\"\\nPearson’s correlation coefficient (between true ratings and avg predicted ratings) is %.4f\" %corrCoeff)\n",
    "    print(\"p-value %.4f\" %pVal)\n",
    "\n",
    "    error_50.append(sqErr)\n",
    "    correlation_50.append(corrCoeff)\n",
    "    win0_50.append(corrCoeff) # saves correlation for testConcept\n",
    "    win1_50.append(trueRating) # saves true rating for testConcept\n",
    "    win2_50.append(avg_pred)   # saves avg predicted rating for testConcept\n",
    "    # Plot average color rating over all test images.\n",
    "#     fig= plt.figure(figsize=(10,3))\n",
    "#     barPlot = plt.bar(range(1,numColors+1),avg_pred,color = colorDataRGB.values,edgeColor = [0, 0, 0])\n",
    "#     plt.ylabel('Ratings')\n",
    "#     plt.xlabel('Colors')\n",
    "#     plt.title('Predicted color ratings for Concept : %s' %testConcept)\n",
    "#     plt.xticks([i for i in range(1,numColors+1,3)],[i for i in range(1,numColors+1,3)])\n",
    "#     plt.ylim(0,1)\n",
    "#     plt.show()\n",
    "\n",
    "#     fig= plt.figure(figsize=(10,3))\n",
    "#     barPlot = plt.bar(range(1,numColors+1), trueRating,color = colorDataRGB.values,edgeColor = [0, 0, 0])\n",
    "#     plt.ylabel('Ratings')\n",
    "#     plt.xlabel('Colors')\n",
    "#     plt.title('True color ratings for Concept : %s' %testConcept)\n",
    "#     plt.xticks([i for i in range(1,numColors+1,3)],[i for i in range(1,numColors+1,3)])\n",
    "#     plt.ylim(0,1)\n",
    "#     plt.show()\n",
    "\n",
    "#     # Scatter plot\n",
    "#     fig2 = plt.figure(figsize=(7,7))\n",
    "#     plt.scatter(trueRating,avg_pred,c=colorDataRGB.values,s=80,marker = 'o',linewidths=0.5,edgeColor = [0, 0, 0])\n",
    "#     plt.ylabel('Predicted Ratings')\n",
    "#     plt.xlabel('Subject Ratings')\n",
    "#     plt.title('Scatter plot of color ratings for : %s' %testConcept)\n",
    "#     plt.axis('equal')\n",
    "#     plt.xlim(0,1)\n",
    "#     plt.ylim(0,1)\n",
    "#     plt.show() "
   ]
  },
  {
   "cell_type": "code",
   "execution_count": 61,
   "metadata": {},
   "outputs": [
    {
     "data": {
      "image/png": "[encoded data removed]",
      "text/plain": [
       "<Figure size 432x288 with 1 Axes>"
      ]
     },
     "metadata": {},
     "output_type": "display_data"
    }
   ],
   "source": [
    "plt.close('all')\n",
    "barWidth = 0.5\n",
    "plt.bar(range(1,7),win0_50, width = barWidth)\n",
    "plt.xticks(range(1,7),allConcepts)\n",
    "plt.title(\"Correlation for Test Concepts (NumImages: #50)\")\n",
    "plt.ylabel('Correlation')\n",
    "plt.ylim(0,1)\n",
    "plt.show()"
   ]
  },
  {
   "cell_type": "code",
   "execution_count": 20,
   "metadata": {},
   "outputs": [
    {
     "data": {
      "text/plain": [
       "[0.8791125311273522,\n",
       " 0.40479140380407114,\n",
       " 0.5151289246513693,\n",
       " 0.6639181954905902,\n",
       " 0.8719009745606465,\n",
       " 0.7730519771971549]"
      ]
     },
     "execution_count": 20,
     "metadata": {},
     "output_type": "execute_result"
    }
   ],
   "source": [
    "correlation_50"
   ]
  },
  {
   "cell_type": "code",
   "execution_count": 21,
   "metadata": {},
   "outputs": [
    {
     "data": {
      "text/plain": [
       "['Paper', 'Plastic', 'Trash', 'Compost', 'Metal', 'Glass']"
      ]
     },
     "execution_count": 21,
     "metadata": {},
     "output_type": "execute_result"
    }
   ],
   "source": [
    "allConcepts"
   ]
  },
  {
   "cell_type": "markdown",
   "metadata": {},
   "source": [
    "## Save the output ratings as EstimatesNewConcepts.csv"
   ]
  },
  {
   "cell_type": "code",
   "execution_count": 24,
   "metadata": {},
   "outputs": [],
   "source": [
    "conceptNames = []\n",
    "colorRow = []\n",
    "for i in range(len(allConcepts)):\n",
    "    for j in range(numColors):\n",
    "        conceptNames.append(allConcepts[i])\n",
    "        colorRow.append(j+1)\n",
    "\n",
    "\n",
    "matrix = np.column_stack((np.array(conceptNames), np.array(colorRow), np.array(win1_50).flatten(), np.array(win2_50).flatten()))\n",
    "print(matrix.shape)\n",
    "\n",
    "df = pd.DataFrame(matrix)\n",
    "## save to csv file\n",
    "print(df.head())\n",
    "filepath = 'EstimatesNewConcepts.csv'\n",
    "df.to_csv(filepath, index=False, columns = [\"Concept\",\"Color\",\"True Rating\",\"Sector+Category Model Estimates\"])\n"
   ]
  },
  {
   "cell_type": "markdown",
   "metadata": {},
   "source": [
    "# Scatter Plots "
   ]
  },
  {
   "cell_type": "code",
   "execution_count": 70,
   "metadata": {},
   "outputs": [],
   "source": [
    "import matplotlib as mpl\n",
    "mpl.rcParams.update({'font.size': 9})\n",
    "def createScatterPlots(indices, win0, win1, win2,numImages):\n",
    "    model_num = 3\n",
    "    print(\"----------------------- Creating plots for Model ---------------Sector+Category\")\n",
    "    # print(indices)\n",
    "    # print(win0)\n",
    "    \n",
    "    k = 1\n",
    "    plt.close('all')\n",
    "    plt.subplots(2,3,figsize=(5,4))\n",
    "    for i in range(len(indices)-1,-1,-1):\n",
    "        # Scatter plot\n",
    "\n",
    "        arg = indices[i]\n",
    "        trueRating = win1[arg]\n",
    "        avg_pred = win2[arg]\n",
    "\n",
    "        ax = plt.subplot(2,3,k,aspect='equal') #plt.figure(figsize=(7,7))\n",
    "        #ax = f.add_subplot(3,4,k)\n",
    "        plt.scatter(trueRating,avg_pred,c=colorDataRGB.values,marker = 'o',s=15) #, edgecolor = [0,0,0])\n",
    "        if k == 1 or k == 4:\n",
    "            plt.ylabel('Mean Predicted Rating')\n",
    "        plt.xlabel('Mean Rating')\n",
    "        s = allConcepts[arg]+\"( %.2f )\" %win0[arg]\n",
    "        #print(s)\n",
    "        plt.title(s)\n",
    "        plt.xlim(0,1)\n",
    "        plt.ylim(0,1)\n",
    "        plt.yticks([0,0.5,1])\n",
    "        plt.xticks([0,0.5,1])\n",
    "        plt.tick_params(direction='in')\n",
    "        plt.plot(np.unique(trueRating), np.poly1d(np.polyfit(trueRating, avg_pred, 1))(np.unique(trueRating)),'k--')\n",
    "        k = k+1\n",
    "    plotName = \"Test_ScatterPlot_Model_\"+str(numImages)+\".pdf\"\n",
    "    plt.tight_layout()\n",
    "    plt.subplots_adjust(wspace=0.3, hspace=0.5)\n",
    "    #plt.savefig(plotName, bbox_inches = 'tight', pad_inches = 0)\n",
    "    plt.show()\n",
    "    \n",
    "    \n"
   ]
  },
  {
   "cell_type": "code",
   "execution_count": 71,
   "metadata": {},
   "outputs": [
    {
     "name": "stdout",
     "output_type": "stream",
     "text": [
      "----------------------- Creating plots for Model ---------------Sector+Category\n"
     ]
    },
    {
     "data": {
      "image/png": "[encoded data removed]",
      "text/plain": [
       "<Figure size 360x288 with 6 Axes>"
      ]
     },
     "metadata": {},
     "output_type": "display_data"
    }
   ],
   "source": [
    "indices = np.argsort(win0_50)\n",
    "createScatterPlots(indices, win0_50, win1_50, win2_50,50)"
   ]
  },
  {
   "cell_type": "code",
   "execution_count": 72,
   "metadata": {},
   "outputs": [
    {
     "data": {
      "image/png": "[encoded data removed]",
      "text/plain": [
       "<Figure size 360x216 with 1 Axes>"
      ]
     },
     "metadata": {},
     "output_type": "display_data"
    }
   ],
   "source": [
    "plt.close('all')\n",
    "barWidth = 0.1\n",
    "#r1 = [0.4,0.8,1.2,1.6,2,2.4]\n",
    "r1 = [0.1,0.4,0.7,1,1.3,1.6]\n",
    "r2 = [x + barWidth for x in r1]\n",
    "r3 = [x + 2*barWidth for x in r1]\n",
    "\n",
    "#t.bar(r1, bars1, width = barWidth, color = 'blue', edgecolor = 'black', yerr=yer1, capsize=7, label='poacee')\n",
    "fig = plt.figure(figsize =(5,3)) # (3,1.5)\n",
    "\n",
    "mline3 = plt.stem(r1,correlation_50,label='Sector + Category')\n",
    "plt.setp(mline3, color=[0,0,0], linewidth=1.5, markersize = 3)\n",
    "\n",
    "plt.xticks(r1,allConcepts)\n",
    "plt.yticks([0,0.5,1])\n",
    "plt.tick_params(direction='in')\n",
    "plt.title(\"Correlation in Test Concepts (#Images: 50)\")\n",
    "plt.ylabel('Correlation')\n",
    "plt.legend()\n",
    "\n",
    "plt.tight_layout()\n",
    "plt.savefig('Exp3_Correlation.pdf')\n",
    "plt.show()\n"
   ]
  },
  {
   "cell_type": "code",
   "execution_count": 73,
   "metadata": {},
   "outputs": [
    {
     "data": {
      "text/plain": [
       "[1.9019227230146638,\n",
       " 1.407303811767055,\n",
       " 1.9371400882005407,\n",
       " 1.8387030863792606,\n",
       " 0.8006076720127271,\n",
       " 2.0554486581870988]"
      ]
     },
     "execution_count": 73,
     "metadata": {},
     "output_type": "execute_result"
    }
   ],
   "source": [
    "error_50"
   ]
  },
  {
   "cell_type": "code",
   "execution_count": 74,
   "metadata": {},
   "outputs": [
    {
     "data": {
      "text/plain": [
       "[0.8791125311273522,\n",
       " 0.40479140380407114,\n",
       " 0.5151289246513693,\n",
       " 0.6639181954905902,\n",
       " 0.8719009745606465,\n",
       " 0.7730519771971549]"
      ]
     },
     "execution_count": 74,
     "metadata": {},
     "output_type": "execute_result"
    }
   ],
   "source": [
    "correlation_50"
   ]
  },
  {
   "cell_type": "code",
   "execution_count": 75,
   "metadata": {},
   "outputs": [],
   "source": [
    "cor_50,_ = stats.pearsonr(np.array(win2_50).flatten(), np.array(win1_50).flatten())"
   ]
  },
  {
   "cell_type": "code",
   "execution_count": 76,
   "metadata": {},
   "outputs": [
    {
     "name": "stdout",
     "output_type": "stream",
     "text": [
      "Overall correlation for top 50 is: 0.6783553152733253\n"
     ]
    }
   ],
   "source": [
    "print(\"Overall correlation for top 50 is:\",cor_50)"
   ]
  },
  {
   "cell_type": "code",
   "execution_count": null,
   "metadata": {},
   "outputs": [],
   "source": []
  },
  {
   "cell_type": "code",
   "execution_count": null,
   "metadata": {},
   "outputs": [],
   "source": []
  }
 ],
 "metadata": {
  "kernelspec": {
   "display_name": "Python 3",
   "language": "python",
   "name": "python3"
  },
  "language_info": {
   "codemirror_mode": {
    "name": "ipython",
    "version": 3
   },
   "file_extension": ".py",
   "mimetype": "text/x-python",
   "name": "python",
   "nbconvert_exporter": "python",
   "pygments_lexer": "ipython3",
   "version": "3.6.3"
  }
 },
 "nbformat": 4,
 "nbformat_minor": 2
}
