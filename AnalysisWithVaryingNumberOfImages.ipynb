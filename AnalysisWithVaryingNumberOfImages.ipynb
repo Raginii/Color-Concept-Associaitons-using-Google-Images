{
  "nbformat": 4,
  "nbformat_minor": 0,
  "metadata": {
    "colab": {
      "name": "AnalysisWithVaryingNumberOfImages.ipynb",
      "version": "0.3.2",
      "provenance": [],
      "collapsed_sections": [],
      "toc_visible": true,
      "include_colab_link": true
    },
    "kernelspec": {
      "name": "python3",
      "display_name": "Python 3"
    },
    "accelerator": "TPU"
  },
  "cells": [
    {
      "cell_type": "markdown",
      "metadata": {
        "id": "view-in-github",
        "colab_type": "text"
      },
      "source": [
        "<a href=\"https://colab.research.google.com/github/Raginii/Color-Concept-Associations-using-Google-Images/blob/master/AnalysisWithVaryingNumberOfImages.ipynb\" target=\"_parent\"><img src=\"https://colab.research.google.com/assets/colab-badge.svg\" alt=\"Open In Colab\"/></a>"
      ]
    },
    {
      "metadata": {
        "id": "dZ57Q8Cg455C",
        "colab_type": "text"
      },
      "cell_type": "markdown",
      "source": [
        "# Analysis of the best model by varying the number of images used for training"
      ]
    },
    {
      "metadata": {
        "id": "fv0PLPoQg-f6",
        "colab_type": "code",
        "colab": {
          "base_uri": "https://localhost:8080/",
          "height": 128
        },
        "outputId": "9e7f9079-252e-49be-c9ba-6a306213d20b"
      },
      "cell_type": "code",
      "source": [
        "# ## Uncomment if using Google Colab and upload file dataTop50.xlsx\n",
        "from google.colab import drive\n",
        "drive.mount('/content/drive')"
      ],
      "execution_count": 1,
      "outputs": [
        {
          "output_type": "stream",
          "text": [
            "Go to this URL in a browser: https://accounts.google.com/o/oauth2/auth?client_id=947318989803-6bn6qk8qdgf4n4g3pfee6491hc0brc4i.apps.googleusercontent.com&redirect_uri=urn%3Aietf%3Awg%3Aoauth%3A2.0%3Aoob&scope=email%20https%3A%2F%2Fwww.googleapis.com%2Fauth%2Fdocs.test%20https%3A%2F%2Fwww.googleapis.com%2Fauth%2Fdrive%20https%3A%2F%2Fwww.googleapis.com%2Fauth%2Fdrive.photos.readonly%20https%3A%2F%2Fwww.googleapis.com%2Fauth%2Fpeopleapi.readonly&response_type=code\n",
            "\n",
            "Enter your authorization code:\n",
            "··········\n",
            "Mounted at /content/drive\n"
          ],
          "name": "stdout"
        }
      ]
    },
    {
      "metadata": {
        "id": "7bhjj4WHg-f_",
        "colab_type": "code",
        "colab": {}
      },
      "cell_type": "code",
      "source": [
        "# Initialize these:\n",
        "filepath = 'dataTop50.xlsx'\n",
        "strtInd = [0, 2900, 5800, 8700, 11600, 14500, 17400, 20300, 23200, 26100, 29000, 31900, 34800]"
      ],
      "execution_count": 0,
      "outputs": []
    },
    {
      "metadata": {
        "id": "D6T3rWXZg-gE",
        "colab_type": "code",
        "colab": {}
      },
      "cell_type": "code",
      "source": [
        " # Include imports\n",
        "import glob\n",
        "from skimage.transform import resize\n",
        "from skimage.io import imread, imsave, imshow\n",
        "import os\n",
        "import pandas as pd\n",
        "import numpy as np\n",
        "import skimage.color as skcolor\n",
        "import matplotlib.pyplot as plt\n",
        "from scipy import stats\n",
        "from sklearn import datasets, linear_model\n",
        "from sklearn.metrics import mean_squared_error, r2_score"
      ],
      "execution_count": 0,
      "outputs": []
    },
    {
      "metadata": {
        "id": "sJxVS7-Pg-gH",
        "colab_type": "code",
        "colab": {}
      },
      "cell_type": "code",
      "source": [
        "colNames = [\"col_\"+str(i) for i in range(58)] \n",
        "allConcepts = ['mango','watermelon','honeydew','cantaloupe','grapefruit','strawberry','raspberry','blueberry','avocado','orange','lime','lemon']\n",
        "path = \"E:/GitRepo/Color-Concept-Associaitons-using-Google-Images/downloads\"\n",
        "sz = 100"
      ],
      "execution_count": 0,
      "outputs": []
    },
    {
      "metadata": {
        "id": "4TvAWYCrg-gL",
        "colab_type": "code",
        "colab": {
          "base_uri": "https://localhost:8080/",
          "height": 35
        },
        "outputId": "8eb4074b-7720-4b44-d310-1db2e6cfbc47"
      },
      "cell_type": "code",
      "source": [
        "df = pd.read_excel(filepath)\n",
        "Q = df.as_matrix()\n",
        "Q.shape"
      ],
      "execution_count": 4,
      "outputs": [
        {
          "output_type": "execute_result",
          "data": {
            "text/plain": [
              "(34800, 187)"
            ]
          },
          "metadata": {
            "tags": []
          },
          "execution_count": 4
        }
      ]
    },
    {
      "metadata": {
        "id": "8viW8z0Jhk0p",
        "colab_type": "text"
      },
      "cell_type": "markdown",
      "source": [
        "# ** Using the features obtained from best model in CorrelationsFromFeatures **"
      ]
    },
    {
      "metadata": {
        "id": "lO8hYpUPiIvY",
        "colab_type": "code",
        "colab": {}
      },
      "cell_type": "code",
      "source": [
        "selFt = (54, 179, 180)"
      ],
      "execution_count": 0,
      "outputs": []
    },
    {
      "metadata": {
        "id": "rFRcgeIag-gR",
        "colab_type": "code",
        "colab": {
          "base_uri": "https://localhost:8080/",
          "height": 35
        },
        "outputId": "f086419a-86ee-4dfc-a0d1-e1957bf1a02c"
      },
      "cell_type": "code",
      "source": [
        "xTemp = np.copy(Q[:,selFt])\n",
        "yTemp = np.copy(Q[:,-1])\n",
        "print(xTemp.shape, yTemp.shape)"
      ],
      "execution_count": 86,
      "outputs": [
        {
          "output_type": "stream",
          "text": [
            "(34800, 3) (34800,)\n"
          ],
          "name": "stdout"
        }
      ]
    },
    {
      "metadata": {
        "id": "kpvDwu3Og-gW",
        "colab_type": "code",
        "colab": {}
      },
      "cell_type": "code",
      "source": [
        "# Function to computer average error, correlation and rating for all test fruit category \n",
        "# based on the features selected from the best model (Spherical + Cylindrical + categorical)\n",
        "\n",
        "        \n",
        "def getAvgErrCorr(strtInd, X, y):\n",
        "    xNew = np.column_stack([X,y])\n",
        "    correlation = []\n",
        "    error = []\n",
        "    \n",
        "    # Linear Regression using Cross Validation\n",
        "    # Leave one out cross validation -- strtInd holds the starting indices of set of fruit data \n",
        "    for i in range(len(strtInd)-1):\n",
        "        xTemp = np.copy(xNew)\n",
        "        # Leave one entire fruit group\n",
        "        testFruit =  allConcepts[i]\n",
        "        #print(\"\\nLeaving out fruit group : \",allConcepts[i])\n",
        "        testTemp = np.copy(xTemp[strtInd[i]:strtInd[i+1],:]) # Get all rows from the LOO group\n",
        "        trainTemp = np.delete(xTemp,range(strtInd[i],strtInd[i+1]),0)\n",
        "        row = len(trainTemp)\n",
        "        #Training set\n",
        "        X_train = np.column_stack([np.ones((row,1)), trainTemp[:,:-1]]) # add offset\n",
        "        y_train = np.copy(trainTemp[:,-1])\n",
        "        # Test set (hold out set)\n",
        "        row2 = len(testTemp)\n",
        "        X_test  = np.column_stack([np.ones((row2,1)), testTemp[:,:-1]]) #xTemp[row:tot,0:3]#\n",
        "        y_test  = np.copy(testTemp[:,-1])\n",
        "\n",
        "\n",
        "        # Create linear regression object\n",
        "        regr = linear_model.LinearRegression(fit_intercept=False)\n",
        "        # Train the model using the training sets\n",
        "        regr.fit(X_train, y_train)\n",
        "\n",
        "        # Make predictions using the testing set\n",
        "        y_pred = regr.predict(X_test)\n",
        "\n",
        "        ############## For test purposes - Average prediction over all Images of LOO group ############\n",
        "        totalTestImages = y_pred.size/58  #58N rows -> every image has 58 rows of data\n",
        "        avg_pred = [np.sum([y_pred[p] for p in range(q,y_pred.size,58)])/totalTestImages for q in range(58)]\n",
        "\n",
        "        # For Pearson correlation coefficient and the p-value (between avg_pred and true rating for fruit group)\n",
        "        trueRating = np.copy(y_test[0:58])\n",
        "\n",
        "        sqErr = np.sum(pow(avg_pred - trueRating,2))\n",
        "        #print(\"The true squared error (in color ratings) for left out fruit\",testFruit,\"is: %.4f\" % sqErr)\n",
        "\n",
        "        corrCoeff, pVal = stats.pearsonr(avg_pred, trueRating)\n",
        "        #print(\"\\nPearson’s correlation coefficient (between true ratings and avg predicted ratings) is %.4f\" %corrCoeff)\n",
        "        #print(\"p-value %.4f\" %pVal)\n",
        "\n",
        "        error.append(sqErr)\n",
        "        correlation.append(corrCoeff)\n",
        "\n",
        "    return np.mean(error), np.mean(correlation)"
      ],
      "execution_count": 0,
      "outputs": []
    },
    {
      "metadata": {
        "id": "YTunxpaEkJRF",
        "colab_type": "text"
      },
      "cell_type": "markdown",
      "source": [
        "## Prepare the datset to include top images of every fruit -- 5,10,15,20, .. 50\n"
      ]
    },
    {
      "metadata": {
        "id": "A31SL9GPg-g9",
        "colab_type": "code",
        "colab": {
          "base_uri": "https://localhost:8080/",
          "height": 35
        },
        "outputId": "314fb85a-f0e1-4b1c-ec8c-504447ebda05"
      },
      "cell_type": "code",
      "source": [
        "n = [i for i in range(50,0,-5)]\n",
        "n"
      ],
      "execution_count": 109,
      "outputs": [
        {
          "output_type": "execute_result",
          "data": {
            "text/plain": [
              "[50, 45, 40, 35, 30, 25, 20, 15, 10, 5]"
            ]
          },
          "metadata": {
            "tags": []
          },
          "execution_count": 109
        }
      ]
    },
    {
      "metadata": {
        "id": "9TAb_LVfkgfr",
        "colab_type": "code",
        "colab": {}
      },
      "cell_type": "code",
      "source": [
        "avgErr = []\n",
        "avgCorr = []\n",
        "\n",
        "for i in n:\n",
        "  startInd = [0]\n",
        "  X = np.empty((0,3), float)\n",
        "  y = np.empty((0,), float)\n",
        "  if i!=50:\n",
        "    for t in range(len(strtInd)-1):\n",
        "      X = np.r_[X, xTemp[strtInd[t]:strtInd[t+1]-(50-i)*58,:] ]\n",
        "      y = np.r_[y, yTemp[strtInd[t]:strtInd[t+1]-(50-i)*58]]\n",
        "      startInd.append(len(X))\n",
        "    \n",
        "  else:\n",
        "    startInd = [i for i in strtInd]\n",
        "    X = np.copy(xTemp)\n",
        "    y = np.copy(yTemp)\n",
        "#   print(startInd)\n",
        "#   print(X.shape)\n",
        "  e,c = getAvgErrCorr(startInd,X,y)\n",
        "  avgErr.append(e)\n",
        "  avgCorr.append(c)\n",
        "    \n"
      ],
      "execution_count": 0,
      "outputs": []
    },
    {
      "metadata": {
        "id": "gDC_1HjY2R2n",
        "colab_type": "code",
        "colab": {
          "base_uri": "https://localhost:8080/",
          "height": 199
        },
        "outputId": "9c51ad77-731a-4dc9-f834-f1fba40eb09e"
      },
      "cell_type": "code",
      "source": [
        "avgErr"
      ],
      "execution_count": 111,
      "outputs": [
        {
          "output_type": "execute_result",
          "data": {
            "text/plain": [
              "[0.7729293303382093,\n",
              " 0.76154996931641,\n",
              " 0.7591954991310083,\n",
              " 0.7631528923814289,\n",
              " 0.7669494111017361,\n",
              " 0.7672155783235174,\n",
              " 0.7535107422566837,\n",
              " 0.7332194073181273,\n",
              " 0.7154868817552927,\n",
              " 0.6910108072193174]"
            ]
          },
          "metadata": {
            "tags": []
          },
          "execution_count": 111
        }
      ]
    },
    {
      "metadata": {
        "id": "ICaiqYk40VpW",
        "colab_type": "code",
        "colab": {
          "base_uri": "https://localhost:8080/",
          "height": 513
        },
        "outputId": "fe7a2fd7-73e8-463a-c08f-162fbfcca1f6"
      },
      "cell_type": "code",
      "source": [
        "fig = plt.figure(figsize=(15,8))\n",
        "plt.bar(n,avgErr,width = 1.5, color = 'cyan', edgecolor = 'k',label='Spherical')\n",
        "plt.title(\"Average error vs Number of Images Used\")\n",
        "plt.xlabel('Number of Images used')\n",
        "plt.ylabel(\"Average error in the ratings of test fruit category\")\n",
        "plt.show()"
      ],
      "execution_count": 121,
      "outputs": [
        {
          "output_type": "display_data",
          "data": {
            "image/png": "[encoded data removed]",
            "text/plain": [
              "<Figure size 1080x576 with 1 Axes>"
            ]
          },
          "metadata": {
            "tags": []
          }
        }
      ]
    },
    {
      "metadata": {
        "id": "QeMm-tt604Ne",
        "colab_type": "code",
        "colab": {
          "base_uri": "https://localhost:8080/",
          "height": 513
        },
        "outputId": "2d421a29-745d-40f9-9447-cd8c3f58bf64"
      },
      "cell_type": "code",
      "source": [
        "fig = plt.figure(figsize=(15,8))\n",
        "plt.bar(n,avgCorr,width = 2, color = 'red', edgecolor = 'k')\n",
        "plt.title(\"Average correlation vs Number of Images Used\")\n",
        "plt.xlabel('Number of Images used')\n",
        "plt.ylabel(\"Average correlation\")\n",
        "plt.show()"
      ],
      "execution_count": 122,
      "outputs": [
        {
          "output_type": "display_data",
          "data": {
            "image/png": "[encoded data removed]",
            "text/plain": [
              "<Figure size 1080x576 with 1 Axes>"
            ]
          },
          "metadata": {
            "tags": []
          }
        }
      ]
    },
    {
      "metadata": {
        "id": "KYCbT0Px2fUG",
        "colab_type": "code",
        "colab": {}
      },
      "cell_type": "code",
      "source": [
        ""
      ],
      "execution_count": 0,
      "outputs": []
    }
  ]
}