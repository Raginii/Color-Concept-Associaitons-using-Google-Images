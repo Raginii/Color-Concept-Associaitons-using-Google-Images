{
 "cells": [
  {
   "cell_type": "code",
   "execution_count": 1,
   "metadata": {},
   "outputs": [],
   "source": [
    "import matplotlib as mpl\n",
    "mpl.rcParams.update({'font.size': 9})"
   ]
  },
  {
   "cell_type": "code",
   "execution_count": 2,
   "metadata": {},
   "outputs": [],
   "source": [
    "# Initialize these:\n",
    "typeImg = \"test\" # photo/ cartoon/ top\"\n",
    "#numImg = \"50\" # 5 or 50\n",
    "sz = 100\n",
    "numColors = 37"
   ]
  },
  {
   "cell_type": "code",
   "execution_count": 3,
   "metadata": {},
   "outputs": [],
   "source": [
    "# # Include imports\n",
    "import glob\n",
    "from skimage.transform import resize\n",
    "from skimage.io import imread, imsave, imshow\n",
    "import os\n",
    "import pandas as pd\n",
    "import numpy as np\n",
    "import skimage.color as skcolor\n",
    "import matplotlib.pyplot as plt\n",
    "\n",
    "from sklearn import datasets, linear_model\n",
    "from sklearn.metrics import mean_squared_error, r2_score\n",
    "import time"
   ]
  },
  {
   "cell_type": "code",
   "execution_count": 4,
   "metadata": {},
   "outputs": [],
   "source": [
    "colNames = [\"col_\"+str(i) for i in range(numColors)] \n",
    "allConcepts = [\"Paper\", \"Plastic\", \"Trash\", \"Compost\", \"Metal\",\"Glass\"]\n",
    "\n",
    "# # Read data\n",
    "# # Get the color ratings data -From file data_clean.csv\n",
    "data = pd.read_csv(\"TestScripts/data_clean_test.csv\",names = colNames)\n",
    "\n",
    "# Get the LAB coordinates of colors from file LabOrig.csv\n",
    "# # #colorData = pd.read_csv(\"LabOrig.csv\",header=None)\n",
    "colorData = pd.read_csv(\"TestScripts/Lab_test.csv\",header=None)\n",
    "colorDataRGB = pd.read_csv(\"TestScripts/RGB_test.csv\",header=None)\n",
    "\n",
    "category = pd.read_csv(\"TestScripts/Category_test.csv\",header=None)\n",
    "path = \"E:/GitRepo/Color-Concept-Associaitons-using-Google-Images/downloads\"\n",
    "# if not os.path.exists( path + \"/trainResized\" ):\n",
    "#    os.makedirs( path + \"/trainResized/\" )\n"
   ]
  },
  {
   "cell_type": "code",
   "execution_count": 5,
   "metadata": {},
   "outputs": [
    {
     "data": {
      "text/html": [
       "<div>\n",
       "<style>\n",
       "    .dataframe thead tr:only-child th {\n",
       "        text-align: right;\n",
       "    }\n",
       "\n",
       "    .dataframe thead th {\n",
       "        text-align: left;\n",
       "    }\n",
       "\n",
       "    .dataframe tbody tr th {\n",
       "        vertical-align: top;\n",
       "    }\n",
       "</style>\n",
       "<table border=\"1\" class=\"dataframe\">\n",
       "  <thead>\n",
       "    <tr style=\"text-align: right;\">\n",
       "      <th></th>\n",
       "      <th>col_0</th>\n",
       "      <th>col_1</th>\n",
       "      <th>col_2</th>\n",
       "      <th>col_3</th>\n",
       "      <th>col_4</th>\n",
       "      <th>col_5</th>\n",
       "      <th>col_6</th>\n",
       "      <th>col_7</th>\n",
       "      <th>col_8</th>\n",
       "      <th>col_9</th>\n",
       "      <th>...</th>\n",
       "      <th>col_27</th>\n",
       "      <th>col_28</th>\n",
       "      <th>col_29</th>\n",
       "      <th>col_30</th>\n",
       "      <th>col_31</th>\n",
       "      <th>col_32</th>\n",
       "      <th>col_33</th>\n",
       "      <th>col_34</th>\n",
       "      <th>col_35</th>\n",
       "      <th>col_36</th>\n",
       "    </tr>\n",
       "  </thead>\n",
       "  <tbody>\n",
       "    <tr>\n",
       "      <th>0</th>\n",
       "      <td>0.13510</td>\n",
       "      <td>0.30566</td>\n",
       "      <td>0.25250</td>\n",
       "      <td>0.20077</td>\n",
       "      <td>0.21622</td>\n",
       "      <td>0.45617</td>\n",
       "      <td>0.38230</td>\n",
       "      <td>0.24153</td>\n",
       "      <td>0.29612</td>\n",
       "      <td>0.51005</td>\n",
       "      <td>...</td>\n",
       "      <td>0.25852</td>\n",
       "      <td>0.16832</td>\n",
       "      <td>0.34235</td>\n",
       "      <td>0.26056</td>\n",
       "      <td>0.14352</td>\n",
       "      <td>0.162450</td>\n",
       "      <td>0.43541</td>\n",
       "      <td>0.73454</td>\n",
       "      <td>0.94781</td>\n",
       "      <td>0.99816</td>\n",
       "    </tr>\n",
       "    <tr>\n",
       "      <th>1</th>\n",
       "      <td>0.25500</td>\n",
       "      <td>0.28179</td>\n",
       "      <td>0.25704</td>\n",
       "      <td>0.20066</td>\n",
       "      <td>0.28949</td>\n",
       "      <td>0.32163</td>\n",
       "      <td>0.28429</td>\n",
       "      <td>0.15857</td>\n",
       "      <td>0.32000</td>\n",
       "      <td>0.33602</td>\n",
       "      <td>...</td>\n",
       "      <td>0.38342</td>\n",
       "      <td>0.25633</td>\n",
       "      <td>0.27168</td>\n",
       "      <td>0.24730</td>\n",
       "      <td>0.21372</td>\n",
       "      <td>0.303670</td>\n",
       "      <td>0.53347</td>\n",
       "      <td>0.72061</td>\n",
       "      <td>0.77847</td>\n",
       "      <td>0.78633</td>\n",
       "    </tr>\n",
       "    <tr>\n",
       "      <th>2</th>\n",
       "      <td>0.13031</td>\n",
       "      <td>0.21107</td>\n",
       "      <td>0.23602</td>\n",
       "      <td>0.37719</td>\n",
       "      <td>0.25760</td>\n",
       "      <td>0.28020</td>\n",
       "      <td>0.40837</td>\n",
       "      <td>0.75372</td>\n",
       "      <td>0.22796</td>\n",
       "      <td>0.31219</td>\n",
       "      <td>...</td>\n",
       "      <td>0.32526</td>\n",
       "      <td>0.10612</td>\n",
       "      <td>0.14628</td>\n",
       "      <td>0.19806</td>\n",
       "      <td>0.18719</td>\n",
       "      <td>0.745410</td>\n",
       "      <td>0.74628</td>\n",
       "      <td>0.67842</td>\n",
       "      <td>0.45653</td>\n",
       "      <td>0.29219</td>\n",
       "    </tr>\n",
       "    <tr>\n",
       "      <th>3</th>\n",
       "      <td>0.10582</td>\n",
       "      <td>0.22423</td>\n",
       "      <td>0.29704</td>\n",
       "      <td>0.35684</td>\n",
       "      <td>0.26128</td>\n",
       "      <td>0.35179</td>\n",
       "      <td>0.52622</td>\n",
       "      <td>0.82592</td>\n",
       "      <td>0.30607</td>\n",
       "      <td>0.32730</td>\n",
       "      <td>...</td>\n",
       "      <td>0.29531</td>\n",
       "      <td>0.11332</td>\n",
       "      <td>0.13485</td>\n",
       "      <td>0.14832</td>\n",
       "      <td>0.18597</td>\n",
       "      <td>0.498110</td>\n",
       "      <td>0.59270</td>\n",
       "      <td>0.58827</td>\n",
       "      <td>0.37031</td>\n",
       "      <td>0.30015</td>\n",
       "    </tr>\n",
       "    <tr>\n",
       "      <th>4</th>\n",
       "      <td>0.11036</td>\n",
       "      <td>0.15791</td>\n",
       "      <td>0.18842</td>\n",
       "      <td>0.28520</td>\n",
       "      <td>0.15138</td>\n",
       "      <td>0.14964</td>\n",
       "      <td>0.22046</td>\n",
       "      <td>0.38776</td>\n",
       "      <td>0.16041</td>\n",
       "      <td>0.21454</td>\n",
       "      <td>...</td>\n",
       "      <td>0.32449</td>\n",
       "      <td>0.11245</td>\n",
       "      <td>0.11653</td>\n",
       "      <td>0.13684</td>\n",
       "      <td>0.12036</td>\n",
       "      <td>0.659640</td>\n",
       "      <td>0.94730</td>\n",
       "      <td>0.91128</td>\n",
       "      <td>0.65408</td>\n",
       "      <td>0.42536</td>\n",
       "    </tr>\n",
       "    <tr>\n",
       "      <th>5</th>\n",
       "      <td>0.11704</td>\n",
       "      <td>0.18582</td>\n",
       "      <td>0.21806</td>\n",
       "      <td>0.15286</td>\n",
       "      <td>0.16092</td>\n",
       "      <td>0.28347</td>\n",
       "      <td>0.28434</td>\n",
       "      <td>0.13255</td>\n",
       "      <td>0.19444</td>\n",
       "      <td>0.33439</td>\n",
       "      <td>...</td>\n",
       "      <td>0.47577</td>\n",
       "      <td>0.12173</td>\n",
       "      <td>0.30408</td>\n",
       "      <td>0.21148</td>\n",
       "      <td>0.12449</td>\n",
       "      <td>0.095255</td>\n",
       "      <td>0.44714</td>\n",
       "      <td>0.65577</td>\n",
       "      <td>0.79760</td>\n",
       "      <td>0.73745</td>\n",
       "    </tr>\n",
       "  </tbody>\n",
       "</table>\n",
       "<p>6 rows × 37 columns</p>\n",
       "</div>"
      ],
      "text/plain": [
       "     col_0    col_1    col_2    col_3    col_4    col_5    col_6    col_7  \\\n",
       "0  0.13510  0.30566  0.25250  0.20077  0.21622  0.45617  0.38230  0.24153   \n",
       "1  0.25500  0.28179  0.25704  0.20066  0.28949  0.32163  0.28429  0.15857   \n",
       "2  0.13031  0.21107  0.23602  0.37719  0.25760  0.28020  0.40837  0.75372   \n",
       "3  0.10582  0.22423  0.29704  0.35684  0.26128  0.35179  0.52622  0.82592   \n",
       "4  0.11036  0.15791  0.18842  0.28520  0.15138  0.14964  0.22046  0.38776   \n",
       "5  0.11704  0.18582  0.21806  0.15286  0.16092  0.28347  0.28434  0.13255   \n",
       "\n",
       "     col_8    col_9   ...      col_27   col_28   col_29   col_30   col_31  \\\n",
       "0  0.29612  0.51005   ...     0.25852  0.16832  0.34235  0.26056  0.14352   \n",
       "1  0.32000  0.33602   ...     0.38342  0.25633  0.27168  0.24730  0.21372   \n",
       "2  0.22796  0.31219   ...     0.32526  0.10612  0.14628  0.19806  0.18719   \n",
       "3  0.30607  0.32730   ...     0.29531  0.11332  0.13485  0.14832  0.18597   \n",
       "4  0.16041  0.21454   ...     0.32449  0.11245  0.11653  0.13684  0.12036   \n",
       "5  0.19444  0.33439   ...     0.47577  0.12173  0.30408  0.21148  0.12449   \n",
       "\n",
       "     col_32   col_33   col_34   col_35   col_36  \n",
       "0  0.162450  0.43541  0.73454  0.94781  0.99816  \n",
       "1  0.303670  0.53347  0.72061  0.77847  0.78633  \n",
       "2  0.745410  0.74628  0.67842  0.45653  0.29219  \n",
       "3  0.498110  0.59270  0.58827  0.37031  0.30015  \n",
       "4  0.659640  0.94730  0.91128  0.65408  0.42536  \n",
       "5  0.095255  0.44714  0.65577  0.79760  0.73745  \n",
       "\n",
       "[6 rows x 37 columns]"
      ]
     },
     "execution_count": 5,
     "metadata": {},
     "output_type": "execute_result"
    }
   ],
   "source": [
    "data"
   ]
  },
  {
   "cell_type": "code",
   "execution_count": 6,
   "metadata": {},
   "outputs": [
    {
     "name": "stdout",
     "output_type": "stream",
     "text": [
      "E:/GitRepo/Color-Concept-Associaitons-using-Google-Images/downloads/test/Paper/*.*\n",
      "E:/GitRepo/Color-Concept-Associaitons-using-Google-Images/downloads/test/Plastic/*.*\n",
      "E:/GitRepo/Color-Concept-Associaitons-using-Google-Images/downloads/test/Trash/*.*\n",
      "E:/GitRepo/Color-Concept-Associaitons-using-Google-Images/downloads/test/Compost/*.*\n",
      "E:/GitRepo/Color-Concept-Associaitons-using-Google-Images/downloads/test/Metal/*.*\n",
      "E:/GitRepo/Color-Concept-Associaitons-using-Google-Images/downloads/test/Glass/*.*\n",
      "Category:  test\n",
      "Total images :  300\n"
     ]
    }
   ],
   "source": [
    "# Count total number of images\n",
    "count = 0\n",
    "for i in allConcepts:\n",
    "    print(path + \"/\" +typeImg +\"/\" +i+\"/*.*\")\n",
    "    trainFiles = glob.glob( path + \"/\" +typeImg +\"/\" +i+\"/*.*\" )\n",
    "    count = count + len(trainFiles[:50])\n",
    "    #print(count)\n",
    "print(\"Category: \",typeImg)\n",
    "print(\"Total images : \",count)"
   ]
  },
  {
   "cell_type": "code",
   "execution_count": 7,
   "metadata": {},
   "outputs": [],
   "source": [
    "# import matlab.engine\n",
    "# def getCategoriesMatrix(imageFileName,sz):\n",
    "#     ## Get total pixel counts of all 11 categories for this imageFile\n",
    "#     eng = matlab.engine.start_matlab()\n",
    "#     imageCat = np.array(eng.getCategories(imageFileName,sz))\n",
    "#     eng.quit()\n",
    "#      # imageCat : sz x sz matrix where each pixel has its category\n",
    "#     return imageCat\n",
    "\n",
    "# def getSegmentedImage(imageFileName,sz): # Returns segmented pixels in LAB and its corresponding color category.\n",
    "#     eng = matlab.engine.start_matlab()\n",
    "#     segImg, segImgCat = eng.activeContourSegmentation(imageFileName,sz, nargout=2)\n",
    "#     eng.quit()\n",
    "#     segImg = np.array(segImg)/255;\n",
    "#     segImg = skcolor.rgb2lab(segImg)\n",
    "#     segImgCat = np.array(segImgCat)\n",
    "#     return segImg, segImgCat\n"
   ]
  },
  {
   "cell_type": "code",
   "execution_count": 8,
   "metadata": {
    "scrolled": false
   },
   "outputs": [],
   "source": [
    "# numFt = 3\n",
    "# X = np.zeros((count*numColors,numFt+1) )  # +1 for label #Number of features [] # Feature Vector -- 58N rows\n",
    "# init = time.time()\n",
    "# rowNum = -1\n",
    "# strtInd = []  # To keep track of the starting indices of fruits in the feature matrix\n",
    "# cvInd = 1 \n",
    "# counter = 0\n",
    "# sz = 100    # Size of image: 100 by 100\n",
    "# # ########\n",
    "# # allConcepts = ['Glass']\n",
    "# # rowNum = 9249\n",
    "# # counter = 9249\n",
    "\n",
    "# # ##\n",
    "# Rc = [1,10,20,30,40]   # Radii thresholds\n",
    "# Li = [40]              #[1, 10, 20, 30, 40]\n",
    "# R = [40]               #[1, 10, 20, 30, 40]     # same as L\n",
    "# hueAngle = [40]        #[5, 10, 20, 30, 40] # Hue Angle\n",
    "# ##\n",
    "# for conceptNum,concept in enumerate(allConcepts):\n",
    "#     #conceptNum = 5\n",
    "#     t0 = time.time()\n",
    "#     print(\">>>>>>>>>>>>>>>>>>>>>>>>>>>>\\n\",conceptNum+1,\": Concept : \",concept)\n",
    "#     # Get label for corresponding fruit (for given color)\n",
    "#     #label = data.loc[conceptNum]['col_'+str(color)]\n",
    "#     ct = 0    # Keeps track of images inside a category\n",
    "#     strtInd.append(counter)\n",
    "#     trainFiles = glob.glob( path + \"/\" +typeImg +\"/\" +concept+\"/*.*\" )\n",
    "#     print(\"\\tTotal number of images for \",concept,\" : \",len(trainFiles))\n",
    "#     t = []\n",
    "#     for m, nameFile in enumerate(trainFiles[:50]):\n",
    "#         t1 = time.time()\n",
    "#         #print(\"\\nReading file ......\")\n",
    "#         ct = ct + 1\n",
    "        \n",
    "#         image = imread( nameFile )\n",
    "#         imageResized = resize( image, (sz,sz),anti_aliasing=True,mode='reflect')\n",
    "#         img = imageResized\n",
    "#         # Convert the pixels in  image to LAB space\n",
    "#         imgLAB = skcolor.rgb2lab(img)\n",
    "#         segmentedImg,segmentedImgCat = getSegmentedImage(nameFile,sz)\n",
    "#         imageWithCategories = getCategoriesMatrix(nameFile,sz)\n",
    "        \n",
    "#         i1 = imgLAB[27:72,27:72,:] \n",
    "# #         i2 = imgLAB[19:83,19:83,:]\n",
    "# #         i3 = imgLAB[12:90,12:90,:]\n",
    "# #         i4 = imgLAB[6:96,6:96,:]\n",
    "# #         i5 = np.copy(imgLAB)\n",
    "#         i6 = np.copy(segmentedImg)\n",
    "        \n",
    "#         ii1 = imageWithCategories[27:72,27:72].flatten()\n",
    "# #         ii2 = imageWithCategories[19:83,19:83].flatten()\n",
    "# #         ii3 = imageWithCategories[12:90,12:90].flatten()\n",
    "# #         ii4 = imageWithCategories[6:96,6:96].flatten()\n",
    "# #         ii5 = np.copy(imageWithCategories).flatten()\n",
    "# #         ii6 = np.copy(segmentedImgCat).flatten()\n",
    "        \n",
    "#         categoryImg1 = [sum(1 for p in ii1 if p-1 == k)/ii1.size for k in range(11)]\n",
    "# #         categoryImg2 = [sum(1 for p in ii2 if p-1 == k)/ii2.size for k in range(11)]\n",
    "# #         categoryImg3 = [sum(1 for p in ii3 if p-1 == k)/ii3.size for k in range(11)]\n",
    "# #         categoryImg4 = [sum(1 for p in ii4 if p-1 == k)/ii4.size for k in range(11)]\n",
    "# #         categoryImg5 = [sum(1 for p in ii5 if p-1 == k)/ii5.size for k in range(11)]\n",
    "# #         categoryImg6 = [sum(1 for p in ii6 if p-1 == k)/ii6.size for k in range(11)]\n",
    "        \n",
    "        \n",
    "#         for color in range(numColors):\n",
    "#             rowNum+=1\n",
    "#             counter += 1\n",
    "#             colCt = 0\n",
    "#             # Thus begin the long long process\n",
    "#             # Get spherical and add till \n",
    "#             colorLAB = np.array(colorData.loc[color])   #get LAB values for specific color\n",
    "            \n",
    "# #             ##   Columns 1-30\n",
    "# #             for i in range(6):\n",
    "# #                 if i == 0:\n",
    "# #                     distPixel = skcolor.deltaE_cie76(i1,colorLAB)\n",
    "# #                 elif i == 1:\n",
    "# #                     distPixel = skcolor.deltaE_cie76(i2,colorLAB)\n",
    "# #                 elif i == 2:\n",
    "# #                     distPixel = skcolor.deltaE_cie76(i3,colorLAB)\n",
    "# #                 elif i == 3:\n",
    "# #                     distPixel = skcolor.deltaE_cie76(i4,colorLAB)\n",
    "# #                 elif i == 4:\n",
    "# #                     distPixel = skcolor.deltaE_cie76(i5,colorLAB)\n",
    "# #                 else:\n",
    "# #                     distPixel = skcolor.deltaE_cie76(i6,colorLAB)\n",
    "# #                 distPixel = distPixel.flatten()\n",
    "# #                 #print(distPixel.size)\n",
    "# #                 for j,threshold in enumerate(Rc):\n",
    "# #                     num = sum(1 for t in distPixel  if t <= threshold)/distPixel.size\n",
    "# #                     #features.append(num)\n",
    "# #                     X[rowNum,colCt] = num\n",
    "                    \n",
    "# #                     colCt+=1\n",
    "#             #print(colCt)\n",
    "            \n",
    "#             # For features 31-180\n",
    "#             #for i in range(6):\n",
    "#             for i in [0,5]:\n",
    "#                 if i == 0:\n",
    "#                     L = i1[:,:,0]\n",
    "#                     a = i1[:,:,1]\n",
    "#                     b = i1[:,:,2]\n",
    "#                 elif i == 1:\n",
    "#                     L = i2[:,:,0]\n",
    "#                     a = i2[:,:,1]\n",
    "#                     b = i2[:,:,2]\n",
    "#                 elif i == 2:\n",
    "#                     L = i3[:,:,0]\n",
    "#                     a = i3[:,:,1]\n",
    "#                     b = i3[:,:,2]\n",
    "#                 elif i == 3:\n",
    "#                     L = i4[:,:,0]\n",
    "#                     a = i4[:,:,1]\n",
    "#                     b = i4[:,:,2]\n",
    "#                 elif i == 4:\n",
    "#                     L = i5[:,:,0]\n",
    "#                     a = i5[:,:,1]\n",
    "#                     b = i5[:,:,2]\n",
    "#                 else:\n",
    "#                     L = i6[:,:,0]\n",
    "#                     a = i6[:,:,1]\n",
    "#                     b = i6[:,:,2]\n",
    "                    \n",
    "#                 LTemp = L.flatten()\n",
    "#                 r = np.sqrt(a**2+b**2).flatten()\n",
    "#                 theta = np.degrees(np.arctan2(b,a)).flatten()\n",
    "\n",
    "#                 L_diff = np.abs(LTemp - colorLAB[0])\n",
    "#                 r_diff = np.abs(r - (np.sqrt(colorLAB[1]**2 + colorLAB[2]**2)))\n",
    "#                 theta_diff = np.abs(theta - np.degrees(np.arctan2(colorLAB[2],colorLAB[1])))\n",
    "\n",
    "#                 for j,r_th in enumerate(R):\n",
    "#                     l_th = Li[j] # L and R are the same.\n",
    "#                     for theta_th in hueAngle:\n",
    "#                         pixels = 0\n",
    "#                         for p in range(len(L_diff)):\n",
    "#                             if (L_diff[p] <= l_th and r_diff[p] <= r_th and theta_diff[p] <= theta_th) or (L_diff[p] <= l_th and r_diff[p] <= 2.5):\n",
    "#                                 pixels += 1\n",
    "#                         X[rowNum,colCt] = pixels/(len(L_diff))\n",
    "#                         colCt+=1\n",
    "#             #print(colCt)\n",
    "            \n",
    "#             colorCat = category.loc[color,0] \n",
    "#             X[rowNum,colCt] = categoryImg1[colorCat-1]\n",
    "#             colCt+=1\n",
    "#             #print(colCt)\n",
    "\n",
    "# #             X[rowNum,colCt] = categoryImg2[colorCat-1]\n",
    "# #             colCt+=1\n",
    "# #             X[rowNum,colCt] = categoryImg3[colorCat-1]\n",
    "# #             colCt+=1\n",
    "# #             X[rowNum,colCt] = categoryImg4[colorCat-1]\n",
    "# #             colCt+=1\n",
    "# #             X[rowNum,colCt] = categoryImg5[colorCat-1]\n",
    "# #             colCt+=1\n",
    "# #             X[rowNum,colCt] = categoryImg6[colorCat-1]\n",
    "# #             colCt+=1\n",
    "#             label = data.loc[conceptNum]['col_'+str(color)]   \n",
    "#             X[rowNum,colCt] = label\n",
    "#             #print(colCt)\n",
    "#         h = time.time()-t1\n",
    "#         print(\"\\t\\t\",m, \"image: \",h ,\" seconds\")\n",
    "#         t.append(h)\n",
    "#     print(t)\n",
    "#     print(\"\\t** Time elapsed since last category: \",time.time()-t0,\" seconds **\")\n",
    "# strtInd.append(len(X))\n",
    "# print(strtInd)\n",
    "# print(\"** Total Time elapsed: \",time.time()-init,\" seconds **\")"
   ]
  },
  {
   "cell_type": "code",
   "execution_count": 9,
   "metadata": {},
   "outputs": [],
   "source": [
    "# ## convert your array into a dataframe\n",
    "# xxTemp = np.copy(X)\n",
    "# #y = np.copy(X[:,-1])\n",
    "# df = pd.DataFrame(xxTemp)\n",
    "# ## save to xlsx file\n",
    "\n",
    "# filepath = 'dataTEST50.xlsx'\n",
    "# df.to_excel(filepath, index=False)\n",
    "# tot = len(xxTemp)"
   ]
  },
  {
   "cell_type": "code",
   "execution_count": 10,
   "metadata": {
    "scrolled": false
   },
   "outputs": [],
   "source": [
    "# for conceptNum,concept in enumerate(allConcepts):\n",
    "#     t0 = time.time()\n",
    "#     print(\">>>>>>>>>>>>>>>>>>>>>>>>>>>>\\n\",conceptNum+1,\": Concept : \",concept)\n",
    "#     # Get label for corresponding fruit (for given color)\n",
    "#     #label = data.loc[conceptNum]['col_'+str(color)]\n",
    "#     ct = 0    # Keeps track of images inside a category\n",
    "#     trainFiles = glob.glob( path + \"/\" +typeImg +\"/\" +concept+\"/*.*\" )\n",
    "#     print(\"\\tTotal number of images for \",concept,\" : \",len(trainFiles))\n",
    "#     t = []\n",
    "#     for m, nameFile in enumerate(trainFiles[:50]):\n",
    "#         print(nameFile)\n",
    "#         p = imread(nameFile)\n",
    "#         imageResized = resize( p, (sz,sz),anti_aliasing=True,mode='reflect')\n",
    "        "
   ]
  },
  {
   "cell_type": "code",
   "execution_count": 11,
   "metadata": {},
   "outputs": [],
   "source": [
    "# trainFiles = glob.glob( path + \"/\" +typeImg +\"/\" +\"Glass/*.*\" )\n",
    "# for m, nameFile in enumerate(trainFiles[8:50]):\n",
    "#         image = imread( nameFile )\n",
    "#         print(nameFile)\n",
    "#         imageResized = resize( image, (sz,sz),anti_aliasing=True,mode='reflect')\n",
    "#         img = imageResized\n",
    "#         # Convert the pixels in  image to LAB space\n",
    "#         imgLAB = skcolor.rgb2lab(img)\n"
   ]
  },
  {
   "cell_type": "markdown",
   "metadata": {},
   "source": [
    "# Analysis"
   ]
  },
  {
   "cell_type": "code",
   "execution_count": 12,
   "metadata": {},
   "outputs": [],
   "source": [
    "strtInd = [0, 1850, 3700, 5550, 7400, 9250, 11100]"
   ]
  },
  {
   "cell_type": "code",
   "execution_count": 13,
   "metadata": {},
   "outputs": [
    {
     "data": {
      "text/plain": [
       "(11100, 4)"
      ]
     },
     "execution_count": 13,
     "metadata": {},
     "output_type": "execute_result"
    }
   ],
   "source": [
    "filepath = 'dataTEST50.xlsx'\n",
    "df = pd.read_excel(filepath)\n",
    "Q = df.as_matrix()\n",
    "Q.shape"
   ]
  },
  {
   "cell_type": "code",
   "execution_count": 14,
   "metadata": {},
   "outputs": [
    {
     "data": {
      "text/plain": [
       "11100"
      ]
     },
     "execution_count": 14,
     "metadata": {},
     "output_type": "execute_result"
    }
   ],
   "source": [
    "len(Q)"
   ]
  },
  {
   "cell_type": "code",
   "execution_count": 15,
   "metadata": {},
   "outputs": [],
   "source": [
    "Xtest = np.column_stack([np.ones((len(Q),1)), Q[:,:-1]])\n",
    "ytest = np.copy(Q[:,-1])\n",
    "weights = [0.13858045, 0.13921446, 0.12137094, 0.30032727]\n",
    "#[0.13772196, 0.11861657, 0.12768021, 0.32313017]"
   ]
  },
  {
   "cell_type": "code",
   "execution_count": 16,
   "metadata": {},
   "outputs": [],
   "source": [
    "y_predAll = Xtest.dot(weights)"
   ]
  },
  {
   "cell_type": "code",
   "execution_count": 17,
   "metadata": {},
   "outputs": [
    {
     "data": {
      "text/plain": [
       "array([20, 25])"
      ]
     },
     "execution_count": 17,
     "metadata": {},
     "output_type": "execute_result"
    }
   ],
   "source": [
    "np.array([[3, 5, 6],[5, 6, 7]]).dot(np.array([1, 1,2]))"
   ]
  },
  {
   "cell_type": "code",
   "execution_count": 18,
   "metadata": {},
   "outputs": [
    {
     "data": {
      "text/plain": [
       "(11100,)"
      ]
     },
     "execution_count": 18,
     "metadata": {},
     "output_type": "execute_result"
    }
   ],
   "source": [
    "ytest.shape"
   ]
  },
  {
   "cell_type": "code",
   "execution_count": 19,
   "metadata": {
    "scrolled": false
   },
   "outputs": [
    {
     "name": "stdout",
     "output_type": "stream",
     "text": [
      "(1850,)\n",
      "The true squared error (in color ratings) for left out fruit Paper is: 1.9019\n",
      "\n",
      "Pearson’s correlation coefficient (between true ratings and avg predicted ratings) is 0.8791\n",
      "p-value 0.0000\n",
      "(1850,)\n",
      "The true squared error (in color ratings) for left out fruit Plastic is: 1.4073\n",
      "\n",
      "Pearson’s correlation coefficient (between true ratings and avg predicted ratings) is 0.4048\n",
      "p-value 0.0130\n",
      "(1850,)\n",
      "The true squared error (in color ratings) for left out fruit Trash is: 1.9371\n",
      "\n",
      "Pearson’s correlation coefficient (between true ratings and avg predicted ratings) is 0.5151\n",
      "p-value 0.0011\n",
      "(1850,)\n",
      "The true squared error (in color ratings) for left out fruit Compost is: 1.8387\n",
      "\n",
      "Pearson’s correlation coefficient (between true ratings and avg predicted ratings) is 0.6639\n",
      "p-value 0.0000\n",
      "(1850,)\n",
      "The true squared error (in color ratings) for left out fruit Metal is: 0.8006\n",
      "\n",
      "Pearson’s correlation coefficient (between true ratings and avg predicted ratings) is 0.8719\n",
      "p-value 0.0000\n",
      "(1850,)\n",
      "The true squared error (in color ratings) for left out fruit Glass is: 2.0554\n",
      "\n",
      "Pearson’s correlation coefficient (between true ratings and avg predicted ratings) is 0.7731\n",
      "p-value 0.0000\n"
     ]
    }
   ],
   "source": [
    "from scipy import stats\n",
    "plt.close('all')\n",
    "win0_50 = []\n",
    "win1_50 = []\n",
    "win2_50 = []\n",
    "\n",
    "correlation_50 = []\n",
    "error_50 = []\n",
    "\n",
    "for i in range(len(strtInd)-1):\n",
    "    # Leave one entire fruit group\n",
    "    testFruit =  allConcepts[i]\n",
    "    #print(\"\\nLeaving out fruit group : \",allConcepts[i])\n",
    "    y_pred = np.copy(y_predAll[strtInd[i]:strtInd[i+1]])\n",
    "    y_test = np.copy(ytest[strtInd[i]:strtInd[i+1]])\n",
    "    print(y_pred.shape)\n",
    "    totalTestImages = y_pred.size/numColors  #37N rows -> every image has 37 rows of data\n",
    "    avg_pred =[np.sum([y_pred[p] for p in range(q,y_pred.size,numColors)])/totalTestImages for q in range(numColors)]\n",
    "\n",
    "    # For Pearson correlation coefficient and the p-value (between avg_pred and true rating for fruit group)\n",
    "    trueRating = np.copy(y_test[0:numColors])\n",
    "    \n",
    "    sqErr = np.sum(pow(avg_pred - trueRating,2))\n",
    "    print(\"The true squared error (in color ratings) for left out fruit\",testFruit,\"is: %.4f\" % sqErr)\n",
    "    \n",
    "    corrCoeff, pVal = stats.pearsonr(avg_pred, trueRating)\n",
    "    \n",
    "    print(\"\\nPearson’s correlation coefficient (between true ratings and avg predicted ratings) is %.4f\" %corrCoeff)\n",
    "    print(\"p-value %.4f\" %pVal)\n",
    "\n",
    "    error_50.append(sqErr)\n",
    "    correlation_50.append(corrCoeff)\n",
    "    win0_50.append(corrCoeff) # saves correlation for test fruit\n",
    "    win1_50.append(trueRating) # saves true rating for test fruit\n",
    "    win2_50.append(avg_pred)   # saves avg predicted rating for test fruit\n",
    "    # Plot average color rating over all test images.\n",
    "#     fig= plt.figure(figsize=(10,3))\n",
    "#     barPlot = plt.bar(range(1,numColors+1),avg_pred,color = colorDataRGB.values,edgeColor = [0, 0, 0])\n",
    "#     plt.ylabel('Ratings')\n",
    "#     plt.xlabel('Colors')\n",
    "#     plt.title('Predicted color ratings for Concept : %s' %testFruit)\n",
    "#     plt.xticks([i for i in range(1,numColors+1,3)],[i for i in range(1,numColors+1,3)])\n",
    "#     plt.ylim(0,1)\n",
    "#     plt.show()\n",
    "\n",
    "#     fig= plt.figure(figsize=(10,3))\n",
    "#     barPlot = plt.bar(range(1,numColors+1), trueRating,color = colorDataRGB.values,edgeColor = [0, 0, 0])\n",
    "#     plt.ylabel('Ratings')\n",
    "#     plt.xlabel('Colors')\n",
    "#     plt.title('True color ratings for Concept : %s' %testFruit)\n",
    "#     plt.xticks([i for i in range(1,numColors+1,3)],[i for i in range(1,numColors+1,3)])\n",
    "#     plt.ylim(0,1)\n",
    "#     plt.show()\n",
    "\n",
    "#     # Scatter plot\n",
    "#     fig2 = plt.figure(figsize=(7,7))\n",
    "#     plt.scatter(trueRating,avg_pred,c=colorDataRGB.values,s=80,marker = 'o',linewidths=0.5,edgeColor = [0, 0, 0])\n",
    "#     plt.ylabel('Predicted Ratings')\n",
    "#     plt.xlabel('Subject Ratings')\n",
    "#     plt.title('Scatter plot of color ratings for : %s' %testFruit)\n",
    "#     plt.axis('equal')\n",
    "#     plt.xlim(0,1)\n",
    "#     plt.ylim(0,1)\n",
    "#     plt.show() "
   ]
  },
  {
   "cell_type": "code",
   "execution_count": 20,
   "metadata": {},
   "outputs": [
    {
     "data": {
      "image/png": "[encoded data removed]",
      "text/plain": [
       "<Figure size 432x288 with 1 Axes>"
      ]
     },
     "metadata": {},
     "output_type": "display_data"
    }
   ],
   "source": [
    "plt.close('all')\n",
    "barWidth = 0.5\n",
    "plt.bar(range(1,7),win0_50, width = barWidth)\n",
    "plt.xticks(range(1,7),allConcepts)\n",
    "plt.title(\"Correlation for Test Concepts (NumImages: #50)\")\n",
    "plt.ylabel('Correlation')\n",
    "plt.ylim(0,1)\n",
    "plt.show()"
   ]
  },
  {
   "cell_type": "code",
   "execution_count": 140,
   "metadata": {},
   "outputs": [
    {
     "data": {
      "text/plain": [
       "[0.8791125311273522,\n",
       " 0.40479140380407114,\n",
       " 0.5151289246513693,\n",
       " 0.6639181954905902,\n",
       " 0.8719009745606465,\n",
       " 0.7730519771971549]"
      ]
     },
     "execution_count": 140,
     "metadata": {},
     "output_type": "execute_result"
    }
   ],
   "source": [
    "correlation_50"
   ]
  },
  {
   "cell_type": "code",
   "execution_count": 141,
   "metadata": {},
   "outputs": [
    {
     "data": {
      "text/plain": [
       "['Paper', 'Plastic', 'Trash', 'Compost', 'Metal', 'Glass']"
      ]
     },
     "execution_count": 141,
     "metadata": {},
     "output_type": "execute_result"
    }
   ],
   "source": [
    "allConcepts"
   ]
  },
  {
   "cell_type": "markdown",
   "metadata": {},
   "source": [
    "# Scatter Plots "
   ]
  },
  {
   "cell_type": "code",
   "execution_count": 138,
   "metadata": {},
   "outputs": [],
   "source": [
    "import matplotlib as mpl\n",
    "mpl.rcParams.update({'font.size': 9})\n",
    "def createScatterPlots(indices, win0, win1, win2,numImages):\n",
    "    model_num = 3\n",
    "    print(\"----------------------- Creating plots for Model ---------------Sector+Category\")\n",
    "    # print(indices)\n",
    "    # print(win0)\n",
    "    \n",
    "    k = 1\n",
    "    plt.close('all')\n",
    "    plt.subplots(2,3,figsize=(5,4))\n",
    "    for i in range(len(indices)-1,-1,-1):\n",
    "        # Scatter plot\n",
    "\n",
    "        arg = indices[i]\n",
    "        trueRating = win1[arg]\n",
    "        avg_pred = win2[arg]\n",
    "\n",
    "        ax = plt.subplot(2,3,k,aspect='equal') #plt.figure(figsize=(7,7))\n",
    "        #ax = f.add_subplot(3,4,k)\n",
    "        plt.scatter(trueRating,avg_pred,c=colorDataRGB.values,marker = 'o',s=15)\n",
    "        if k == 1 or k == 4:\n",
    "            plt.ylabel('Mean Predicted Rating')\n",
    "        plt.xlabel('Mean Rating')\n",
    "        s = allConcepts[arg]+\"( %.2f )\" %win0[arg]\n",
    "        #print(s)\n",
    "        plt.title(s)\n",
    "        plt.xlim(0,1)\n",
    "        plt.ylim(0,1)\n",
    "        plt.yticks([0,0.5,1])\n",
    "        plt.xticks([0,0.5,1])\n",
    "        plt.tick_params(direction='in')\n",
    "        plt.plot(np.unique(trueRating), np.poly1d(np.polyfit(trueRating, avg_pred, 1))(np.unique(trueRating)),'k--')\n",
    "        k = k+1\n",
    "    plotName = \"Test_ScatterPlot_Model_\"+str(numImages)+\".pdf\"\n",
    "    plt.tight_layout()\n",
    "    plt.subplots_adjust(wspace=0.3, hspace=0.5)\n",
    "    plt.savefig(plotName, bbox_inches = 'tight', pad_inches = 0)\n",
    "    plt.show()\n",
    "    \n",
    "    \n"
   ]
  },
  {
   "cell_type": "code",
   "execution_count": 139,
   "metadata": {},
   "outputs": [
    {
     "name": "stdout",
     "output_type": "stream",
     "text": [
      "----------------------- Creating plots for Model ---------------Sector+Category\n"
     ]
    },
    {
     "data": {
      "image/png": "[encoded data removed]",
      "text/plain": [
       "<Figure size 360x288 with 6 Axes>"
      ]
     },
     "metadata": {},
     "output_type": "display_data"
    }
   ],
   "source": [
    "indices = np.argsort(win0_50)\n",
    "createScatterPlots(indices, win0_50, win1_50, win2_50,50)"
   ]
  },
  {
   "cell_type": "markdown",
   "metadata": {},
   "source": [
    "# Analysis using just top 5"
   ]
  },
  {
   "cell_type": "code",
   "execution_count": 21,
   "metadata": {},
   "outputs": [
    {
     "data": {
      "text/plain": [
       "37"
      ]
     },
     "execution_count": 21,
     "metadata": {},
     "output_type": "execute_result"
    }
   ],
   "source": [
    "numColors"
   ]
  },
  {
   "cell_type": "code",
   "execution_count": 22,
   "metadata": {
    "scrolled": false
   },
   "outputs": [
    {
     "name": "stdout",
     "output_type": "stream",
     "text": [
      "(185,)\n",
      "Total test images:  5.0\n",
      "The true squared error (in color ratings) for left out fruit Paper is: 2.1064\n",
      "\n",
      "Pearson’s correlation coefficient (between true ratings and avg predicted ratings) is 0.7748\n",
      "p-value 0.0000\n",
      "(185,)\n",
      "Total test images:  5.0\n",
      "The true squared error (in color ratings) for left out fruit Plastic is: 1.2363\n",
      "\n",
      "Pearson’s correlation coefficient (between true ratings and avg predicted ratings) is 0.4704\n",
      "p-value 0.0033\n",
      "(185,)\n",
      "Total test images:  5.0\n",
      "The true squared error (in color ratings) for left out fruit Trash is: 2.0598\n",
      "\n",
      "Pearson’s correlation coefficient (between true ratings and avg predicted ratings) is 0.3528\n",
      "p-value 0.0322\n",
      "(185,)\n",
      "Total test images:  5.0\n",
      "The true squared error (in color ratings) for left out fruit Compost is: 1.7882\n",
      "\n",
      "Pearson’s correlation coefficient (between true ratings and avg predicted ratings) is 0.6194\n",
      "p-value 0.0000\n",
      "(185,)\n",
      "Total test images:  5.0\n",
      "The true squared error (in color ratings) for left out fruit Metal is: 1.3191\n",
      "\n",
      "Pearson’s correlation coefficient (between true ratings and avg predicted ratings) is 0.4829\n",
      "p-value 0.0025\n",
      "(185,)\n",
      "Total test images:  5.0\n",
      "The true squared error (in color ratings) for left out fruit Glass is: 2.3938\n",
      "\n",
      "Pearson’s correlation coefficient (between true ratings and avg predicted ratings) is 0.5080\n",
      "p-value 0.0013\n"
     ]
    }
   ],
   "source": [
    "from scipy import stats\n",
    "plt.close('all')\n",
    "win0_5 = []\n",
    "win1_5 = []\n",
    "win2_5 = []\n",
    "\n",
    "correlation_5 = []\n",
    "error_5 = []\n",
    "\n",
    "for i in range(len(strtInd)-1):\n",
    "    # Leave one entire fruit group\n",
    "    testFruit =  allConcepts[i]\n",
    "    #print(\"\\nLeaving out fruit group : \",allConcepts[i])\n",
    "    y_pred = np.copy(y_predAll[strtInd[i]:strtInd[i]+(5*numColors)])\n",
    "    \n",
    "    y_test = np.copy(ytest[strtInd[i]:strtInd[i]+(5*numColors)])\n",
    "    print(y_pred.shape)\n",
    "    totalTestImages = y_pred.size/numColors  #37N rows -> every image has 37 rows of data\n",
    "    print(\"Total test images: \",  totalTestImages)\n",
    "    avg_pred = np.array([np.sum([y_pred[p] for p in range(q,y_pred.size,numColors)])/totalTestImages for q in range(numColors)])\n",
    "    #print(avg_pred)\n",
    "    # For Pearson correlation coefficient and the p-value (between avg_pred and true rating for fruit group)\n",
    "    trueRating = np.copy(y_test[0:numColors])\n",
    "   \n",
    "    sqErr = np.sum(pow(avg_pred - trueRating,2))\n",
    "    print(\"The true squared error (in color ratings) for left out fruit\",testFruit,\"is: %.4f\" % sqErr)\n",
    "    \n",
    "    corrCoeff, pVal = stats.pearsonr(avg_pred, trueRating)\n",
    "    \n",
    "    print(\"\\nPearson’s correlation coefficient (between true ratings and avg predicted ratings) is %.4f\" %corrCoeff)\n",
    "    print(\"p-value %.4f\" %pVal)\n",
    "\n",
    "    error_5.append(sqErr)\n",
    "    correlation_5.append(corrCoeff)\n",
    "    win0_5.append(corrCoeff) # saves correlation for test fruit\n",
    "    win1_5.append(trueRating) # saves true rating for test fruit\n",
    "    win2_5.append(avg_pred)   # saves avg predicted rating for test fruit\n",
    "    # Plot average color rating over all test images.\n",
    "#     fig= plt.figure(figsize=(10,3))\n",
    "#     barPlot = plt.bar(range(1,numColors+1),avg_pred,color = colorDataRGB.values,edgeColor = [0, 0, 0])\n",
    "#     plt.ylabel('Ratings')\n",
    "#     plt.xlabel('Colors')\n",
    "#     plt.title('Predicted color ratings for Concept : %s' %testFruit)\n",
    "#     plt.xticks([i for i in range(1,numColors+1,3)],[i for i in range(1,numColors+1,3)])\n",
    "#     plt.ylim(0,1)\n",
    "#     plt.show()\n",
    "\n",
    "#     fig= plt.figure(figsize=(10,3))\n",
    "#     barPlot = plt.bar(range(1,numColors+1), trueRating,color = colorDataRGB.values,edgeColor = [0, 0, 0])\n",
    "#     plt.ylabel('Ratings')\n",
    "#     plt.xlabel('Colors')\n",
    "#     plt.title('True color ratings for Concept : %s' %testFruit)\n",
    "#     plt.xticks([i for i in range(1,numColors+1,3)],[i for i in range(1,numColors+1,3)])\n",
    "#     plt.ylim(0,1)\n",
    "#     plt.show()\n",
    "\n",
    "#     # Scatter plot\n",
    "#     fig2 = plt.figure(figsize=(7,7))\n",
    "#     plt.scatter(trueRating,avg_pred,c=colorDataRGB.values,s=80,marker = 'o',linewidths=0.5,edgeColor = [0, 0, 0])\n",
    "#     plt.ylabel('Predicted Ratings')\n",
    "#     plt.xlabel('Subject Ratings')\n",
    "#     plt.title('Scatter plot of color ratings for : %s' %testFruit)\n",
    "#     plt.axis('equal')\n",
    "#     plt.xlim(0,1)\n",
    "#     plt.ylim(0,1)\n",
    "#     plt.show() "
   ]
  },
  {
   "cell_type": "code",
   "execution_count": 23,
   "metadata": {},
   "outputs": [
    {
     "data": {
      "text/plain": [
       "[0.7747773958718557,\n",
       " 0.47041800827547775,\n",
       " 0.352817565211452,\n",
       " 0.6194062997528875,\n",
       " 0.48291107345545164,\n",
       " 0.5079749422303076]"
      ]
     },
     "execution_count": 23,
     "metadata": {},
     "output_type": "execute_result"
    }
   ],
   "source": [
    "correlation_5"
   ]
  },
  {
   "cell_type": "code",
   "execution_count": 24,
   "metadata": {},
   "outputs": [
    {
     "data": {
      "text/plain": [
       "[0.8791125311273522,\n",
       " 0.40479140380407114,\n",
       " 0.5151289246513693,\n",
       " 0.6639181954905902,\n",
       " 0.8719009745606465,\n",
       " 0.7730519771971549]"
      ]
     },
     "execution_count": 24,
     "metadata": {},
     "output_type": "execute_result"
    }
   ],
   "source": [
    "correlation_50"
   ]
  },
  {
   "cell_type": "code",
   "execution_count": 25,
   "metadata": {},
   "outputs": [
    {
     "data": {
      "image/png": "[encoded data removed]",
      "text/plain": [
       "<Figure size 432x288 with 1 Axes>"
      ]
     },
     "metadata": {},
     "output_type": "display_data"
    }
   ],
   "source": [
    "barWidth = 0.5\n",
    "plt.bar(range(1,7),win0_5, width = barWidth)\n",
    "plt.xticks(range(1,7),allConcepts)\n",
    "plt.title(\"Correlation for Test Concepts (NumPhotos: #5)\")\n",
    "plt.ylabel('Correlation')\n",
    "plt.ylim(0,1)\n",
    "plt.show()"
   ]
  },
  {
   "cell_type": "code",
   "execution_count": 26,
   "metadata": {},
   "outputs": [
    {
     "data": {
      "image/png": "[encoded data removed]",
      "text/plain": [
       "<Figure size 216x108 with 1 Axes>"
      ]
     },
     "metadata": {},
     "output_type": "display_data"
    }
   ],
   "source": [
    "plt.close('all')\n",
    "barWidth = 0.1\n",
    "#r1 = [0.4,0.8,1.2,1.6,2,2.4]\n",
    "r1 = [0.1,0.4,0.7,1,1.3,1.6]\n",
    "r2 = [x + barWidth for x in r1]\n",
    "r3 = [x + 2*barWidth for x in r1]\n",
    "\n",
    "#t.bar(r1, bars1, width = barWidth, color = 'blue', edgecolor = 'black', yerr=yer1, capsize=7, label='poacee')\n",
    "fig = plt.figure(figsize =(3,1.5)) # (12,6)\n",
    "\n",
    "mline3 = plt.stem(r1,correlation_50,label='Sector + Category')\n",
    "plt.setp(mline3, color=[0,0,0], linewidth=1.5, markersize = 3)\n",
    "\n",
    "plt.xticks(r1,allConcepts)\n",
    "plt.yticks([0,0.5,1])\n",
    "plt.tick_params(direction='in')\n",
    "plt.title(\"Correlation in Test Concepts (#Images: 50)\")\n",
    "plt.ylabel('Correlation')\n",
    "plt.legend()\n",
    "\n",
    "plt.tight_layout()\n",
    "plt.savefig('Exp3_Correlation.pdf')\n",
    "plt.show()\n"
   ]
  },
  {
   "cell_type": "code",
   "execution_count": 27,
   "metadata": {},
   "outputs": [
    {
     "data": {
      "image/png": "[encoded data removed]",
      "text/plain": [
       "<Figure size 252x144 with 1 Axes>"
      ]
     },
     "metadata": {},
     "output_type": "display_data"
    }
   ],
   "source": [
    "plt.close('all')\n",
    "barWidth = 0.3\n",
    "r1 = range(1,7)\n",
    "r2 = [x + barWidth for x in r1]\n",
    "r3 = [x + 2*barWidth for x in r1]\n",
    "\n",
    "#t.bar(r1, bars1, width = barWidth, color = 'blue', edgecolor = 'black', yerr=yer1, capsize=7, label='poacee')\n",
    "fig = plt.figure(figsize =(3.5,2)) # (12,6)\n",
    "#linefmt=None, markerfmt=None, basefmt=None, bottom=0, label=None\n",
    "# mline1 = plt.stem(r1,[topErr[0],photoErr[0],cartErr[0]], linefmt='-',label='Model 1')\n",
    "# plt.setp(mline1, color=[0.737,0.737,0.737], linewidth=1.5, markersize = 3)\n",
    "# #plt.setp(sline1, linewidth=0.8)\n",
    "\n",
    "\n",
    "mline2 = plt.stem(r1,correlation_5,label='NumImages = 5')\n",
    "plt.setp(mline2, color=[0.486,0.486,0.486], linewidth=1.5, markersize = 3)\n",
    "\n",
    "mline3 = plt.stem(r2,correlation_50,label='NumImages = 50')\n",
    "plt.setp(mline3, color=[0,0,0], linewidth=1.5, markersize = 3)\n",
    "\n",
    "\n",
    "plt.xticks(r1,allConcepts)\n",
    "plt.yticks([0,0.5,1])\n",
    "plt.tick_params(direction='in')\n",
    "plt.title(\"Correlation for 5 and 50 test images for test concepts\")\n",
    "plt.ylabel('Correlation')\n",
    "plt.legend()\n",
    "\n",
    "plt.tight_layout()\n",
    "plt.savefig('Exp3_DiffNumImages_Correlation.pdf')\n",
    "plt.show()\n"
   ]
  },
  {
   "cell_type": "code",
   "execution_count": 28,
   "metadata": {},
   "outputs": [
    {
     "data": {
      "text/plain": [
       "[1.9019227230146638,\n",
       " 1.407303811767055,\n",
       " 1.9371400882005407,\n",
       " 1.8387030863792606,\n",
       " 0.8006076720127271,\n",
       " 2.0554486581870988]"
      ]
     },
     "execution_count": 28,
     "metadata": {},
     "output_type": "execute_result"
    }
   ],
   "source": [
    "error_50"
   ]
  },
  {
   "cell_type": "code",
   "execution_count": 29,
   "metadata": {},
   "outputs": [
    {
     "data": {
      "text/plain": [
       "[2.1063782743313366,\n",
       " 1.2363033340270593,\n",
       " 2.0597992465468526,\n",
       " 1.7881955318763285,\n",
       " 1.3190833851556205,\n",
       " 2.393779656168634]"
      ]
     },
     "execution_count": 29,
     "metadata": {},
     "output_type": "execute_result"
    }
   ],
   "source": [
    "error_5"
   ]
  },
  {
   "cell_type": "code",
   "execution_count": 30,
   "metadata": {},
   "outputs": [
    {
     "data": {
      "image/png": "[encoded data removed]",
      "text/plain": [
       "<Figure size 216x108 with 1 Axes>"
      ]
     },
     "metadata": {},
     "output_type": "display_data"
    }
   ],
   "source": [
    "plt.close('all')\n",
    "barWidth = 0.1\n",
    "#r1 = range(1,7)\n",
    "r1 = [0.1,0.4,0.7,1,1.3,1.6]\n",
    "r2 = [x + barWidth for x in r1]\n",
    "r3 = [x + 2*barWidth for x in r1]\n",
    "\n",
    "#t.bar(r1, bars1, width = barWidth, color = 'blue', edgecolor = 'black', yerr=yer1, capsize=7, label='poacee')\n",
    "fig = plt.figure(figsize =(3,1.5)) # (12,6)\n",
    "#linefmt=None, markerfmt=None, basefmt=None, bottom=0, label=None\n",
    "# mline1 = plt.stem(r1,[topErr[0],photoErr[0],cartErr[0]], linefmt='-',label='Model 1')\n",
    "# plt.setp(mline1, color=[0.737,0.737,0.737], linewidth=1.5, markersize = 3)\n",
    "# #plt.setp(sline1, linewidth=0.8)\n",
    "\n",
    "\n",
    "# mline2 = plt.stem(r1,[topErr[1],photoErr[1],cartErr[1]],label='Model 2')\n",
    "# plt.setp(mline2, color=[0.486,0.486,0.486], linewidth=1.5, markersize = 3)\n",
    "\n",
    "mline3 = plt.stem(r1,error_50,label='Sector + Category')\n",
    "plt.setp(mline3, color=[0,0,0], linewidth=1.5, markersize = 3)\n",
    "\n",
    "plt.xticks(r1,allConcepts)\n",
    "plt.yticks([0,1,2])\n",
    "plt.tick_params(direction='in')\n",
    "plt.title(\"Error in Test Concepts (#Images: 50)\")\n",
    "plt.ylabel('Error')\n",
    "plt.legend()\n",
    "\n",
    "plt.tight_layout()\n",
    "plt.savefig('Exp3_Error.pdf')\n",
    "plt.show()\n"
   ]
  },
  {
   "cell_type": "code",
   "execution_count": 31,
   "metadata": {},
   "outputs": [
    {
     "data": {
      "image/png": "[encoded data removed]",
      "text/plain": [
       "<Figure size 252x144 with 1 Axes>"
      ]
     },
     "metadata": {},
     "output_type": "display_data"
    }
   ],
   "source": [
    "plt.close('all')\n",
    "barWidth = 0.3\n",
    "r1 = range(1,7)\n",
    "r2 = [x + barWidth for x in r1]\n",
    "r3 = [x + 2*barWidth for x in r1]\n",
    "\n",
    "#t.bar(r1, bars1, width = barWidth, color = 'blue', edgecolor = 'black', yerr=yer1, capsize=7, label='poacee')\n",
    "fig = plt.figure(figsize =(3.5,2)) # (12,6)\n",
    "#linefmt=None, markerfmt=None, basefmt=None, bottom=0, label=None\n",
    "# mline1 = plt.stem(r1,[topErr[0],photoErr[0],cartErr[0]], linefmt='-',label='Model 1')\n",
    "# plt.setp(mline1, color=[0.737,0.737,0.737], linewidth=1.5, markersize = 3)\n",
    "# #plt.setp(sline1, linewidth=0.8)\n",
    "\n",
    "\n",
    "mline2 = plt.stem(r1,error_5,label='NumImages = 5')\n",
    "plt.setp(mline2, color=[0.486,0.486,0.486], linewidth=1.5, markersize = 3)\n",
    "\n",
    "mline3 = plt.stem(r2,error_50,label='NumImages = 50')\n",
    "plt.setp(mline3, color=[0,0,0], linewidth=1.5, markersize = 3)\n",
    "\n",
    "plt.xticks(r1,allConcepts)\n",
    "plt.yticks([0,1,2])\n",
    "plt.tick_params(direction='in')\n",
    "plt.title(\"Error for 5 and 50 test images for test concepts\")\n",
    "plt.ylabel('Error')\n",
    "plt.legend()\n",
    "\n",
    "plt.tight_layout()\n",
    "#plt.savefig('Exp3_DiffNumImages_Error.pdf')\n",
    "plt.show()\n"
   ]
  },
  {
   "cell_type": "code",
   "execution_count": 32,
   "metadata": {},
   "outputs": [
    {
     "data": {
      "text/plain": [
       "[0.8791125311273522,\n",
       " 0.40479140380407114,\n",
       " 0.5151289246513693,\n",
       " 0.6639181954905902,\n",
       " 0.8719009745606465,\n",
       " 0.7730519771971549]"
      ]
     },
     "execution_count": 32,
     "metadata": {},
     "output_type": "execute_result"
    }
   ],
   "source": [
    "correlation_50"
   ]
  },
  {
   "cell_type": "code",
   "execution_count": 40,
   "metadata": {},
   "outputs": [],
   "source": [
    "cor_50,_ = stats.pearsonr(np.array(win2_50).flatten(), np.array(win1_50).flatten())\n",
    "cor_5,_ = stats.pearsonr(np.array(win2_5).flatten(), np.array(win1_5).flatten())"
   ]
  },
  {
   "cell_type": "code",
   "execution_count": 43,
   "metadata": {},
   "outputs": [
    {
     "name": "stdout",
     "output_type": "stream",
     "text": [
      "Overall correlation for top 50 is: 0.6783553152733253\n",
      "Overall correlation for top 5 is: 0.476553477965198\n"
     ]
    }
   ],
   "source": [
    "print(\"Overall correlation for top 50 is:\",cor_50)\n",
    "print(\"Overall correlation for top 5 is:\",cor_5)"
   ]
  },
  {
   "cell_type": "code",
   "execution_count": 46,
   "metadata": {},
   "outputs": [],
   "source": [
    "t = np.array(win2_5).flatten()"
   ]
  }
 ],
 "metadata": {
  "kernelspec": {
   "display_name": "Python 3",
   "language": "python",
   "name": "python3"
  },
  "language_info": {
   "codemirror_mode": {
    "name": "ipython",
    "version": 3
   },
   "file_extension": ".py",
   "mimetype": "text/x-python",
   "name": "python",
   "nbconvert_exporter": "python",
   "pygments_lexer": "ipython3",
   "version": "3.6.3"
  }
 },
 "nbformat": 4,
 "nbformat_minor": 2
}
