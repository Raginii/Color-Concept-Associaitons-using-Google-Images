{
 "cells": [
  {
   "cell_type": "markdown",
   "metadata": {},
   "source": [
    "## Test new concepts "
   ]
  },
  {
   "cell_type": "markdown",
   "metadata": {},
   "source": [
    "#### This file can be used to test new concepts based on the weights from the Sector+Category model trained on entire fruit data.\n",
    "#### These weights can be found in the file getWeightsAllFruits.ipynb (Refer the notebook for reference as the weights are directly used here.)"
   ]
  },
  {
   "cell_type": "markdown",
   "metadata": {},
   "source": [
    "### It is assumed that you have the Lab, RGB and category information for the new set of colors you are running. The above data is already there for UW-58 (default) and BCP-37 colors."
   ]
  },
  {
   "cell_type": "markdown",
   "metadata": {},
   "source": [
    "#### Initialize/ Modify these"
   ]
  },
  {
   "cell_type": "code",
   "execution_count": 95,
   "metadata": {},
   "outputs": [],
   "source": [
    "# Initialize these:\n",
    "import pandas as pd\n",
    "\n",
    "# path to the git repo's downloads folder. This is where all sets of images are present.\n",
    "path = \"E:/GitRepo/Color-Concept-Associations-using-Google-Images/downloads\"  #<Modify this>\n",
    "\n",
    "# Folder inside downloads where the new concepts test images are.\n",
    "typeImg = \"newTestConcepts\" \n",
    "\n",
    "# Image resized to sz x sz\n",
    "sz = 100 \n",
    "\n",
    "## Number of images to be used for generating features.\n",
    "numImages = 120     #<Modify this>\n",
    "\n",
    "# insert new concepts here.\n",
    "allConcepts = [\"filk_c\",\"filk_w\",\"slub_c\",\"slub_w\"]  #<Modify this>\n",
    "\n",
    "# Set dataFlag to True if (concepts are fruits from our experiments) AND (colors are UW58 colors).\n",
    "# However, by default it is assumed you are running this notebook for new set of concepts or new set of colors.\n",
    "dataFlag = False    #<Modify this>\n",
    "\n",
    "#### SET THESE VARIABLES ####\n",
    "\n",
    "# Set trueRatingsPresent to True if there exist true ratings of new concepts for colors. Save them as trueData.csv in the same folder as this file.\n",
    "trueRatingsPresent = True #False    #<Modify this>\n",
    "    \n",
    "# Set to true if using UW-58 colors ---- Default\n",
    "uw58 = False  # --Default--  #<you can modify this>\n",
    "\n",
    "#Set to true if using BCP-37 colors\n",
    "bcp37 = True   #<Modify this>\n",
    "\n",
    "# data.csv ---> Contains true associated ratings for our fruit concepts for every UW-58 color."
   ]
  },
  {
   "cell_type": "markdown",
   "metadata": {},
   "source": [
    "### Initialize/ Modify these if using a new set of colors. Else, ignore the cell below."
   ]
  },
  {
   "cell_type": "code",
   "execution_count": 97,
   "metadata": {},
   "outputs": [],
   "source": [
    "if uw58 == False and bcp37 == False:\n",
    "    numColors = 20 # number of new colors here.\n",
    "    colNames = [\"col_\"+str(i) for i in range(numColors)]  # --don't modify --\n",
    "\n",
    "    # trueData.csv is the true associated ratings for new test concepts for all new colors, if it exists.\n",
    "    if trueRatingsPresent == True:\n",
    "        data = pd.read_csv(\"trueData.csv\",names = colNames)\n",
    "    \n",
    "    # RENAME FILENAMES IF NEEDED.\n",
    "    \n",
    "    # Get the LAB coordinates of colors from file Lab.csv (Required)\n",
    "    colorData = pd.read_csv(\"Lab_newColors.csv\",header=None)\n",
    "    colorDataRGB = pd.read_csv(\"RGB_newColors.csv\",header=None)\n",
    "\n",
    "    # Categorical information about the colors (Required)\n",
    "    category = pd.read_csv(\"Category_newColors.csv\",header=None)"
   ]
  },
  {
   "cell_type": "markdown",
   "metadata": {},
   "source": [
    "#### Gets proper color data if using uw58 colors.  DO NOT MODIFY."
   ]
  },
  {
   "cell_type": "code",
   "execution_count": 99,
   "metadata": {},
   "outputs": [],
   "source": [
    "if uw58 == True:\n",
    "    numColors = 58 # number of new colors here.\n",
    "    colNames = [\"col_\"+str(i) for i in range(numColors)]  # --don't modify --\n",
    "\n",
    "    # trueData.csv is the true associated ratings for new test concepts for all new colors, if it exists.\n",
    "    if trueRatingsPresent == True:\n",
    "        if dataFlag == True:\n",
    "            data = pd.read_csv(\"data.csv\",names = colNames)\n",
    "        else:\n",
    "            data = pd.read_csv(\"trueData.csv\",names = colNames)\n",
    "\n",
    "    # Get the LAB coordinates of colors from file Lab.csv (Required)\n",
    "    colorData = pd.read_csv(\"Lab.csv\",header=None)\n",
    "    colorDataRGB = pd.read_csv(\"RGB.csv\",header=None)\n",
    "\n",
    "    # Categorical information about the colors (Required)\n",
    "    category = pd.read_csv(\"Category.csv\",header=None)"
   ]
  },
  {
   "cell_type": "markdown",
   "metadata": {},
   "source": [
    "#### Gets proper color data if using BCP37 colors.   DO NOT MODIFY."
   ]
  },
  {
   "cell_type": "code",
   "execution_count": 100,
   "metadata": {},
   "outputs": [],
   "source": [
    "if bcp37 == True:\n",
    "    numColors = 37 # number of new colors here.\n",
    "    colNames = [\"col_\"+str(i) for i in range(numColors)] \n",
    "\n",
    "    # # trueData.csv is the true associated ratings for new test concepts for all colors, if it exists.\n",
    "\n",
    "    if trueRatingsPresent == True:\n",
    "        data = pd.read_csv(\"trueData.csv\",names = colNames)\n",
    "\n",
    "    # Get the LAB coordinates of colors from file Lab.csv (Required)\n",
    "    colorData = pd.read_csv(\"TestScripts/Lab_test.csv\",header=None)\n",
    "    colorDataRGB = pd.read_csv(\"TestScripts/RGB_test.csv\",header=None)\n",
    "\n",
    "    # Categorical information about the colors (Required)\n",
    "    category = pd.read_csv(\"TestScripts/Category_test.csv\",header=None)"
   ]
  },
  {
   "cell_type": "markdown",
   "metadata": {},
   "source": [
    "#### Saving the new concepts as .csv and defining weights from \"getWeightsAllFruits.ipynb\".   DO NOT MODIFY."
   ]
  },
  {
   "cell_type": "code",
   "execution_count": 101,
   "metadata": {},
   "outputs": [],
   "source": [
    "# save these concepts to a csv -- to avoid restating the allConcepts again\n",
    "df = pd.DataFrame(allConcepts)\n",
    "## save to csv file\n",
    "filepath = 'testConcepts.csv'\n",
    "df.to_csv(filepath, index=False, header = None)\n",
    "\n",
    "# Weights from getWeightsAllFruits.ipynb  -- Model used entire fruit data for training\n",
    "weights = [0.13629966, 0.13731228, 0.12712168, 0.31100729]"
   ]
  },
  {
   "cell_type": "markdown",
   "metadata": {},
   "source": [
    "## Download the images (Optional). If you already have the images, save them inside downloads/newTestConcepts. Each concept's images should be inside a subfolder with the same name as concept."
   ]
  },
  {
   "cell_type": "markdown",
   "metadata": {},
   "source": [
    "### Uncomment (Select the cell -> Ctrl+A -> Ctrl+/ ) if you wish to download images from google."
   ]
  },
  {
   "cell_type": "code",
   "execution_count": 102,
   "metadata": {},
   "outputs": [],
   "source": [
    "# pip install google_images_download "
   ]
  },
  {
   "cell_type": "code",
   "execution_count": 103,
   "metadata": {
    "scrolled": false
   },
   "outputs": [],
   "source": [
    "# # Add the concepts as keywords\n",
    "\n",
    "# from google_images_download import google_images_download\n",
    "# response = google_images_download.googleimagesdownload()\n",
    "# arguments = {\"keywords_from_file\":\"testConcepts.csv\",\"limit\":numImages, \"output_directory\":\"downloads/newTestConcepts\", \"format\":\"jpg\"}   #creating list of arguments\n",
    "# paths = response.download(arguments)\n",
    "\n",
    "# # type = (face, photo, clip-art, line-drawing, animated)\n",
    "# # format = jpg, gif, png, bmp, svg, webp, ico, raw"
   ]
  },
  {
   "cell_type": "markdown",
   "metadata": {},
   "source": [
    "#   DO NOT MODIFY THE CELLS BELOW."
   ]
  },
  {
   "cell_type": "code",
   "execution_count": 104,
   "metadata": {},
   "outputs": [],
   "source": [
    "# # Include imports\n",
    "import glob\n",
    "from skimage.transform import resize\n",
    "from skimage.io import imread, imsave, imshow\n",
    "import os\n",
    "\n",
    "import numpy as np\n",
    "import skimage.color as skcolor\n",
    "import matplotlib.pyplot as plt\n",
    "\n",
    "from sklearn import datasets, linear_model\n",
    "from sklearn.metrics import mean_squared_error, r2_score\n",
    "import time"
   ]
  },
  {
   "cell_type": "markdown",
   "metadata": {},
   "source": [
    "## Uses the images from the NEW concepts. \n",
    "\n",
    "\n",
    "#### Make sure all the images are not corrupt or damaged."
   ]
  },
  {
   "cell_type": "code",
   "execution_count": 105,
   "metadata": {},
   "outputs": [
    {
     "name": "stdout",
     "output_type": "stream",
     "text": [
      "E:/GitRepo/Color-Concept-Associations-using-Google-Images/downloads/newTestConcepts/filk_c/*.*\n",
      "120\n",
      "E:/GitRepo/Color-Concept-Associations-using-Google-Images/downloads/newTestConcepts/filk_w/*.*\n",
      "240\n",
      "E:/GitRepo/Color-Concept-Associations-using-Google-Images/downloads/newTestConcepts/slub_c/*.*\n",
      "360\n",
      "E:/GitRepo/Color-Concept-Associations-using-Google-Images/downloads/newTestConcepts/slub_w/*.*\n",
      "480\n",
      "Category:  newTestConcepts\n",
      "Total images :  480\n"
     ]
    }
   ],
   "source": [
    "# Count total number of images\n",
    "\n",
    "count = 0\n",
    "for i in allConcepts:\n",
    "    print(path + \"/\" +typeImg +\"/\" +i+\"/*.*\")\n",
    "    trainFiles = glob.glob( path + \"/\" +typeImg +\"/\" +i+\"/*.*\" )\n",
    "    count = count + len(trainFiles)\n",
    "    print(count)\n",
    "print(\"Category: \",typeImg)\n",
    "print(\"Total images : \",count)"
   ]
  },
  {
   "cell_type": "markdown",
   "metadata": {},
   "source": [
    "## Extracting features from test Images"
   ]
  },
  {
   "cell_type": "markdown",
   "metadata": {},
   "source": [
    "#### Features to be extracted are from Exp 1C"
   ]
  },
  {
   "cell_type": "code",
   "execution_count": 106,
   "metadata": {},
   "outputs": [],
   "source": [
    "import matlab.engine\n",
    "def getCategoriesMatrix(imageFileName,sz):\n",
    "    ## Get total pixel counts of all 11 categories for this imageFile\n",
    "    eng = matlab.engine.start_matlab()\n",
    "    imageCat = np.array(eng.getCategories(imageFileName,sz))\n",
    "    eng.quit()\n",
    "     # imageCat : sz x sz matrix where each pixel has its category\n",
    "    return imageCat\n",
    "\n",
    "def getSegmentedImage(imageFileName,sz): # Returns segmented pixels in LAB and its corresponding color category.\n",
    "    eng = matlab.engine.start_matlab()\n",
    "    segImg, segImgCat = eng.activeContourSegmentation(imageFileName,sz, nargout=2)\n",
    "    eng.quit()\n",
    "    segImg = np.array(segImg)/255;\n",
    "    segImg = skcolor.rgb2lab(segImg)\n",
    "    segImgCat = np.array(segImgCat)\n",
    "    return segImg, segImgCat\n"
   ]
  },
  {
   "cell_type": "code",
   "execution_count": null,
   "metadata": {
    "scrolled": true
   },
   "outputs": [
    {
     "name": "stdout",
     "output_type": "stream",
     "text": [
      ">>>>>>>>>>>>>>>>>>>>>>>>>>>>\n",
      " 1 : Concept :  filk_c\n",
      "\tTotal number of images for  filk_c  :  120\n",
      "\t\t 0 image:  129.02415370941162  seconds\n",
      "\t\t 1 image:  37.5950186252594  seconds\n",
      "\t\t 2 image:  27.966782808303833  seconds\n",
      "\t\t 3 image:  25.50136113166809  seconds\n",
      "\t\t 4 image:  24.11464524269104  seconds\n",
      "\t\t 5 image:  23.241384267807007  seconds\n",
      "\t\t 6 image:  22.053730726242065  seconds\n",
      "\t\t 7 image:  25.047935962677002  seconds\n",
      "\t\t 8 image:  19.65059995651245  seconds\n",
      "\t\t 9 image:  21.777997970581055  seconds\n",
      "\t\t 10 image:  19.156870365142822  seconds\n",
      "\t\t 11 image:  21.085654497146606  seconds\n",
      "\t\t 12 image:  19.945013761520386  seconds\n",
      "\t\t 13 image:  19.103079795837402  seconds\n",
      "\t\t 14 image:  22.65122151374817  seconds\n",
      "\t\t 15 image:  20.827189445495605  seconds\n",
      "\t\t 16 image:  20.652315855026245  seconds\n",
      "\t\t 17 image:  19.52839493751526  seconds\n",
      "\t\t 18 image:  18.582080841064453  seconds\n",
      "\t\t 19 image:  20.65588641166687  seconds\n",
      "\t\t 20 image:  19.67472195625305  seconds\n",
      "\t\t 21 image:  20.47507882118225  seconds\n",
      "\t\t 22 image:  20.034823417663574  seconds\n",
      "\t\t 23 image:  20.635704278945923  seconds\n",
      "\t\t 24 image:  23.338676691055298  seconds\n",
      "\t\t 25 image:  19.30058979988098  seconds\n",
      "\t\t 26 image:  28.409218072891235  seconds\n",
      "\t\t 27 image:  24.167956829071045  seconds\n",
      "\t\t 28 image:  22.01649308204651  seconds\n",
      "\t\t 29 image:  19.42682456970215  seconds\n",
      "\t\t 30 image:  23.010727882385254  seconds\n",
      "\t\t 31 image:  26.663118600845337  seconds\n",
      "\t\t 32 image:  20.15734553337097  seconds\n",
      "\t\t 33 image:  23.0595543384552  seconds\n",
      "\t\t 34 image:  20.38992428779602  seconds\n",
      "\t\t 35 image:  21.131622552871704  seconds\n",
      "\t\t 36 image:  20.85482120513916  seconds\n",
      "\t\t 37 image:  26.3919415473938  seconds\n",
      "\t\t 38 image:  19.446062088012695  seconds\n",
      "\t\t 39 image:  22.834308862686157  seconds\n",
      "\t\t 40 image:  22.195973873138428  seconds\n",
      "\t\t 41 image:  22.837122917175293  seconds\n",
      "\t\t 42 image:  21.42185688018799  seconds\n",
      "\t\t 43 image:  22.999091863632202  seconds\n",
      "\t\t 44 image:  31.068140983581543  seconds\n",
      "\t\t 45 image:  19.975786685943604  seconds\n",
      "\t\t 46 image:  20.482946634292603  seconds\n",
      "\t\t 47 image:  21.82139754295349  seconds\n",
      "\t\t 48 image:  21.692911386489868  seconds\n",
      "\t\t 49 image:  20.976922750473022  seconds\n",
      "\t\t 50 image:  19.068896532058716  seconds\n"
     ]
    }
   ],
   "source": [
    "numFt = 3\n",
    "if trueRatingsPresent == True:\n",
    "    X = np.zeros((count*numColors,numFt+1) )  # +1 for label #Number of features [] # Feature Vector -- 58N rows\n",
    "else:\n",
    "    X = np.zeros((count*numColors,numFt))\n",
    "    \n",
    "init = time.time()\n",
    "rowNum = -1\n",
    "strtInd = []  # To keep track of the starting indices of concepts in the feature matrix\n",
    "cvInd = 1 \n",
    "counter = 0\n",
    "sz = 100    # Size of image: 100 by 100\n",
    "\n",
    "# Feature tolerations used by Sector+Category\n",
    "Rc = [1,10,20,30,40]  \n",
    "Li = [40]             \n",
    "R = [40]               \n",
    "hueAngle = [40]        \n",
    "##\n",
    "for conceptNum,concept in enumerate(allConcepts):\n",
    "    #conceptNum = 5\n",
    "    t0 = time.time()\n",
    "    print(\">>>>>>>>>>>>>>>>>>>>>>>>>>>>\\n\",conceptNum+1,\": Concept : \",concept)\n",
    "    ct = 0    # Keeps track of images inside a category\n",
    "    strtInd.append(counter)\n",
    "    trainFiles = glob.glob( path + \"/\" +typeImg +\"/\" +concept+\"/*.*\" )\n",
    "    print(\"\\tTotal number of images for \",concept,\" : \",len(trainFiles))\n",
    "    t = []\n",
    "    for m, nameFile in enumerate(trainFiles):\n",
    "        t1 = time.time()\n",
    "        #print(\"\\nReading file ......\")\n",
    "        ct = ct + 1\n",
    "        \n",
    "        image = imread( nameFile )\n",
    "        imageResized = resize( image, (sz,sz),anti_aliasing=True,mode='reflect')\n",
    "        img = imageResized\n",
    "        # Convert the pixels in  image to LAB space\n",
    "        imgLAB = skcolor.rgb2lab(img)\n",
    "        segmentedImg,segmentedImgCat = getSegmentedImage(nameFile,sz)\n",
    "        imageWithCategories = getCategoriesMatrix(nameFile,sz)\n",
    "        \n",
    "        i1 = imgLAB[27:72,27:72,:] \n",
    "        i6 = np.copy(segmentedImg)\n",
    "        \n",
    "        ii1 = imageWithCategories[27:72,27:72].flatten()\n",
    "        \n",
    "        categoryImg1 = [sum(1 for p in ii1 if p-1 == k)/ii1.size for k in range(11)]\n",
    "      \n",
    "        for color in range(numColors):\n",
    "            rowNum+=1\n",
    "            counter += 1\n",
    "            colCt = 0\n",
    "            colorLAB = np.array(colorData.loc[color])   #get LAB values for specific color\n",
    "\n",
    "            # Just need 2 features from Sectors\n",
    "            for i in [0,5]:\n",
    "                if i == 0:\n",
    "                    L = i1[:,:,0]\n",
    "                    a = i1[:,:,1]\n",
    "                    b = i1[:,:,2]\n",
    "                elif i == 1:\n",
    "                    L = i2[:,:,0]\n",
    "                    a = i2[:,:,1]\n",
    "                    b = i2[:,:,2]\n",
    "                elif i == 2:\n",
    "                    L = i3[:,:,0]\n",
    "                    a = i3[:,:,1]\n",
    "                    b = i3[:,:,2]\n",
    "                elif i == 3:\n",
    "                    L = i4[:,:,0]\n",
    "                    a = i4[:,:,1]\n",
    "                    b = i4[:,:,2]\n",
    "                elif i == 4:\n",
    "                    L = i5[:,:,0]\n",
    "                    a = i5[:,:,1]\n",
    "                    b = i5[:,:,2]\n",
    "                else:\n",
    "                    L = i6[:,:,0]\n",
    "                    a = i6[:,:,1]\n",
    "                    b = i6[:,:,2]\n",
    "                    \n",
    "                LTemp = L.flatten()\n",
    "                r = np.sqrt(a**2+b**2).flatten()\n",
    "                theta = np.degrees(np.arctan2(b,a)).flatten()\n",
    "\n",
    "                L_diff = np.abs(LTemp - colorLAB[0])\n",
    "                r_diff = np.abs(r - (np.sqrt(colorLAB[1]**2 + colorLAB[2]**2)))\n",
    "                theta_diff = np.abs(theta - np.degrees(np.arctan2(colorLAB[2],colorLAB[1])))\n",
    "\n",
    "                for j,r_th in enumerate(R):\n",
    "                    l_th = Li[j] # L and R are the same.\n",
    "                    for theta_th in hueAngle:\n",
    "                        pixels = 0\n",
    "                        for p in range(len(L_diff)):\n",
    "                            if (L_diff[p] <= l_th and r_diff[p] <= r_th and theta_diff[p] <= theta_th) or (L_diff[p] <= l_th and r_diff[p] <= 2.5):\n",
    "                                pixels += 1\n",
    "                        X[rowNum,colCt] = pixels/(len(L_diff))\n",
    "                        colCt+=1\n",
    "            #print(colCt)\n",
    "            \n",
    "            colorCat = category.loc[color,0] \n",
    "            X[rowNum,colCt] = categoryImg1[colorCat-1]\n",
    "            \n",
    "            if trueRatingsPresent == True:\n",
    "                colCt+=1\n",
    "                label = data.loc[conceptNum]['col_'+str(color)]   \n",
    "                X[rowNum,colCt] = label\n",
    "            #print(colCt)\n",
    "        h = time.time()-t1\n",
    "        print(\"\\t\\t\",m, \"image: \",h ,\" seconds\")\n",
    "        t.append(h)\n",
    "    print(t)\n",
    "    print(\"\\t** Time elapsed since last category: \",time.time()-t0,\" seconds **\")\n",
    "strtInd.append(len(X))\n",
    "print(strtInd)\n",
    "print(\"** Total Time elapsed: \",time.time()-init,\" seconds **\")"
   ]
  },
  {
   "cell_type": "markdown",
   "metadata": {},
   "source": [
    "## Save the data as excel spread sheet"
   ]
  },
  {
   "cell_type": "code",
   "execution_count": 31,
   "metadata": {},
   "outputs": [
    {
     "data": {
      "text/plain": [
       "(580, 3)"
      ]
     },
     "execution_count": 31,
     "metadata": {},
     "output_type": "execute_result"
    }
   ],
   "source": [
    "X.shape\n",
    "# This should be of the shape :\n",
    "    #(numImages*number of Concepts*numColors, 3) or {(numImages*number of Concepts*numColors, 4) if true ratings are present}."
   ]
  },
  {
   "cell_type": "code",
   "execution_count": 41,
   "metadata": {},
   "outputs": [],
   "source": [
    "## convert your array into a dataframe\n",
    "xxTemp = np.copy(X)\n",
    "#y = np.copy(X[:,-1])\n",
    "df = pd.DataFrame(xxTemp)\n",
    "\n",
    "## save to xlsx file\n",
    "\n",
    "filepath = 'dataNewConcepts.xlsx'\n",
    "df.to_excel(filepath, index=False)\n",
    "tot = len(xxTemp)"
   ]
  },
  {
   "cell_type": "markdown",
   "metadata": {},
   "source": [
    "# Analysis"
   ]
  },
  {
   "cell_type": "code",
   "execution_count": 42,
   "metadata": {},
   "outputs": [
    {
     "data": {
      "text/plain": [
       "[0, 290, 580]"
      ]
     },
     "execution_count": 42,
     "metadata": {},
     "output_type": "execute_result"
    }
   ],
   "source": [
    "#Comment this: \n",
    "#strtInd = [0, 1850, 3700, 5550, 7400, 9250, 11100]\n",
    "strtInd"
   ]
  },
  {
   "cell_type": "code",
   "execution_count": 43,
   "metadata": {},
   "outputs": [
    {
     "data": {
      "text/plain": [
       "(580, 3)"
      ]
     },
     "execution_count": 43,
     "metadata": {},
     "output_type": "execute_result"
    }
   ],
   "source": [
    "filepath = 'dataNewConcepts.xlsx'\n",
    "df = pd.read_excel(filepath)\n",
    "Q = df.as_matrix()\n",
    "Q.shape"
   ]
  },
  {
   "cell_type": "code",
   "execution_count": 44,
   "metadata": {},
   "outputs": [
    {
     "data": {
      "text/plain": [
       "580"
      ]
     },
     "execution_count": 44,
     "metadata": {},
     "output_type": "execute_result"
    }
   ],
   "source": [
    "len(Q)"
   ]
  },
  {
   "cell_type": "code",
   "execution_count": 45,
   "metadata": {},
   "outputs": [],
   "source": [
    "if trueRatingsPresent == True:\n",
    "    Xtest = np.column_stack([np.ones((len(Q),1)), Q[:,:-1]])\n",
    "    ytest = np.copy(Q[:,-1])\n",
    "else:\n",
    "    # Since there are no true ratings present, we don't have ytest.\n",
    "    Xtest = np.column_stack([np.ones((len(Q),1)), Q])"
   ]
  },
  {
   "cell_type": "code",
   "execution_count": 46,
   "metadata": {},
   "outputs": [],
   "source": [
    "y_predAll = Xtest.dot(weights)"
   ]
  },
  {
   "cell_type": "code",
   "execution_count": 47,
   "metadata": {},
   "outputs": [
    {
     "data": {
      "text/plain": [
       "(580,)"
      ]
     },
     "execution_count": 47,
     "metadata": {},
     "output_type": "execute_result"
    }
   ],
   "source": [
    "# Contains the predicted ratings.\n",
    "y_predAll.shape"
   ]
  },
  {
   "cell_type": "markdown",
   "metadata": {},
   "source": [
    "# The following evaluation can only be done if true associated ratings are present, however it will give average predicted ratings for every concept snd color regardless."
   ]
  },
  {
   "cell_type": "code",
   "execution_count": 61,
   "metadata": {
    "scrolled": false
   },
   "outputs": [],
   "source": [
    "if trueRatingsPresent == True:\n",
    "    from scipy import stats\n",
    "    plt.close('all')\n",
    "    win0_50 = []  # saves correlation for testConcept\n",
    "    win1_50 = []  # saves true rating for testConcept\n",
    "    win2_50 = []  # saves avg predicted rating for testConcept\n",
    "\n",
    "    correlation_50 = []\n",
    "    error_50 = []\n",
    "\n",
    "    for i in range(len(strtInd)-1):\n",
    "        testConcept =  allConcepts[i]\n",
    "\n",
    "        y_pred = np.copy(y_predAll[strtInd[i]:strtInd[i+1]])\n",
    "        y_test = np.copy(ytest[strtInd[i]:strtInd[i+1]])\n",
    "        print(y_pred.shape)\n",
    "        totalTestImages = y_pred.size/numColors  #numColors*N rows -> every image has 'numColors' rows of data\n",
    "        avg_pred =[np.sum([y_pred[p] for p in range(q,y_pred.size,numColors)])/totalTestImages for q in range(numColors)]\n",
    "\n",
    "        # For Pearson correlation coefficient and the p-value (between avg_pred and true rating for fruit group)\n",
    "        trueRating = np.copy(y_test[0:numColors])\n",
    "\n",
    "        sqErr = np.sum(pow(avg_pred - trueRating,2))\n",
    "        print(\"The true squared error (in color ratings) for left out concept\",testConcept,\"is: %.4f\" % sqErr)\n",
    "\n",
    "        corrCoeff, pVal = stats.pearsonr(avg_pred, trueRating)\n",
    "\n",
    "        print(\"\\nPearson’s correlation coefficient (between true ratings and avg predicted ratings) is %.4f\" %corrCoeff)\n",
    "        print(\"p-value %.4f\" %pVal)\n",
    "\n",
    "        error_50.append(sqErr)\n",
    "        correlation_50.append(corrCoeff)\n",
    "        win0_50.append(corrCoeff) # saves correlation for testConcept\n",
    "        win1_50.append(trueRating) # saves true rating for testConcept\n",
    "        win2_50.append(avg_pred)   # saves avg predicted rating for testConcept\n",
    "        \n",
    "    # ####Plot average color rating over all test images.\n",
    "#         fig= plt.figure(figsize=(10,3))\n",
    "#         barPlot = plt.bar(range(1,numColors+1),avg_pred,color = colorDataRGB.values,edgeColor = [0, 0, 0])\n",
    "#         plt.ylabel('Ratings')\n",
    "#         plt.xlabel('Colors')\n",
    "#         plt.title('Predicted color ratings for Concept : %s' %testConcept)\n",
    "#         plt.xticks([i for i in range(1,numColors+1,3)],[i for i in range(1,numColors+1,3)])\n",
    "#         plt.ylim(0,1)\n",
    "#         plt.show()\n",
    "\n",
    "#         fig= plt.figure(figsize=(10,3))\n",
    "#         barPlot = plt.bar(range(1,numColors+1), trueRating,color = colorDataRGB.values,edgeColor = [0, 0, 0])\n",
    "#         plt.ylabel('Ratings')\n",
    "#         plt.xlabel('Colors')\n",
    "#         plt.title('True color ratings for Concept : %s' %testConcept)\n",
    "#         plt.xticks([i for i in range(1,numColors+1,3)],[i for i in range(1,numColors+1,3)])\n",
    "#         plt.ylim(0,1)\n",
    "#         plt.show()\n",
    "\n",
    "#         # Scatter plot\n",
    "#         fig2 = plt.figure(figsize=(7,7))\n",
    "#         plt.scatter(trueRating,avg_pred,c=colorDataRGB.values,s=80,marker = 'o',linewidths=0.5,edgeColor = [0, 0, 0])\n",
    "#         plt.ylabel('Predicted Ratings')\n",
    "#         plt.xlabel('Subject Ratings')\n",
    "#         plt.title('Scatter plot of color ratings for : %s' %testConcept)\n",
    "#         plt.axis('equal')\n",
    "#         plt.xlim(0,1)\n",
    "#         plt.ylim(0,1)\n",
    "#         plt.show() \n",
    "else:\n",
    "    win2_50 = [] # saves avg predicted rating for testConcept\n",
    "    for i in range(len(strtInd)-1):\n",
    "        testConcept =  allConcepts[i]\n",
    "\n",
    "        y_pred = np.copy(y_predAll[strtInd[i]:strtInd[i+1]])\n",
    "        #y_test = np.copy(ytest[strtInd[i]:strtInd[i+1]])\n",
    "        #print(y_pred.shape)\n",
    "        totalTestImages = y_pred.size/numColors  #numColors*N rows -> every image has 'numColors' rows of data\n",
    "        avg_pred =[np.sum([y_pred[p] for p in range(q,y_pred.size,numColors)])/totalTestImages for q in range(numColors)]\n",
    "        win2_50.append(avg_pred)"
   ]
  },
  {
   "cell_type": "code",
   "execution_count": 62,
   "metadata": {},
   "outputs": [],
   "source": [
    "if trueRatingsPresent == True:\n",
    "    plt.close('all')\n",
    "    barWidth = 0.5\n",
    "    plt.bar(range(1,7),win0_50, width = barWidth)\n",
    "    plt.xticks(range(1,7),allConcepts)\n",
    "    plt.title(\"Correlation for Test Concepts (NumImages: #50)\")\n",
    "    plt.ylabel('Correlation')\n",
    "    plt.ylim(0,1)\n",
    "    plt.show()"
   ]
  },
  {
   "cell_type": "markdown",
   "metadata": {},
   "source": [
    "## Save the estimated output ratings as EstimatesNewConcepts.csv"
   ]
  },
  {
   "cell_type": "code",
   "execution_count": 85,
   "metadata": {},
   "outputs": [
    {
     "name": "stdout",
     "output_type": "stream",
     "text": [
      "(116, 3)\n",
      "   Concept Color Sector+Category_Model_Estimates\n",
      "0  Petunia     1              0.1646296232331118\n",
      "1  Petunia     2             0.17331291734487358\n",
      "2  Petunia     3             0.18976300046285227\n",
      "3  Petunia     4              0.1825578135096611\n",
      "4  Petunia     5             0.36704135169795304\n"
     ]
    }
   ],
   "source": [
    "conceptNames = []\n",
    "colorRow = []\n",
    "for i in range(len(allConcepts)):\n",
    "    for j in range(numColors):\n",
    "        conceptNames.append(allConcepts[i])\n",
    "        colorRow.append(j+1)\n",
    "\n",
    "if trueRatingsPresent == True:\n",
    "    matrix = np.column_stack((np.array(conceptNames), np.array(colorRow), np.array(win1_50).flatten(), np.array(win2_50).flatten()))\n",
    "else:\n",
    "    matrix = np.column_stack((np.array(conceptNames), np.array(colorRow), np.array(win2_50).flatten()))\n",
    "    \n",
    "print(matrix.shape)\n",
    "if trueRatingsPresent == True:\n",
    "    df = pd.DataFrame(matrix, columns = [\"Concept\",\"Color\",\"True Rating\",\"Sector+Category Model Estimates\"])\n",
    "else:\n",
    "    df = pd.DataFrame(matrix, columns = [\"Concept\",\"Color\",\"Sector+Category Model Estimates\"])\n",
    "\n",
    "## save to csv file\n",
    "print(df.head())\n",
    "filepath = 'EstimatesNewConcepts.csv'\n",
    "df.to_csv(filepath, index=False)"
   ]
  },
  {
   "cell_type": "markdown",
   "metadata": {},
   "source": [
    "# Scatter Plots "
   ]
  },
  {
   "cell_type": "code",
   "execution_count": 72,
   "metadata": {},
   "outputs": [],
   "source": [
    "import matplotlib as mpl\n",
    "mpl.rcParams.update({'font.size': 9})\n",
    "def createScatterPlots(indices, win0, win1, win2,numImages):\n",
    "    model_num = 3\n",
    "    print(\"----------------------- Creating plots for Model ---------------Sector+Category\")\n",
    "    # print(indices)\n",
    "    # print(win0)\n",
    "    \n",
    "    k = 1\n",
    "    plt.close('all')\n",
    "    plt.subplots(2,3,figsize=(5,4))\n",
    "    for i in range(len(indices)-1,-1,-1):\n",
    "        # Scatter plot\n",
    "\n",
    "        arg = indices[i]\n",
    "        trueRating = win1[arg]\n",
    "        avg_pred = win2[arg]\n",
    "\n",
    "        ax = plt.subplot(2,3,k,aspect='equal') #plt.figure(figsize=(7,7))\n",
    "        #ax = f.add_subplot(3,4,k)\n",
    "        plt.scatter(trueRating,avg_pred,c=colorDataRGB.values,marker = 'o',s=15) #, edgecolor = [0,0,0])\n",
    "        if k == 1 or k == 4:\n",
    "            plt.ylabel('Mean Predicted Rating')\n",
    "        plt.xlabel('Mean Rating')\n",
    "        s = allConcepts[arg]+\"( %.2f )\" %win0[arg]\n",
    "        #print(s)\n",
    "        plt.title(s)\n",
    "        plt.xlim(0,1)\n",
    "        plt.ylim(0,1)\n",
    "        plt.yticks([0,0.5,1])\n",
    "        plt.xticks([0,0.5,1])\n",
    "        plt.tick_params(direction='in')\n",
    "        plt.plot(np.unique(trueRating), np.poly1d(np.polyfit(trueRating, avg_pred, 1))(np.unique(trueRating)),'k--')\n",
    "        k = k+1\n",
    "    plotName = \"Test_ScatterPlot_Model_\"+str(numImages)+\".pdf\"\n",
    "    plt.tight_layout()\n",
    "    plt.subplots_adjust(wspace=0.3, hspace=0.5)\n",
    "    plt.savefig(plotName, bbox_inches = 'tight', pad_inches = 0)\n",
    "    plt.show()\n",
    "    \n",
    "    \n"
   ]
  },
  {
   "cell_type": "code",
   "execution_count": 73,
   "metadata": {},
   "outputs": [],
   "source": [
    "if trueRatingsPresent == True:\n",
    "    indices = np.argsort(win0_50)\n",
    "    createScatterPlots(indices, win0_50, win1_50, win2_50,50)"
   ]
  },
  {
   "cell_type": "code",
   "execution_count": 86,
   "metadata": {},
   "outputs": [],
   "source": [
    "if trueRatingsPresent == True:\n",
    "    plt.close('all')\n",
    "    barWidth = 0.1\n",
    "    #r1 = [0.4,0.8,1.2,1.6,2,2.4]\n",
    "    r1 = [0.1,0.4,0.7,1,1.3,1.6]\n",
    "    r2 = [x + barWidth for x in r1]\n",
    "    r3 = [x + 2*barWidth for x in r1]\n",
    "\n",
    "    #t.bar(r1, bars1, width = barWidth, color = 'blue', edgecolor = 'black', yerr=yer1, capsize=7, label='poacee')\n",
    "    fig = plt.figure(figsize =(5,3)) # (3,1.5)\n",
    "\n",
    "    mline3 = plt.stem(r1,correlation_50,label='Sector + Category')\n",
    "    plt.setp(mline3, color=[0,0,0], linewidth=1.5, markersize = 3)\n",
    "\n",
    "    plt.xticks(r1,allConcepts)\n",
    "    plt.yticks([0,0.5,1])\n",
    "    plt.tick_params(direction='in')\n",
    "    plt.title(\"Correlation in Test Concepts\")\n",
    "    plt.ylabel('Correlation')\n",
    "    plt.legend()\n",
    "\n",
    "    plt.tight_layout()\n",
    "    #plt.savefig('NewConcepts_Correlation.pdf')\n",
    "    plt.show()\n"
   ]
  },
  {
   "cell_type": "code",
   "execution_count": null,
   "metadata": {},
   "outputs": [],
   "source": []
  }
 ],
 "metadata": {
  "kernelspec": {
   "display_name": "Python 3",
   "language": "python",
   "name": "python3"
  },
  "language_info": {
   "codemirror_mode": {
    "name": "ipython",
    "version": 3
   },
   "file_extension": ".py",
   "mimetype": "text/x-python",
   "name": "python",
   "nbconvert_exporter": "python",
   "pygments_lexer": "ipython3",
   "version": "3.6.3"
  }
 },
 "nbformat": 4,
 "nbformat_minor": 2
}
