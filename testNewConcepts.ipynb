{
 "cells": [
  {
   "cell_type": "markdown",
   "metadata": {},
   "source": [
    "## Test new concepts "
   ]
  },
  {
   "cell_type": "markdown",
   "metadata": {},
   "source": [
    "#### This file can be used to test new concepts based on the weights from the Sector+Category model trained on entire fruit data.\n",
    "#### These weights can be found in the file getWeightsAllFruits.ipynb (Refer the notebook for reference as the weights are directly used here.)"
   ]
  },
  {
   "cell_type": "markdown",
   "metadata": {},
   "source": [
    "### It is assumed that you have the Lab, RGB and category information for the new set of colors you are running. The above data is already there for UW-58 (default) and BCP-37 colors."
   ]
  },
  {
   "cell_type": "markdown",
   "metadata": {},
   "source": [
    "#### Initialize/ Modify these"
   ]
  },
  {
   "cell_type": "code",
   "execution_count": 1,
   "metadata": {},
   "outputs": [],
   "source": [
    "# Initialize these:\n",
    "import pandas as pd\n",
    "\n",
    "# path to the git repo's downloads folder. This is where all sets of images are present.\n",
    "path = \"E:/GitRepo/Color-Concept-Associations-using-Google-Images/downloads\"  #<Modify this>\n",
    "\n",
    "# Folder inside downloads where the new concepts test images are.\n",
    "typeImg = \"newTestConcepts\" \n",
    "\n",
    "# Image will be resized to sz x sz\n",
    "sz = 100 \n",
    "\n",
    "## Number of images to be used for generating features.\n",
    "numImages = 5     #<Modify this>\n",
    "\n",
    "# insert new concepts here.\n",
    "allConcepts = [\"petunia\",\"roses\"]  #<Modify this>\n",
    "\n",
    "# Set dataFlag to True if (concepts are fruits from our experiments) AND (colors are UW58 colors).\n",
    "# However, by default it is assumed you are running this notebook for new set of concepts or new set of colors.\n",
    "dataFlag = False    #<Modify this>\n",
    "\n",
    "#### SET THESE VARIABLES ####\n",
    "\n",
    "# Set trueRatingsPresent to True if there exist true ratings of new concepts for colors. Save them as trueData.csv in the same folder as this file.\n",
    "trueRatingsPresent = False    #<Modify this>\n",
    "    \n",
    "# Set to true if using UW-58 colors ---- Default\n",
    "uw58 = True  # --Default--  #<you can modify this>\n",
    "\n",
    "#Set to true if using BCP-37 colors\n",
    "bcp37 = False   #<Modify this>\n",
    "\n",
    "# data.csv ---> Contains true associated ratings for our fruit concepts for every UW-58 color."
   ]
  },
  {
   "cell_type": "markdown",
   "metadata": {},
   "source": [
    "### Initialize/ Modify these if using a new set of colors. Else, ignore the cell below."
   ]
  },
  {
   "cell_type": "code",
   "execution_count": 2,
   "metadata": {},
   "outputs": [],
   "source": [
    "if uw58 == False and bcp37 == False:\n",
    "    numColors = 20 # number of new colors here.\n",
    "    colNames = [\"col_\"+str(i) for i in range(numColors)]  # --don't modify --\n",
    "\n",
    "    # trueData.csv is the true associated ratings for new test concepts for all new colors, if it exists.\n",
    "    if trueRatingsPresent == True:\n",
    "        data = pd.read_csv(\"trueData.csv\",names = colNames)\n",
    "    \n",
    "    # RENAME FILENAMES IF NEEDED.\n",
    "    \n",
    "    # Get the LAB coordinates of colors from file Lab.csv (Required)\n",
    "    colorData = pd.read_csv(\"Lab_newColors.csv\",header=None)\n",
    "    colorDataRGB = pd.read_csv(\"RGB_newColors.csv\",header=None)\n",
    "\n",
    "    # Categorical information about the colors (Required)\n",
    "    category = pd.read_csv(\"Category_newColors.csv\",header=None)"
   ]
  },
  {
   "cell_type": "markdown",
   "metadata": {},
   "source": [
    "#### Gets proper color data if using uw58 colors.  DO NOT MODIFY."
   ]
  },
  {
   "cell_type": "code",
   "execution_count": 3,
   "metadata": {},
   "outputs": [],
   "source": [
    "if uw58 == True:\n",
    "    numColors = 58 # number of new colors here.\n",
    "    colNames = [\"col_\"+str(i) for i in range(numColors)]  # --don't modify --\n",
    "\n",
    "    # trueData.csv is the true associated ratings for new test concepts for all new colors, if it exists.\n",
    "    if trueRatingsPresent == True:\n",
    "        if dataFlag == True:\n",
    "            data = pd.read_csv(\"data.csv\",names = colNames)\n",
    "        else:\n",
    "            data = pd.read_csv(\"trueData.csv\",names = colNames)\n",
    "\n",
    "    # Get the LAB coordinates of colors from file Lab.csv (Required)\n",
    "    colorData = pd.read_csv(\"Lab.csv\",header=None)\n",
    "    colorDataRGB = pd.read_csv(\"RGB.csv\",header=None)\n",
    "\n",
    "    # Categorical information about the colors (Required)\n",
    "    category = pd.read_csv(\"Category.csv\",header=None)"
   ]
  },
  {
   "cell_type": "markdown",
   "metadata": {},
   "source": [
    "#### Gets proper color data if using BCP37 colors.   DO NOT MODIFY.\n",
    "#### Number of colors can be modified, but order should be maintained."
   ]
  },
  {
   "cell_type": "code",
   "execution_count": 4,
   "metadata": {},
   "outputs": [],
   "source": [
    "if bcp37 == True:\n",
    "    numColors = 37 # number of new colors here.\n",
    "    colNames = [\"col_\"+str(i) for i in range(numColors)] \n",
    "\n",
    "    # # trueData.csv is the true associated ratings for new test concepts for all colors, if it exists.\n",
    "\n",
    "    if trueRatingsPresent == True:\n",
    "        data = pd.read_csv(\"trueData.csv\",names = colNames)\n",
    "\n",
    "    # Get the LAB coordinates of colors from file Lab.csv (Required)\n",
    "    colorData = pd.read_csv(\"TestScripts/Lab_test.csv\",header=None)\n",
    "    colorDataRGB = pd.read_csv(\"TestScripts/RGB_test.csv\",header=None)\n",
    "\n",
    "    # Categorical information about the colors (Required)\n",
    "    category = pd.read_csv(\"TestScripts/Category_test.csv\",header=None)"
   ]
  },
  {
   "cell_type": "markdown",
   "metadata": {},
   "source": [
    "#### Saving the new concepts as .csv and defining weights from \"getWeightsAllFruits.ipynb\".   DO NOT MODIFY."
   ]
  },
  {
   "cell_type": "code",
   "execution_count": 6,
   "metadata": {},
   "outputs": [],
   "source": [
    "# save these concepts to a csv -- to avoid restating the allConcepts again\n",
    "df = pd.DataFrame(allConcepts)\n",
    "## save to csv file\n",
    "filepath = 'testConcepts.csv'\n",
    "df.to_csv(filepath, index=False, header = None)\n",
    "\n",
    "# Weights from getWeightsAllFruits.ipynb  -- Model used entire fruit data for training\n",
    "weights = [0.13629966, 0.13731228, 0.12712168, 0.31100729]"
   ]
  },
  {
   "cell_type": "markdown",
   "metadata": {},
   "source": [
    "## Download the images (Optional). If you already have the images, save them inside downloads/newTestConcepts. Each concept's images should be inside a subfolder with the same name as concept."
   ]
  },
  {
   "cell_type": "markdown",
   "metadata": {},
   "source": [
    "### Uncomment (Select the cell -> Ctrl+A -> Ctrl+/ ) if you wish to download images from google."
   ]
  },
  {
   "cell_type": "code",
   "execution_count": 64,
   "metadata": {},
   "outputs": [],
   "source": [
    "# pip install google_images_download "
   ]
  },
  {
   "cell_type": "code",
   "execution_count": 65,
   "metadata": {
    "scrolled": false
   },
   "outputs": [],
   "source": [
    "# # Add the concepts as keywords\n",
    "\n",
    "# from google_images_download import google_images_download\n",
    "# response = google_images_download.googleimagesdownload()\n",
    "# arguments = {\"keywords_from_file\":\"testConcepts.csv\",\"limit\":numImages, \"output_directory\":\"downloads/newTestConcepts\", \"format\":\"jpg\"}   #creating list of arguments\n",
    "# paths = response.download(arguments)\n",
    "\n",
    "# # type = (face, photo, clip-art, line-drawing, animated)\n",
    "# # format = jpg, gif, png, bmp, svg, webp, ico, raw"
   ]
  },
  {
   "cell_type": "markdown",
   "metadata": {},
   "source": [
    "#   DO NOT MODIFY THE CELLS BELOW."
   ]
  },
  {
   "cell_type": "code",
   "execution_count": 66,
   "metadata": {},
   "outputs": [],
   "source": [
    "# # Include imports\n",
    "import glob\n",
    "from skimage.transform import resize\n",
    "from skimage.io import imread, imsave, imshow\n",
    "import os\n",
    "\n",
    "import numpy as np\n",
    "import skimage.color as skcolor\n",
    "import matplotlib.pyplot as plt\n",
    "\n",
    "from sklearn import datasets, linear_model\n",
    "from sklearn.metrics import mean_squared_error, r2_score\n",
    "import time"
   ]
  },
  {
   "cell_type": "markdown",
   "metadata": {},
   "source": [
    "## Uses the images from the NEW concepts. \n",
    "\n",
    "\n",
    "#### Make sure all the images are not corrupt or damaged."
   ]
  },
  {
   "cell_type": "code",
   "execution_count": 67,
   "metadata": {},
   "outputs": [
    {
     "name": "stdout",
     "output_type": "stream",
     "text": [
      "E:/GitRepo/Color-Concept-Associations-using-Google-Images/downloads/newTestConcepts/filk_w/*.*\n",
      "120\n",
      "E:/GitRepo/Color-Concept-Associations-using-Google-Images/downloads/newTestConcepts/slub_c/*.*\n",
      "240\n",
      "E:/GitRepo/Color-Concept-Associations-using-Google-Images/downloads/newTestConcepts/filk_c/*.*\n",
      "360\n",
      "E:/GitRepo/Color-Concept-Associations-using-Google-Images/downloads/newTestConcepts/slub_w/*.*\n",
      "480\n",
      "Category:  newTestConcepts\n",
      "Total images :  480\n"
     ]
    }
   ],
   "source": [
    "# Count total number of images\n",
    "\n",
    "count = 0\n",
    "for i in allConcepts:\n",
    "    print(path + \"/\" +typeImg +\"/\" +i+\"/*.*\")\n",
    "    trainFiles = glob.glob( path + \"/\" +typeImg +\"/\" +i+\"/*.*\" )\n",
    "    count = count + len(trainFiles)\n",
    "    print(count)\n",
    "print(\"Category: \",typeImg)\n",
    "print(\"Total images : \",count)"
   ]
  },
  {
   "cell_type": "markdown",
   "metadata": {},
   "source": [
    "## Extracting features from test Images"
   ]
  },
  {
   "cell_type": "markdown",
   "metadata": {},
   "source": [
    "#### Features to be extracted are from Exp 1C"
   ]
  },
  {
   "cell_type": "code",
   "execution_count": 68,
   "metadata": {},
   "outputs": [],
   "source": [
    "import matlab.engine\n",
    "def getCategoriesMatrix(imageFileName,sz):\n",
    "    ## Get total pixel counts of all 11 categories for this imageFile\n",
    "    eng = matlab.engine.start_matlab()\n",
    "    imageCat = np.array(eng.getCategories(imageFileName,sz))\n",
    "    eng.quit()\n",
    "     # imageCat : sz x sz matrix where each pixel has its category\n",
    "    return imageCat\n",
    "\n",
    "def getSegmentedImage(imageFileName,sz): # Returns segmented pixels in LAB and its corresponding color category.\n",
    "    eng = matlab.engine.start_matlab()\n",
    "    segImg, segImgCat = eng.activeContourSegmentation(imageFileName,sz, nargout=2)\n",
    "    eng.quit()\n",
    "    segImg = np.array(segImg)/255;\n",
    "    segImg = skcolor.rgb2lab(segImg)\n",
    "    segImgCat = np.array(segImgCat)\n",
    "    return segImg, segImgCat\n"
   ]
  },
  {
   "cell_type": "code",
   "execution_count": null,
   "metadata": {
    "scrolled": false
   },
   "outputs": [
    {
     "name": "stdout",
     "output_type": "stream",
     "text": [
      ">>>>>>>>>>>>>>>>>>>>>>>>>>>>\n",
      " 1 : Concept :  filk_w\n",
      "\tTotal number of images for  filk_w  :  120\n",
      "\t\t 0 image:  147.45319485664368  seconds\n",
      "\t\t 1 image:  31.812931776046753  seconds\n",
      "\t\t 2 image:  31.188518047332764  seconds\n",
      "\t\t 3 image:  31.41026258468628  seconds\n",
      "\t\t 4 image:  28.847904682159424  seconds\n",
      "\t\t 5 image:  32.845922231674194  seconds\n",
      "\t\t 6 image:  31.115629196166992  seconds\n",
      "\t\t 7 image:  31.065399169921875  seconds\n",
      "\t\t 8 image:  32.771485328674316  seconds\n",
      "\t\t 9 image:  29.8766667842865  seconds\n",
      "\t\t 10 image:  29.670668840408325  seconds\n",
      "\t\t 11 image:  31.970021724700928  seconds\n",
      "\t\t 12 image:  29.472307443618774  seconds\n",
      "\t\t 13 image:  29.95218849182129  seconds\n",
      "\t\t 14 image:  29.096651077270508  seconds\n",
      "\t\t 15 image:  31.597654342651367  seconds\n",
      "\t\t 16 image:  30.242610692977905  seconds\n",
      "\t\t 17 image:  30.908700704574585  seconds\n",
      "\t\t 18 image:  30.2010440826416  seconds\n",
      "\t\t 19 image:  29.73708486557007  seconds\n",
      "\t\t 20 image:  32.384079456329346  seconds\n",
      "\t\t 21 image:  33.66658091545105  seconds\n",
      "\t\t 22 image:  30.0952570438385  seconds\n",
      "\t\t 23 image:  32.3418128490448  seconds\n",
      "\t\t 24 image:  37.26595067977905  seconds\n",
      "\t\t 25 image:  33.681981325149536  seconds\n",
      "\t\t 26 image:  33.66014051437378  seconds\n",
      "\t\t 27 image:  36.741700887680054  seconds\n",
      "\t\t 28 image:  43.75800323486328  seconds\n",
      "\t\t 29 image:  146.4535355567932  seconds\n",
      "\t\t 30 image:  35.57635140419006  seconds\n",
      "\t\t 31 image:  32.41675353050232  seconds\n",
      "\t\t 32 image:  33.253581285476685  seconds\n",
      "\t\t 33 image:  30.36919331550598  seconds\n",
      "\t\t 34 image:  34.5440776348114  seconds\n",
      "\t\t 35 image:  32.8918821811676  seconds\n",
      "\t\t 36 image:  30.69795060157776  seconds\n",
      "\t\t 37 image:  26.87736463546753  seconds\n",
      "\t\t 38 image:  29.375711917877197  seconds\n",
      "\t\t 39 image:  33.54379487037659  seconds\n",
      "\t\t 40 image:  33.23937678337097  seconds\n",
      "\t\t 41 image:  30.92093324661255  seconds\n",
      "\t\t 42 image:  30.6746883392334  seconds\n",
      "\t\t 43 image:  32.02228593826294  seconds\n",
      "\t\t 44 image:  31.424381732940674  seconds\n",
      "\t\t 45 image:  31.403831243515015  seconds\n",
      "\t\t 46 image:  31.454086780548096  seconds\n",
      "\t\t 47 image:  28.718329429626465  seconds\n",
      "\t\t 48 image:  31.517757892608643  seconds\n",
      "\t\t 49 image:  31.395866632461548  seconds\n",
      "\t\t 50 image:  31.18562340736389  seconds\n",
      "\t\t 51 image:  30.95198392868042  seconds\n",
      "\t\t 52 image:  30.193466663360596  seconds\n",
      "\t\t 53 image:  29.50132179260254  seconds\n",
      "\t\t 54 image:  29.86703872680664  seconds\n",
      "\t\t 55 image:  29.95579743385315  seconds\n",
      "\t\t 56 image:  29.709513187408447  seconds\n",
      "\t\t 57 image:  30.672974109649658  seconds\n",
      "\t\t 58 image:  31.075454473495483  seconds\n",
      "\t\t 59 image:  31.222660779953003  seconds\n",
      "\t\t 60 image:  31.839320182800293  seconds\n",
      "\t\t 61 image:  31.613234043121338  seconds\n",
      "\t\t 62 image:  29.71007204055786  seconds\n",
      "\t\t 63 image:  32.05058193206787  seconds\n",
      "\t\t 64 image:  31.678344249725342  seconds\n",
      "\t\t 65 image:  31.091681718826294  seconds\n",
      "\t\t 66 image:  29.3594229221344  seconds\n",
      "\t\t 67 image:  30.396244287490845  seconds\n",
      "\t\t 68 image:  30.541627168655396  seconds\n",
      "\t\t 69 image:  31.100268125534058  seconds\n",
      "\t\t 70 image:  30.845019817352295  seconds\n",
      "\t\t 71 image:  28.898370027542114  seconds\n",
      "\t\t 72 image:  29.262859582901  seconds\n",
      "\t\t 73 image:  31.78437376022339  seconds\n",
      "\t\t 74 image:  29.68002963066101  seconds\n",
      "\t\t 75 image:  30.395747661590576  seconds\n",
      "\t\t 76 image:  29.122532606124878  seconds\n",
      "\t\t 77 image:  29.738234519958496  seconds\n",
      "\t\t 78 image:  29.751490831375122  seconds\n",
      "\t\t 79 image:  28.877044439315796  seconds\n",
      "\t\t 80 image:  30.434571981430054  seconds\n",
      "\t\t 81 image:  28.060209035873413  seconds\n",
      "\t\t 82 image:  29.911739349365234  seconds\n",
      "\t\t 83 image:  30.087884187698364  seconds\n",
      "\t\t 84 image:  29.673262357711792  seconds\n",
      "\t\t 85 image:  30.148444414138794  seconds\n",
      "\t\t 86 image:  29.375416040420532  seconds\n",
      "\t\t 87 image:  29.551047563552856  seconds\n",
      "\t\t 88 image:  29.03649663925171  seconds\n",
      "\t\t 89 image:  31.090399980545044  seconds\n",
      "\t\t 90 image:  30.86281967163086  seconds\n",
      "\t\t 91 image:  31.333391666412354  seconds\n",
      "\t\t 92 image:  30.804891109466553  seconds\n",
      "\t\t 93 image:  30.60809350013733  seconds\n",
      "\t\t 94 image:  33.048332929611206  seconds\n",
      "\t\t 95 image:  31.72410798072815  seconds\n",
      "\t\t 96 image:  33.24193620681763  seconds\n",
      "\t\t 97 image:  34.13816452026367  seconds\n",
      "\t\t 98 image:  31.47386360168457  seconds\n",
      "\t\t 99 image:  32.38379192352295  seconds\n",
      "\t\t 100 image:  34.68550944328308  seconds\n",
      "\t\t 101 image:  33.90075731277466  seconds\n",
      "\t\t 102 image:  31.93983030319214  seconds\n",
      "\t\t 103 image:  31.91836929321289  seconds\n",
      "\t\t 104 image:  31.740187644958496  seconds\n",
      "\t\t 105 image:  34.4149329662323  seconds\n",
      "\t\t 106 image:  33.547574043273926  seconds\n",
      "\t\t 107 image:  33.20065951347351  seconds\n",
      "\t\t 108 image:  34.07085824012756  seconds\n",
      "\t\t 109 image:  38.170106410980225  seconds\n",
      "\t\t 110 image:  31.84483528137207  seconds\n",
      "\t\t 111 image:  30.610068321228027  seconds\n",
      "\t\t 112 image:  37.33505415916443  seconds\n",
      "\t\t 113 image:  38.467108488082886  seconds\n",
      "\t\t 114 image:  30.461275100708008  seconds\n",
      "\t\t 115 image:  24.7176251411438  seconds\n",
      "\t\t 116 image:  42.212390422821045  seconds\n",
      "\t\t 117 image:  34.8702654838562  seconds\n",
      "\t\t 118 image:  28.5677707195282  seconds\n",
      "\t\t 119 image:  31.63102102279663  seconds\n",
      "[147.45319485664368, 31.812931776046753, 31.188518047332764, 31.41026258468628, 28.847904682159424, 32.845922231674194, 31.115629196166992, 31.065399169921875, 32.771485328674316, 29.8766667842865, 29.670668840408325, 31.970021724700928, 29.472307443618774, 29.95218849182129, 29.096651077270508, 31.597654342651367, 30.242610692977905, 30.908700704574585, 30.2010440826416, 29.73708486557007, 32.384079456329346, 33.66658091545105, 30.0952570438385, 32.3418128490448, 37.26595067977905, 33.681981325149536, 33.66014051437378, 36.741700887680054, 43.75800323486328, 146.4535355567932, 35.57635140419006, 32.41675353050232, 33.253581285476685, 30.36919331550598, 34.5440776348114, 32.8918821811676, 30.69795060157776, 26.87736463546753, 29.375711917877197, 33.54379487037659, 33.23937678337097, 30.92093324661255, 30.6746883392334, 32.02228593826294, 31.424381732940674, 31.403831243515015, 31.454086780548096, 28.718329429626465, 31.517757892608643, 31.395866632461548, 31.18562340736389, 30.95198392868042, 30.193466663360596, 29.50132179260254, 29.86703872680664, 29.95579743385315, 29.709513187408447, 30.672974109649658, 31.075454473495483, 31.222660779953003, 31.839320182800293, 31.613234043121338, 29.71007204055786, 32.05058193206787, 31.678344249725342, 31.091681718826294, 29.3594229221344, 30.396244287490845, 30.541627168655396, 31.100268125534058, 30.845019817352295, 28.898370027542114, 29.262859582901, 31.78437376022339, 29.68002963066101, 30.395747661590576, 29.122532606124878, 29.738234519958496, 29.751490831375122, 28.877044439315796, 30.434571981430054, 28.060209035873413, 29.911739349365234, 30.087884187698364, 29.673262357711792, 30.148444414138794, 29.375416040420532, 29.551047563552856, 29.03649663925171, 31.090399980545044, 30.86281967163086, 31.333391666412354, 30.804891109466553, 30.60809350013733, 33.048332929611206, 31.72410798072815, 33.24193620681763, 34.13816452026367, 31.47386360168457, 32.38379192352295, 34.68550944328308, 33.90075731277466, 31.93983030319214, 31.91836929321289, 31.740187644958496, 34.4149329662323, 33.547574043273926, 33.20065951347351, 34.07085824012756, 38.170106410980225, 31.84483528137207, 30.610068321228027, 37.33505415916443, 38.467108488082886, 30.461275100708008, 24.7176251411438, 42.212390422821045, 34.8702654838562, 28.5677707195282, 31.63102102279663]\n",
      "\t** Time elapsed since last category:  4021.021068096161  seconds **\n",
      ">>>>>>>>>>>>>>>>>>>>>>>>>>>>\n",
      " 2 : Concept :  slub_c\n",
      "\tTotal number of images for  slub_c  :  120\n",
      "\t\t 0 image:  31.587051391601562  seconds\n",
      "\t\t 1 image:  33.375550985336304  seconds\n",
      "\t\t 2 image:  32.13266062736511  seconds\n",
      "\t\t 3 image:  24.623250007629395  seconds\n",
      "\t\t 4 image:  29.35808491706848  seconds\n",
      "\t\t 5 image:  30.489038228988647  seconds\n",
      "\t\t 6 image:  30.353232622146606  seconds\n",
      "\t\t 7 image:  27.66809105873108  seconds\n",
      "\t\t 8 image:  29.96735978126526  seconds\n",
      "\t\t 9 image:  34.14606595039368  seconds\n",
      "\t\t 10 image:  25.206719160079956  seconds\n",
      "\t\t 11 image:  24.12313222885132  seconds\n",
      "\t\t 12 image:  26.053221225738525  seconds\n",
      "\t\t 13 image:  25.581045389175415  seconds\n",
      "\t\t 14 image:  24.820359468460083  seconds\n",
      "\t\t 15 image:  23.251222610473633  seconds\n"
     ]
    },
    {
     "name": "stdout",
     "output_type": "stream",
     "text": [
      "\t\t 16 image:  23.616819858551025  seconds\n",
      "\t\t 17 image:  24.651023149490356  seconds\n",
      "\t\t 18 image:  23.752487182617188  seconds\n",
      "\t\t 19 image:  24.311928749084473  seconds\n",
      "\t\t 20 image:  24.880441188812256  seconds\n",
      "\t\t 21 image:  24.955605030059814  seconds\n",
      "\t\t 22 image:  27.010565996170044  seconds\n",
      "\t\t 23 image:  29.27434802055359  seconds\n",
      "\t\t 24 image:  25.82888126373291  seconds\n",
      "\t\t 25 image:  28.484065294265747  seconds\n",
      "\t\t 26 image:  29.552976846694946  seconds\n",
      "\t\t 27 image:  26.130692958831787  seconds\n",
      "\t\t 28 image:  21.29307985305786  seconds\n",
      "\t\t 29 image:  22.081913232803345  seconds\n",
      "\t\t 30 image:  24.29198145866394  seconds\n",
      "\t\t 31 image:  19.500831365585327  seconds\n",
      "\t\t 32 image:  19.417086839675903  seconds\n",
      "\t\t 33 image:  23.619415521621704  seconds\n",
      "\t\t 34 image:  23.557859420776367  seconds\n",
      "\t\t 35 image:  25.620429277420044  seconds\n",
      "\t\t 36 image:  23.08025312423706  seconds\n",
      "\t\t 37 image:  22.067963361740112  seconds\n",
      "\t\t 38 image:  23.263761520385742  seconds\n",
      "\t\t 39 image:  21.334959268569946  seconds\n",
      "\t\t 40 image:  21.439646005630493  seconds\n",
      "\t\t 41 image:  20.377484798431396  seconds\n",
      "\t\t 42 image:  17.9469792842865  seconds\n",
      "\t\t 43 image:  22.150779962539673  seconds\n",
      "\t\t 44 image:  18.71290111541748  seconds\n",
      "\t\t 45 image:  24.96421790122986  seconds\n",
      "\t\t 46 image:  20.83629608154297  seconds\n",
      "\t\t 47 image:  17.92899775505066  seconds\n",
      "\t\t 48 image:  19.331284046173096  seconds\n",
      "\t\t 49 image:  20.04840064048767  seconds\n",
      "\t\t 50 image:  21.4296715259552  seconds\n",
      "\t\t 51 image:  20.05132293701172  seconds\n",
      "\t\t 52 image:  20.1102294921875  seconds\n",
      "\t\t 53 image:  18.79771900177002  seconds\n",
      "\t\t 54 image:  21.903441190719604  seconds\n",
      "\t\t 55 image:  19.809967041015625  seconds\n",
      "\t\t 56 image:  21.656034231185913  seconds\n",
      "\t\t 57 image:  22.843266487121582  seconds\n",
      "\t\t 58 image:  22.5805926322937  seconds\n",
      "\t\t 59 image:  19.919743299484253  seconds\n",
      "\t\t 60 image:  21.14646053314209  seconds\n",
      "\t\t 61 image:  19.8548526763916  seconds\n",
      "\t\t 62 image:  22.10190987586975  seconds\n",
      "\t\t 63 image:  19.221539735794067  seconds\n",
      "\t\t 64 image:  23.51808500289917  seconds\n",
      "\t\t 65 image:  21.832601070404053  seconds\n",
      "\t\t 66 image:  21.612186431884766  seconds\n",
      "\t\t 67 image:  21.825607538223267  seconds\n",
      "\t\t 68 image:  24.619139432907104  seconds\n",
      "\t\t 69 image:  23.041358947753906  seconds\n",
      "\t\t 70 image:  22.70329523086548  seconds\n",
      "\t\t 71 image:  19.289402723312378  seconds\n",
      "\t\t 72 image:  20.045376777648926  seconds\n",
      "\t\t 73 image:  20.398428201675415  seconds\n",
      "\t\t 74 image:  19.982542037963867  seconds\n",
      "\t\t 75 image:  18.923409461975098  seconds\n",
      "\t\t 76 image:  22.471850872039795  seconds\n",
      "\t\t 77 image:  21.201282024383545  seconds\n",
      "\t\t 78 image:  19.031087636947632  seconds\n",
      "\t\t 79 image:  23.363495588302612  seconds\n",
      "\t\t 80 image:  20.19397759437561  seconds\n",
      "\t\t 81 image:  18.75386691093445  seconds\n",
      "\t\t 82 image:  20.353548049926758  seconds\n",
      "\t\t 83 image:  19.648430585861206  seconds\n",
      "\t\t 84 image:  17.554076671600342  seconds\n",
      "\t\t 85 image:  18.929359436035156  seconds\n",
      "\t\t 86 image:  19.455913543701172  seconds\n",
      "\t\t 87 image:  21.679044008255005  seconds\n",
      "\t\t 88 image:  21.694953680038452  seconds\n",
      "\t\t 89 image:  24.764718770980835  seconds\n",
      "\t\t 90 image:  28.594005584716797  seconds\n",
      "\t\t 91 image:  22.517173528671265  seconds\n",
      "\t\t 92 image:  23.442394733428955  seconds\n",
      "\t\t 93 image:  19.097012042999268  seconds\n",
      "\t\t 94 image:  91.07641744613647  seconds\n",
      "\t\t 95 image:  22.359185218811035  seconds\n",
      "\t\t 96 image:  18.64512014389038  seconds\n",
      "\t\t 97 image:  20.46425223350525  seconds\n",
      "\t\t 98 image:  23.088233947753906  seconds\n",
      "\t\t 99 image:  22.514769315719604  seconds\n",
      "\t\t 100 image:  19.628485202789307  seconds\n",
      "\t\t 101 image:  28.9806227684021  seconds\n",
      "\t\t 102 image:  20.88661813735962  seconds\n",
      "\t\t 103 image:  22.710329055786133  seconds\n",
      "\t\t 104 image:  21.486876964569092  seconds\n",
      "\t\t 105 image:  20.35133171081543  seconds\n",
      "\t\t 106 image:  19.537011861801147  seconds\n",
      "\t\t 107 image:  20.830302000045776  seconds\n",
      "\t\t 108 image:  20.44343328475952  seconds\n",
      "\t\t 109 image:  19.885072231292725  seconds\n",
      "\t\t 110 image:  19.268460750579834  seconds\n",
      "\t\t 111 image:  20.087382793426514  seconds\n",
      "\t\t 112 image:  21.283002853393555  seconds\n",
      "\t\t 113 image:  20.231404542922974  seconds\n",
      "\t\t 114 image:  20.521604299545288  seconds\n",
      "\t\t 115 image:  19.005002737045288  seconds\n",
      "\t\t 116 image:  19.75821352005005  seconds\n",
      "\t\t 117 image:  19.463002681732178  seconds\n",
      "\t\t 118 image:  19.59312653541565  seconds\n",
      "\t\t 119 image:  22.313026428222656  seconds\n",
      "[31.587051391601562, 33.375550985336304, 32.13266062736511, 24.623250007629395, 29.35808491706848, 30.489038228988647, 30.353232622146606, 27.66809105873108, 29.96735978126526, 34.14606595039368, 25.206719160079956, 24.12313222885132, 26.053221225738525, 25.581045389175415, 24.820359468460083, 23.251222610473633, 23.616819858551025, 24.651023149490356, 23.752487182617188, 24.311928749084473, 24.880441188812256, 24.955605030059814, 27.010565996170044, 29.27434802055359, 25.82888126373291, 28.484065294265747, 29.552976846694946, 26.130692958831787, 21.29307985305786, 22.081913232803345, 24.29198145866394, 19.500831365585327, 19.417086839675903, 23.619415521621704, 23.557859420776367, 25.620429277420044, 23.08025312423706, 22.067963361740112, 23.263761520385742, 21.334959268569946, 21.439646005630493, 20.377484798431396, 17.9469792842865, 22.150779962539673, 18.71290111541748, 24.96421790122986, 20.83629608154297, 17.92899775505066, 19.331284046173096, 20.04840064048767, 21.4296715259552, 20.05132293701172, 20.1102294921875, 18.79771900177002, 21.903441190719604, 19.809967041015625, 21.656034231185913, 22.843266487121582, 22.5805926322937, 19.919743299484253, 21.14646053314209, 19.8548526763916, 22.10190987586975, 19.221539735794067, 23.51808500289917, 21.832601070404053, 21.612186431884766, 21.825607538223267, 24.619139432907104, 23.041358947753906, 22.70329523086548, 19.289402723312378, 20.045376777648926, 20.398428201675415, 19.982542037963867, 18.923409461975098, 22.471850872039795, 21.201282024383545, 19.031087636947632, 23.363495588302612, 20.19397759437561, 18.75386691093445, 20.353548049926758, 19.648430585861206, 17.554076671600342, 18.929359436035156, 19.455913543701172, 21.679044008255005, 21.694953680038452, 24.764718770980835, 28.594005584716797, 22.517173528671265, 23.442394733428955, 19.097012042999268, 91.07641744613647, 22.359185218811035, 18.64512014389038, 20.46425223350525, 23.088233947753906, 22.514769315719604, 19.628485202789307, 28.9806227684021, 20.88661813735962, 22.710329055786133, 21.486876964569092, 20.35133171081543, 19.537011861801147, 20.830302000045776, 20.44343328475952, 19.885072231292725, 19.268460750579834, 20.087382793426514, 21.283002853393555, 20.231404542922974, 20.521604299545288, 19.005002737045288, 19.75821352005005, 19.463002681732178, 19.59312653541565, 22.313026428222656]\n",
      "\t** Time elapsed since last category:  2784.5766179561615  seconds **\n",
      ">>>>>>>>>>>>>>>>>>>>>>>>>>>>\n",
      " 3 : Concept :  filk_c\n",
      "\tTotal number of images for  filk_c  :  120\n",
      "\t\t 0 image:  21.849064111709595  seconds\n",
      "\t\t 1 image:  21.04941964149475  seconds\n",
      "\t\t 2 image:  20.82332491874695  seconds\n",
      "\t\t 3 image:  21.28432536125183  seconds\n",
      "\t\t 4 image:  19.429123401641846  seconds\n",
      "\t\t 5 image:  19.24868369102478  seconds\n",
      "\t\t 6 image:  19.82339382171631  seconds\n",
      "\t\t 7 image:  19.388869047164917  seconds\n",
      "\t\t 8 image:  19.22643280029297  seconds\n",
      "\t\t 9 image:  19.887368202209473  seconds\n",
      "\t\t 10 image:  19.538593769073486  seconds\n",
      "\t\t 11 image:  23.660465002059937  seconds\n",
      "\t\t 12 image:  20.435762405395508  seconds\n",
      "\t\t 13 image:  19.796345949172974  seconds\n",
      "\t\t 14 image:  22.38164448738098  seconds\n",
      "\t\t 15 image:  20.000203609466553  seconds\n",
      "\t\t 16 image:  20.617969036102295  seconds\n",
      "\t\t 17 image:  19.853949308395386  seconds\n",
      "\t\t 18 image:  19.726701259613037  seconds\n",
      "\t\t 19 image:  21.090291023254395  seconds\n",
      "\t\t 20 image:  20.45523190498352  seconds\n",
      "\t\t 21 image:  20.117974758148193  seconds\n",
      "\t\t 22 image:  21.64309549331665  seconds\n",
      "\t\t 23 image:  19.03142809867859  seconds\n",
      "\t\t 24 image:  19.929713487625122  seconds\n",
      "\t\t 25 image:  19.09896445274353  seconds\n",
      "\t\t 26 image:  19.499630212783813  seconds\n",
      "\t\t 27 image:  18.94131851196289  seconds\n",
      "\t\t 28 image:  20.35704493522644  seconds\n",
      "\t\t 29 image:  22.76800537109375  seconds\n",
      "\t\t 30 image:  21.1107075214386  seconds\n",
      "\t\t 31 image:  22.76662564277649  seconds\n",
      "\t\t 32 image:  22.97836661338806  seconds\n"
     ]
    },
    {
     "name": "stdout",
     "output_type": "stream",
     "text": [
      "\t\t 33 image:  22.85897159576416  seconds\n",
      "\t\t 34 image:  20.8495135307312  seconds\n",
      "\t\t 35 image:  20.1188907623291  seconds\n",
      "\t\t 36 image:  19.20166778564453  seconds\n",
      "\t\t 37 image:  20.3568913936615  seconds\n",
      "\t\t 38 image:  19.0878963470459  seconds\n",
      "\t\t 39 image:  20.912147521972656  seconds\n",
      "\t\t 40 image:  19.924404621124268  seconds\n",
      "\t\t 41 image:  18.36648941040039  seconds\n",
      "\t\t 42 image:  19.285052061080933  seconds\n",
      "\t\t 43 image:  21.003655910491943  seconds\n",
      "\t\t 44 image:  19.81936764717102  seconds\n",
      "\t\t 45 image:  19.73300838470459  seconds\n",
      "\t\t 46 image:  19.870838403701782  seconds\n",
      "\t\t 47 image:  18.99186110496521  seconds\n",
      "\t\t 48 image:  18.520705699920654  seconds\n",
      "\t\t 49 image:  20.84811019897461  seconds\n",
      "\t\t 50 image:  19.40199637413025  seconds\n",
      "\t\t 51 image:  19.991058111190796  seconds\n",
      "\t\t 52 image:  19.612004041671753  seconds\n",
      "\t\t 53 image:  20.037544012069702  seconds\n",
      "\t\t 54 image:  19.49667978286743  seconds\n",
      "\t\t 55 image:  20.828781843185425  seconds\n",
      "\t\t 56 image:  18.677825927734375  seconds\n",
      "\t\t 57 image:  19.575352907180786  seconds\n",
      "\t\t 58 image:  21.282836437225342  seconds\n",
      "\t\t 59 image:  19.932724475860596  seconds\n",
      "\t\t 60 image:  19.852855443954468  seconds\n",
      "\t\t 61 image:  19.46345329284668  seconds\n",
      "\t\t 62 image:  19.740185976028442  seconds\n",
      "\t\t 63 image:  19.511272430419922  seconds\n",
      "\t\t 64 image:  19.941264390945435  seconds\n",
      "\t\t 65 image:  19.8040292263031  seconds\n",
      "\t\t 66 image:  20.48251962661743  seconds\n",
      "\t\t 67 image:  19.296226739883423  seconds\n",
      "\t\t 68 image:  19.140022039413452  seconds\n",
      "\t\t 69 image:  19.282137155532837  seconds\n",
      "\t\t 70 image:  19.4033784866333  seconds\n",
      "\t\t 71 image:  19.459531545639038  seconds\n",
      "\t\t 72 image:  19.093024492263794  seconds\n",
      "\t\t 73 image:  21.46300745010376  seconds\n",
      "\t\t 74 image:  20.541513919830322  seconds\n",
      "\t\t 75 image:  20.121568202972412  seconds\n",
      "\t\t 76 image:  20.71892809867859  seconds\n",
      "\t\t 77 image:  19.23184633255005  seconds\n",
      "\t\t 78 image:  19.318517208099365  seconds\n",
      "\t\t 79 image:  19.1234450340271  seconds\n",
      "\t\t 80 image:  19.744040489196777  seconds\n",
      "\t\t 81 image:  18.620235681533813  seconds\n",
      "\t\t 82 image:  19.125415325164795  seconds\n",
      "\t\t 83 image:  19.659382343292236  seconds\n",
      "\t\t 84 image:  18.28699040412903  seconds\n",
      "\t\t 85 image:  44.93484139442444  seconds\n",
      "\t\t 86 image:  19.802157402038574  seconds\n",
      "\t\t 87 image:  20.13029170036316  seconds\n",
      "\t\t 88 image:  20.02090334892273  seconds\n",
      "\t\t 89 image:  19.746768474578857  seconds\n",
      "\t\t 90 image:  19.417670965194702  seconds\n",
      "\t\t 91 image:  19.46182417869568  seconds\n",
      "\t\t 92 image:  19.190051555633545  seconds\n",
      "\t\t 93 image:  19.242969512939453  seconds\n",
      "\t\t 94 image:  21.48517370223999  seconds\n",
      "\t\t 95 image:  18.388134717941284  seconds\n",
      "\t\t 96 image:  20.31371307373047  seconds\n",
      "\t\t 97 image:  19.95598006248474  seconds\n",
      "\t\t 98 image:  19.26021456718445  seconds\n",
      "\t\t 99 image:  19.155449867248535  seconds\n",
      "\t\t 100 image:  20.19063639640808  seconds\n",
      "\t\t 101 image:  19.21754217147827  seconds\n",
      "\t\t 102 image:  18.84744381904602  seconds\n",
      "\t\t 103 image:  19.598146438598633  seconds\n",
      "\t\t 104 image:  19.058244466781616  seconds\n",
      "\t\t 105 image:  19.994866847991943  seconds\n",
      "\t\t 106 image:  21.108184337615967  seconds\n",
      "\t\t 107 image:  19.377114057540894  seconds\n",
      "\t\t 108 image:  22.73094940185547  seconds\n",
      "\t\t 109 image:  19.6015522480011  seconds\n",
      "\t\t 110 image:  19.632869482040405  seconds\n",
      "\t\t 111 image:  18.952651500701904  seconds\n",
      "\t\t 112 image:  19.477659463882446  seconds\n",
      "\t\t 113 image:  20.105093479156494  seconds\n",
      "\t\t 114 image:  19.086786031723022  seconds\n",
      "\t\t 115 image:  19.641175746917725  seconds\n",
      "\t\t 116 image:  19.042929649353027  seconds\n",
      "\t\t 117 image:  19.046407222747803  seconds\n",
      "\t\t 118 image:  19.261982679367065  seconds\n",
      "\t\t 119 image:  18.58400845527649  seconds\n",
      "[21.849064111709595, 21.04941964149475, 20.82332491874695, 21.28432536125183, 19.429123401641846, 19.24868369102478, 19.82339382171631, 19.388869047164917, 19.22643280029297, 19.887368202209473, 19.538593769073486, 23.660465002059937, 20.435762405395508, 19.796345949172974, 22.38164448738098, 20.000203609466553, 20.617969036102295, 19.853949308395386, 19.726701259613037, 21.090291023254395, 20.45523190498352, 20.117974758148193, 21.64309549331665, 19.03142809867859, 19.929713487625122, 19.09896445274353, 19.499630212783813, 18.94131851196289, 20.35704493522644, 22.76800537109375, 21.1107075214386, 22.76662564277649, 22.97836661338806, 22.85897159576416, 20.8495135307312, 20.1188907623291, 19.20166778564453, 20.3568913936615, 19.0878963470459, 20.912147521972656, 19.924404621124268, 18.36648941040039, 19.285052061080933, 21.003655910491943, 19.81936764717102, 19.73300838470459, 19.870838403701782, 18.99186110496521, 18.520705699920654, 20.84811019897461, 19.40199637413025, 19.991058111190796, 19.612004041671753, 20.037544012069702, 19.49667978286743, 20.828781843185425, 18.677825927734375, 19.575352907180786, 21.282836437225342, 19.932724475860596, 19.852855443954468, 19.46345329284668, 19.740185976028442, 19.511272430419922, 19.941264390945435, 19.8040292263031, 20.48251962661743, 19.296226739883423, 19.140022039413452, 19.282137155532837, 19.4033784866333, 19.459531545639038, 19.093024492263794, 21.46300745010376, 20.541513919830322, 20.121568202972412, 20.71892809867859, 19.23184633255005, 19.318517208099365, 19.1234450340271, 19.744040489196777, 18.620235681533813, 19.125415325164795, 19.659382343292236, 18.28699040412903, 44.93484139442444, 19.802157402038574, 20.13029170036316, 20.02090334892273, 19.746768474578857, 19.417670965194702, 19.46182417869568, 19.190051555633545, 19.242969512939453, 21.48517370223999, 18.388134717941284, 20.31371307373047, 19.95598006248474, 19.26021456718445, 19.155449867248535, 20.19063639640808, 19.21754217147827, 18.84744381904602, 19.598146438598633, 19.058244466781616, 19.994866847991943, 21.108184337615967, 19.377114057540894, 22.73094940185547, 19.6015522480011, 19.632869482040405, 18.952651500701904, 19.477659463882446, 20.105093479156494, 19.086786031723022, 19.641175746917725, 19.042929649353027, 19.046407222747803, 19.261982679367065, 18.58400845527649]\n",
      "\t** Time elapsed since last category:  2420.9102869033813  seconds **\n",
      ">>>>>>>>>>>>>>>>>>>>>>>>>>>>\n",
      " 4 : Concept :  slub_w\n",
      "\tTotal number of images for  slub_w  :  120\n",
      "\t\t 0 image:  27.988359928131104  seconds\n",
      "\t\t 1 image:  25.683579206466675  seconds\n",
      "\t\t 2 image:  23.522064685821533  seconds\n",
      "\t\t 3 image:  18.46258854866028  seconds\n",
      "\t\t 4 image:  19.056875705718994  seconds\n",
      "\t\t 5 image:  18.536041736602783  seconds\n",
      "\t\t 6 image:  22.23030161857605  seconds\n",
      "\t\t 7 image:  23.56412959098816  seconds\n",
      "\t\t 8 image:  23.324013233184814  seconds\n",
      "\t\t 9 image:  23.220574140548706  seconds\n",
      "\t\t 10 image:  22.538777112960815  seconds\n",
      "\t\t 11 image:  25.058429479599  seconds\n",
      "\t\t 12 image:  23.547025442123413  seconds\n",
      "\t\t 13 image:  22.959247827529907  seconds\n",
      "\t\t 14 image:  22.74047827720642  seconds\n",
      "\t\t 15 image:  23.328368663787842  seconds\n",
      "\t\t 16 image:  20.09044861793518  seconds\n",
      "\t\t 17 image:  18.77982211112976  seconds\n",
      "\t\t 18 image:  20.026302576065063  seconds\n",
      "\t\t 19 image:  19.00798726081848  seconds\n",
      "\t\t 20 image:  23.512787103652954  seconds\n",
      "\t\t 21 image:  21.53081202507019  seconds\n",
      "\t\t 22 image:  20.60745906829834  seconds\n",
      "\t\t 23 image:  19.855628728866577  seconds\n",
      "\t\t 24 image:  21.35328245162964  seconds\n",
      "\t\t 25 image:  26.803711652755737  seconds\n",
      "\t\t 26 image:  23.148467302322388  seconds\n",
      "\t\t 27 image:  23.627912282943726  seconds\n",
      "\t\t 28 image:  25.12613010406494  seconds\n",
      "\t\t 29 image:  24.66422986984253  seconds\n",
      "\t\t 30 image:  23.508209228515625  seconds\n",
      "\t\t 31 image:  24.61854100227356  seconds\n",
      "\t\t 32 image:  24.63568615913391  seconds\n",
      "\t\t 33 image:  22.935925006866455  seconds\n",
      "\t\t 34 image:  21.56099796295166  seconds\n",
      "\t\t 35 image:  19.56503701210022  seconds\n",
      "\t\t 36 image:  22.561805486679077  seconds\n",
      "\t\t 37 image:  22.113129377365112  seconds\n",
      "\t\t 38 image:  21.414397954940796  seconds\n",
      "\t\t 39 image:  18.436713933944702  seconds\n",
      "\t\t 40 image:  18.332457542419434  seconds\n",
      "\t\t 41 image:  22.83236575126648  seconds\n",
      "\t\t 42 image:  21.217270612716675  seconds\n",
      "\t\t 43 image:  22.027262687683105  seconds\n",
      "\t\t 44 image:  25.510562658309937  seconds\n",
      "\t\t 45 image:  26.436639308929443  seconds\n",
      "\t\t 46 image:  25.126848936080933  seconds\n",
      "\t\t 47 image:  22.729291439056396  seconds\n",
      "\t\t 48 image:  20.67830514907837  seconds\n",
      "\t\t 49 image:  29.094783544540405  seconds\n"
     ]
    },
    {
     "name": "stdout",
     "output_type": "stream",
     "text": [
      "\t\t 50 image:  26.588144540786743  seconds\n",
      "\t\t 51 image:  25.716920137405396  seconds\n",
      "\t\t 52 image:  34.18554902076721  seconds\n",
      "\t\t 53 image:  18.23840618133545  seconds\n",
      "\t\t 54 image:  22.020556211471558  seconds\n",
      "\t\t 55 image:  26.67707848548889  seconds\n",
      "\t\t 56 image:  27.461855173110962  seconds\n",
      "\t\t 57 image:  27.537051916122437  seconds\n"
     ]
    }
   ],
   "source": [
    "numFt = 3\n",
    "if trueRatingsPresent == True:\n",
    "    X = np.zeros((count*numColors,numFt+1) )  # +1 for label #Number of features [] # Feature Vector -- 58N rows\n",
    "else:\n",
    "    X = np.zeros((count*numColors,numFt))\n",
    "    \n",
    "init = time.time()\n",
    "rowNum = -1\n",
    "strtInd = []  # To keep track of the starting indices of concepts in the feature matrix\n",
    "cvInd = 1 \n",
    "counter = 0\n",
    "sz = 100    # Size of image: 100 by 100\n",
    "\n",
    "# Feature tolerations used by Sector+Category\n",
    "Rc = [1,10,20,30,40]  \n",
    "Li = [40]             \n",
    "R = [40]               \n",
    "hueAngle = [40]        \n",
    "##\n",
    "for conceptNum,concept in enumerate(allConcepts):\n",
    "    #conceptNum = 5\n",
    "    t0 = time.time()\n",
    "    print(\">>>>>>>>>>>>>>>>>>>>>>>>>>>>\\n\",conceptNum+1,\": Concept : \",concept)\n",
    "    ct = 0    # Keeps track of images inside a category\n",
    "    strtInd.append(counter)\n",
    "    trainFiles = glob.glob( path + \"/\" +typeImg +\"/\" +concept+\"/*.*\" )\n",
    "    print(\"\\tTotal number of images for \",concept,\" : \",len(trainFiles))\n",
    "    t = []\n",
    "    for m, nameFile in enumerate(trainFiles):\n",
    "        t1 = time.time()\n",
    "        #print(\"\\nReading file ......\")\n",
    "        ct = ct + 1\n",
    "        \n",
    "        image = imread( nameFile )\n",
    "        imageResized = resize( image, (sz,sz),anti_aliasing=True,mode='reflect')\n",
    "        img = imageResized\n",
    "        # Convert the pixels in  image to LAB space\n",
    "        imgLAB = skcolor.rgb2lab(img)\n",
    "        segmentedImg,segmentedImgCat = getSegmentedImage(nameFile,sz)\n",
    "        imageWithCategories = getCategoriesMatrix(nameFile,sz)\n",
    "        \n",
    "        i1 = imgLAB[27:72,27:72,:] \n",
    "        i6 = np.copy(segmentedImg)\n",
    "        \n",
    "        ii1 = imageWithCategories[27:72,27:72].flatten()\n",
    "        \n",
    "        categoryImg1 = [sum(1 for p in ii1 if p-1 == k)/ii1.size for k in range(11)]\n",
    "      \n",
    "        for color in range(numColors):\n",
    "            rowNum+=1\n",
    "            counter += 1\n",
    "            colCt = 0\n",
    "            colorLAB = np.array(colorData.loc[color])   #get LAB values for specific color\n",
    "\n",
    "            # Just need 2 features from Sectors\n",
    "            for i in [0,5]:\n",
    "                if i == 0:\n",
    "                    L = i1[:,:,0]\n",
    "                    a = i1[:,:,1]\n",
    "                    b = i1[:,:,2]\n",
    "                elif i == 1:\n",
    "                    L = i2[:,:,0]\n",
    "                    a = i2[:,:,1]\n",
    "                    b = i2[:,:,2]\n",
    "                elif i == 2:\n",
    "                    L = i3[:,:,0]\n",
    "                    a = i3[:,:,1]\n",
    "                    b = i3[:,:,2]\n",
    "                elif i == 3:\n",
    "                    L = i4[:,:,0]\n",
    "                    a = i4[:,:,1]\n",
    "                    b = i4[:,:,2]\n",
    "                elif i == 4:\n",
    "                    L = i5[:,:,0]\n",
    "                    a = i5[:,:,1]\n",
    "                    b = i5[:,:,2]\n",
    "                else:\n",
    "                    L = i6[:,:,0]\n",
    "                    a = i6[:,:,1]\n",
    "                    b = i6[:,:,2]\n",
    "                    \n",
    "                LTemp = L.flatten()\n",
    "                r = np.sqrt(a**2+b**2).flatten()\n",
    "                theta = np.degrees(np.arctan2(b,a)).flatten()\n",
    "\n",
    "                L_diff = np.abs(LTemp - colorLAB[0])\n",
    "                r_diff = np.abs(r - (np.sqrt(colorLAB[1]**2 + colorLAB[2]**2)))\n",
    "                theta_diff = np.abs(theta - np.degrees(np.arctan2(colorLAB[2],colorLAB[1])))\n",
    "\n",
    "                for j,r_th in enumerate(R):\n",
    "                    l_th = Li[j] # L and R are the same.\n",
    "                    for theta_th in hueAngle:\n",
    "                        pixels = 0\n",
    "                        for p in range(len(L_diff)):\n",
    "                            if (L_diff[p] <= l_th and r_diff[p] <= r_th and theta_diff[p] <= theta_th) or (L_diff[p] <= l_th and r_diff[p] <= 2.5):\n",
    "                                pixels += 1\n",
    "                        X[rowNum,colCt] = pixels/(len(L_diff))\n",
    "                        colCt+=1\n",
    "            #print(colCt)\n",
    "            \n",
    "            colorCat = category.loc[color,0] \n",
    "            X[rowNum,colCt] = categoryImg1[colorCat-1]\n",
    "            \n",
    "            if trueRatingsPresent == True:\n",
    "                colCt+=1\n",
    "                label = data.loc[conceptNum]['col_'+str(color)]   \n",
    "                X[rowNum,colCt] = label\n",
    "            #print(colCt)\n",
    "        h = time.time()-t1\n",
    "        print(\"\\t\\t\",m, \"image: \",h ,\" seconds\")\n",
    "        t.append(h)\n",
    "    print(t)\n",
    "    print(\"\\t** Time elapsed since last category: \",time.time()-t0,\" seconds **\")\n",
    "strtInd.append(len(X))\n",
    "print(strtInd)\n",
    "print(\"** Total Time elapsed: \",time.time()-init,\" seconds **\")"
   ]
  },
  {
   "cell_type": "markdown",
   "metadata": {},
   "source": [
    "## Save the data as excel spread sheet"
   ]
  },
  {
   "cell_type": "code",
   "execution_count": 12,
   "metadata": {},
   "outputs": [
    {
     "data": {
      "text/plain": [
       "(17760, 4)"
      ]
     },
     "execution_count": 12,
     "metadata": {},
     "output_type": "execute_result"
    }
   ],
   "source": [
    "X.shape\n",
    "# This should be of the shape :\n",
    "    #(numImages*number of Concepts*numColors, 3) or {(numImages*number of Concepts*numColors, 4) if true ratings are present}."
   ]
  },
  {
   "cell_type": "code",
   "execution_count": 13,
   "metadata": {},
   "outputs": [],
   "source": [
    "## convert your array into a dataframe\n",
    "xxTemp = np.copy(X)\n",
    "#y = np.copy(X[:,-1])\n",
    "df = pd.DataFrame(xxTemp)\n",
    "\n",
    "## save to xlsx file\n",
    "\n",
    "filepath = 'dataNewConcepts.xlsx'\n",
    "df.to_excel(filepath, index=False)\n",
    "tot = len(xxTemp)"
   ]
  },
  {
   "cell_type": "markdown",
   "metadata": {},
   "source": [
    "# Analysis"
   ]
  },
  {
   "cell_type": "code",
   "execution_count": 28,
   "metadata": {},
   "outputs": [
    {
     "data": {
      "text/plain": [
       "[0, 4440, 8880, 13320, 17760]"
      ]
     },
     "execution_count": 28,
     "metadata": {},
     "output_type": "execute_result"
    }
   ],
   "source": [
    "#Comment this: \n",
    "#strtInd = [0, 1850, 3700, 5550, 7400, 9250, 11100]\n",
    "strtInd"
   ]
  },
  {
   "cell_type": "code",
   "execution_count": 19,
   "metadata": {},
   "outputs": [
    {
     "data": {
      "text/plain": [
       "(17760, 4)"
      ]
     },
     "execution_count": 19,
     "metadata": {},
     "output_type": "execute_result"
    }
   ],
   "source": [
    "filepath = 'dataNewConcepts.xlsx'\n",
    "df = pd.read_excel(filepath)\n",
    "Q = df.as_matrix()\n",
    "Q.shape"
   ]
  },
  {
   "cell_type": "code",
   "execution_count": 27,
   "metadata": {
    "scrolled": true
   },
   "outputs": [
    {
     "data": {
      "text/plain": [
       "17760"
      ]
     },
     "execution_count": 27,
     "metadata": {},
     "output_type": "execute_result"
    }
   ],
   "source": [
    "len(Q)"
   ]
  },
  {
   "cell_type": "code",
   "execution_count": 31,
   "metadata": {
    "scrolled": true
   },
   "outputs": [
    {
     "data": {
      "text/html": [
       "<div>\n",
       "<style>\n",
       "    .dataframe thead tr:only-child th {\n",
       "        text-align: right;\n",
       "    }\n",
       "\n",
       "    .dataframe thead th {\n",
       "        text-align: left;\n",
       "    }\n",
       "\n",
       "    .dataframe tbody tr th {\n",
       "        vertical-align: top;\n",
       "    }\n",
       "</style>\n",
       "<table border=\"1\" class=\"dataframe\">\n",
       "  <thead>\n",
       "    <tr style=\"text-align: right;\">\n",
       "      <th></th>\n",
       "      <th>0</th>\n",
       "      <th>1</th>\n",
       "      <th>2</th>\n",
       "      <th>3</th>\n",
       "    </tr>\n",
       "  </thead>\n",
       "  <tbody>\n",
       "    <tr>\n",
       "      <th>0</th>\n",
       "      <td>0.000000</td>\n",
       "      <td>0.000000</td>\n",
       "      <td>0.00000</td>\n",
       "      <td>0.68915</td>\n",
       "    </tr>\n",
       "    <tr>\n",
       "      <th>1</th>\n",
       "      <td>0.371358</td>\n",
       "      <td>0.757519</td>\n",
       "      <td>0.00000</td>\n",
       "      <td>0.48859</td>\n",
       "    </tr>\n",
       "    <tr>\n",
       "      <th>2</th>\n",
       "      <td>0.093333</td>\n",
       "      <td>0.150376</td>\n",
       "      <td>0.02321</td>\n",
       "      <td>0.42716</td>\n",
       "    </tr>\n",
       "    <tr>\n",
       "      <th>3</th>\n",
       "      <td>0.044938</td>\n",
       "      <td>0.001880</td>\n",
       "      <td>0.00000</td>\n",
       "      <td>0.35264</td>\n",
       "    </tr>\n",
       "    <tr>\n",
       "      <th>4</th>\n",
       "      <td>0.000000</td>\n",
       "      <td>0.000000</td>\n",
       "      <td>0.00000</td>\n",
       "      <td>0.70457</td>\n",
       "    </tr>\n",
       "  </tbody>\n",
       "</table>\n",
       "</div>"
      ],
      "text/plain": [
       "          0         1        2        3\n",
       "0  0.000000  0.000000  0.00000  0.68915\n",
       "1  0.371358  0.757519  0.00000  0.48859\n",
       "2  0.093333  0.150376  0.02321  0.42716\n",
       "3  0.044938  0.001880  0.00000  0.35264\n",
       "4  0.000000  0.000000  0.00000  0.70457"
      ]
     },
     "execution_count": 31,
     "metadata": {},
     "output_type": "execute_result"
    }
   ],
   "source": [
    "df.head()"
   ]
  },
  {
   "cell_type": "code",
   "execution_count": 47,
   "metadata": {},
   "outputs": [],
   "source": [
    "if trueRatingsPresent == True:\n",
    "    Xtest = np.column_stack([np.ones((len(Q),1)), Q[:,:-1]])\n",
    "    ytest = np.copy(Q[:,-1])\n",
    "else:\n",
    "    # Since there are no true ratings present, we don't have ytest.\n",
    "    Xtest = np.column_stack([np.ones((len(Q),1)), Q])"
   ]
  },
  {
   "cell_type": "code",
   "execution_count": 48,
   "metadata": {},
   "outputs": [
    {
     "data": {
      "text/plain": [
       "[0, 4440, 8880, 13320, 17760]"
      ]
     },
     "execution_count": 48,
     "metadata": {},
     "output_type": "execute_result"
    }
   ],
   "source": [
    "strtInd"
   ]
  },
  {
   "cell_type": "code",
   "execution_count": 22,
   "metadata": {},
   "outputs": [],
   "source": [
    "y_predAll = Xtest.dot(weights)"
   ]
  },
  {
   "cell_type": "code",
   "execution_count": 26,
   "metadata": {},
   "outputs": [
    {
     "data": {
      "text/plain": [
       "(17760,)"
      ]
     },
     "execution_count": 26,
     "metadata": {},
     "output_type": "execute_result"
    }
   ],
   "source": [
    "# Contains the predicted ratings.\n",
    "y_predAll.shape"
   ]
  },
  {
   "cell_type": "markdown",
   "metadata": {},
   "source": [
    "# The following evaluation can only be done if true associated ratings are present, however it will give average predicted ratings for every concept snd color regardless."
   ]
  },
  {
   "cell_type": "code",
   "execution_count": 24,
   "metadata": {
    "scrolled": false
   },
   "outputs": [
    {
     "name": "stdout",
     "output_type": "stream",
     "text": [
      "(4440,)\n",
      "The true squared error (in color ratings) for left out concept filk_c is: nan\n",
      "\n",
      "Pearson’s correlation coefficient (between true ratings and avg predicted ratings) is nan\n",
      "p-value 1.0000\n",
      "(4440,)\n",
      "The true squared error (in color ratings) for left out concept filk_w is: nan\n",
      "\n",
      "Pearson’s correlation coefficient (between true ratings and avg predicted ratings) is nan\n",
      "p-value 1.0000\n",
      "(4440,)\n",
      "The true squared error (in color ratings) for left out concept slub_c is: nan\n",
      "\n",
      "Pearson’s correlation coefficient (between true ratings and avg predicted ratings) is nan\n",
      "p-value 1.0000\n",
      "(4440,)\n",
      "The true squared error (in color ratings) for left out concept slub_w is: nan\n",
      "\n",
      "Pearson’s correlation coefficient (between true ratings and avg predicted ratings) is nan\n",
      "p-value 1.0000\n"
     ]
    },
    {
     "name": "stderr",
     "output_type": "stream",
     "text": [
      "C:\\Users\\rgnra\\Anaconda3\\lib\\site-packages\\scipy\\stats\\stats.py:5256: RuntimeWarning: invalid value encountered in less\n",
      "  x = np.where(x < 1.0, x, 1.0)  # if x > 1 then return 1.0\n"
     ]
    }
   ],
   "source": [
    "if trueRatingsPresent == True:\n",
    "    from scipy import stats\n",
    "    plt.close('all')\n",
    "    win0_50 = []  # saves correlation for testConcept\n",
    "    win1_50 = []  # saves true rating for testConcept\n",
    "    win2_50 = []  # saves avg predicted rating for testConcept\n",
    "\n",
    "    correlation_50 = []\n",
    "    error_50 = []\n",
    "\n",
    "    for i in range(len(strtInd)-1):\n",
    "        testConcept =  allConcepts[i]\n",
    "\n",
    "        y_pred = np.copy(y_predAll[strtInd[i]:strtInd[i+1]])\n",
    "        y_test = np.copy(ytest[strtInd[i]:strtInd[i+1]])\n",
    "        print(y_pred.shape)\n",
    "        totalTestImages = y_pred.size/numColors  #numColors*N rows -> every image has 'numColors' rows of data\n",
    "        avg_pred =[np.sum([y_pred[p] for p in range(q,y_pred.size,numColors)])/totalTestImages for q in range(numColors)]\n",
    "\n",
    "        # For Pearson correlation coefficient and the p-value (between avg_pred and true rating for fruit group)\n",
    "        trueRating = np.copy(y_test[0:numColors])\n",
    "\n",
    "        sqErr = np.sum(pow(avg_pred - trueRating,2))\n",
    "        print(\"The true squared error (in color ratings) for left out concept\",testConcept,\"is: %.4f\" % sqErr)\n",
    "\n",
    "        corrCoeff, pVal = stats.pearsonr(avg_pred, trueRating)\n",
    "\n",
    "        print(\"\\nPearson’s correlation coefficient (between true ratings and avg predicted ratings) is %.4f\" %corrCoeff)\n",
    "        print(\"p-value %.4f\" %pVal)\n",
    "\n",
    "        error_50.append(sqErr)\n",
    "        correlation_50.append(corrCoeff)\n",
    "        win0_50.append(corrCoeff) # saves correlation for testConcept\n",
    "        win1_50.append(trueRating) # saves true rating for testConcept\n",
    "        win2_50.append(avg_pred)   # saves avg predicted rating for testConcept\n",
    "        \n",
    "    # ####Plot average color rating over all test images.\n",
    "#         fig= plt.figure(figsize=(10,3))\n",
    "#         barPlot = plt.bar(range(1,numColors+1),avg_pred,color = colorDataRGB.values,edgeColor = [0, 0, 0])\n",
    "#         plt.ylabel('Ratings')\n",
    "#         plt.xlabel('Colors')\n",
    "#         plt.title('Predicted color ratings for Concept : %s' %testConcept)\n",
    "#         plt.xticks([i for i in range(1,numColors+1,3)],[i for i in range(1,numColors+1,3)])\n",
    "#         plt.ylim(0,1)\n",
    "#         plt.show()\n",
    "\n",
    "#         fig= plt.figure(figsize=(10,3))\n",
    "#         barPlot = plt.bar(range(1,numColors+1), trueRating,color = colorDataRGB.values,edgeColor = [0, 0, 0])\n",
    "#         plt.ylabel('Ratings')\n",
    "#         plt.xlabel('Colors')\n",
    "#         plt.title('True color ratings for Concept : %s' %testConcept)\n",
    "#         plt.xticks([i for i in range(1,numColors+1,3)],[i for i in range(1,numColors+1,3)])\n",
    "#         plt.ylim(0,1)\n",
    "#         plt.show()\n",
    "\n",
    "#         # Scatter plot\n",
    "#         fig2 = plt.figure(figsize=(7,7))\n",
    "#         plt.scatter(trueRating,avg_pred,c=colorDataRGB.values,s=80,marker = 'o',linewidths=0.5,edgeColor = [0, 0, 0])\n",
    "#         plt.ylabel('Predicted Ratings')\n",
    "#         plt.xlabel('Subject Ratings')\n",
    "#         plt.title('Scatter plot of color ratings for : %s' %testConcept)\n",
    "#         plt.axis('equal')\n",
    "#         plt.xlim(0,1)\n",
    "#         plt.ylim(0,1)\n",
    "#         plt.show() \n",
    "else:\n",
    "    win2_50 = [] # saves avg predicted rating for testConcept\n",
    "    for i in range(len(strtInd)-1):\n",
    "        testConcept =  allConcepts[i]\n",
    "\n",
    "        y_pred = np.copy(y_predAll[strtInd[i]:strtInd[i+1]])\n",
    "        #y_test = np.copy(ytest[strtInd[i]:strtInd[i+1]])\n",
    "        #print(y_pred.shape)\n",
    "        totalTestImages = y_pred.size/numColors  #numColors*N rows -> every image has 'numColors' rows of data\n",
    "        avg_pred =[np.sum([y_pred[p] for p in range(q,y_pred.size,numColors)])/totalTestImages for q in range(numColors)]\n",
    "        win2_50.append(avg_pred)"
   ]
  },
  {
   "cell_type": "code",
   "execution_count": 119,
   "metadata": {},
   "outputs": [
    {
     "data": {
      "image/png": "[encoded data removed]",
      "text/plain": [
       "<Figure size 432x288 with 1 Axes>"
      ]
     },
     "metadata": {},
     "output_type": "display_data"
    }
   ],
   "source": [
    "if trueRatingsPresent == True:\n",
    "    plt.close('all')\n",
    "    barWidth = 0.5\n",
    "    plt.bar(range(1,len(allConcepts)+1),win0_50, width = barWidth)\n",
    "    plt.xticks(range(1,len(allConcepts)+1),allConcepts)\n",
    "    plt.title(\"Correlation for Test Concepts (NumImages: #50)\")\n",
    "    plt.ylabel('Correlation')\n",
    "    plt.ylim(0,1)\n",
    "    plt.show()"
   ]
  },
  {
   "cell_type": "markdown",
   "metadata": {},
   "source": [
    "## Save the estimated output ratings as EstimatesNewConcepts.csv"
   ]
  },
  {
   "cell_type": "code",
   "execution_count": 85,
   "metadata": {},
   "outputs": [
    {
     "name": "stdout",
     "output_type": "stream",
     "text": [
      "(116, 3)\n",
      "   Concept Color Sector+Category_Model_Estimates\n",
      "0  Petunia     1              0.1646296232331118\n",
      "1  Petunia     2             0.17331291734487358\n",
      "2  Petunia     3             0.18976300046285227\n",
      "3  Petunia     4              0.1825578135096611\n",
      "4  Petunia     5             0.36704135169795304\n"
     ]
    }
   ],
   "source": [
    "conceptNames = []\n",
    "colorRow = []\n",
    "for i in range(len(allConcepts)):\n",
    "    for j in range(numColors):\n",
    "        conceptNames.append(allConcepts[i])\n",
    "        colorRow.append(j+1)\n",
    "\n",
    "if trueRatingsPresent == True:\n",
    "    matrix = np.column_stack((np.array(conceptNames), np.array(colorRow), np.array(win1_50).flatten(), np.array(win2_50).flatten()))\n",
    "else:\n",
    "    matrix = np.column_stack((np.array(conceptNames), np.array(colorRow), np.array(win2_50).flatten()))\n",
    "    \n",
    "print(matrix.shape)\n",
    "if trueRatingsPresent == True:\n",
    "    df = pd.DataFrame(matrix, columns = [\"Concept\",\"Color\",\"True Rating\",\"Sector+Category Model Estimates\"])\n",
    "else:\n",
    "    df = pd.DataFrame(matrix, columns = [\"Concept\",\"Color\",\"Sector+Category Model Estimates\"])\n",
    "\n",
    "## save to csv file\n",
    "print(df.head())\n",
    "filepath = 'EstimatesNewConcepts.csv'\n",
    "df.to_csv(filepath, index=False)"
   ]
  },
  {
   "cell_type": "markdown",
   "metadata": {},
   "source": [
    "# Scatter Plots \n",
    "### Modify number of subplots"
   ]
  },
  {
   "cell_type": "code",
   "execution_count": 137,
   "metadata": {},
   "outputs": [],
   "source": [
    "import matplotlib as mpl\n",
    "mpl.rcParams.update({'font.size': 9})\n",
    "def createScatterPlots(indices, win0, win1, win2,numImages):\n",
    "    model_num = 3\n",
    "    print(\"----------------------- Creating plots for Model ---------------Sector+Category\")\n",
    "    # print(indices)\n",
    "    # print(win0)\n",
    "    \n",
    "    k = 1\n",
    "    plt.close('all')\n",
    "    #plt.subplots(len(allConcepts),5,1,figsize=(5,4))\n",
    "    for i in range(len(indices)-1,-1,-1):\n",
    "        # Scatter plot\n",
    "\n",
    "        arg = indices[i]\n",
    "        trueRating = win1[arg]\n",
    "        avg_pred = win2[arg]\n",
    "\n",
    "        ax = plt.subplot(2,2,k,aspect='equal') #plt.figure(figsize=(7,7))\n",
    "        #ax = f.add_subplot(3,4,k)\n",
    "        plt.scatter(trueRating,avg_pred,c=colorDataRGB.values[:numColors],marker = 'o',s=15) #, edgecolor = [0,0,0])\n",
    "        if k == 1 or k == 4:\n",
    "            plt.ylabel('Mean Predicted Rating')\n",
    "        plt.xlabel('Mean Rating')\n",
    "        s = allConcepts[arg]+\"( %.2f )\" %win0[arg]\n",
    "        #print(s)\n",
    "        plt.title(s)\n",
    "        plt.xlim(0,1)\n",
    "        plt.ylim(0,1)\n",
    "        plt.yticks([0,0.5,1])\n",
    "        plt.xticks([0,0.5,1])\n",
    "        plt.tick_params(direction='in')\n",
    "        plt.plot(np.unique(trueRating), np.poly1d(np.polyfit(trueRating, avg_pred, 1))(np.unique(trueRating)),'k--')\n",
    "        k = k+1\n",
    "    plotName = \"Test_ScatterPlot_Model_\"+str(numImages)+\".pdf\"\n",
    "    plt.tight_layout()\n",
    "    plt.subplots_adjust(wspace=0.3, hspace=0.5)\n",
    "    #plt.savefig(plotName, bbox_inches = 'tight', pad_inches = 0)\n",
    "    plt.show()\n",
    "    \n",
    "    \n"
   ]
  },
  {
   "cell_type": "code",
   "execution_count": 138,
   "metadata": {},
   "outputs": [
    {
     "name": "stdout",
     "output_type": "stream",
     "text": [
      "----------------------- Creating plots for Model ---------------Sector+Category\n"
     ]
    },
    {
     "data": {
      "image/png": "[encoded data removed]",
      "text/plain": [
       "<Figure size 432x288 with 4 Axes>"
      ]
     },
     "metadata": {},
     "output_type": "display_data"
    }
   ],
   "source": [
    "if trueRatingsPresent == True:\n",
    "    indices = np.argsort(win0_50)\n",
    "    createScatterPlots(indices, win0_50, win1_50, win2_50,50)"
   ]
  },
  {
   "cell_type": "code",
   "execution_count": 111,
   "metadata": {},
   "outputs": [
    {
     "data": {
      "image/png": "[encoded data removed]",
      "text/plain": [
       "<Figure size 360x216 with 1 Axes>"
      ]
     },
     "metadata": {},
     "output_type": "display_data"
    }
   ],
   "source": [
    "if trueRatingsPresent == True:\n",
    "    plt.close('all')\n",
    "    barWidth = 0.1\n",
    "    #r1 = [0.4,0.8,1.2,1.6,2,2.4]\n",
    "    r1 = [0.1+(0.3*x) for x in range(len(allConcepts))]\n",
    "    r2 = [x + barWidth for x in r1]\n",
    "    r3 = [x + 2*barWidth for x in r1]\n",
    "\n",
    "    #t.bar(r1, bars1, width = barWidth, color = 'blue', edgecolor = 'black', yerr=yer1, capsize=7, label='poacee')\n",
    "    fig = plt.figure(figsize =(5,3)) # (3,1.5)\n",
    "\n",
    "    mline3 = plt.stem(r1,correlation_50,label='Sector + Category')\n",
    "    plt.setp(mline3, color=[0,0,0], linewidth=1.5, markersize = 3)\n",
    "\n",
    "    plt.xticks(r1,allConcepts)\n",
    "    plt.yticks([0,0.5,1])\n",
    "    plt.tick_params(direction='in')\n",
    "    plt.title(\"Correlation in Test Concepts\")\n",
    "    plt.ylabel('Correlation')\n",
    "    plt.legend()\n",
    "\n",
    "    plt.tight_layout()\n",
    "    #plt.savefig('NewConcepts_Correlation.pdf')\n",
    "    plt.show()\n"
   ]
  },
  {
   "cell_type": "code",
   "execution_count": null,
   "metadata": {},
   "outputs": [],
   "source": []
  }
 ],
 "metadata": {
  "kernelspec": {
   "display_name": "Python 3",
   "language": "python",
   "name": "python3"
  },
  "language_info": {
   "codemirror_mode": {
    "name": "ipython",
    "version": 3
   },
   "file_extension": ".py",
   "mimetype": "text/x-python",
   "name": "python",
   "nbconvert_exporter": "python",
   "pygments_lexer": "ipython3",
   "version": "3.6.3"
  }
 },
 "nbformat": 4,
 "nbformat_minor": 2
}
